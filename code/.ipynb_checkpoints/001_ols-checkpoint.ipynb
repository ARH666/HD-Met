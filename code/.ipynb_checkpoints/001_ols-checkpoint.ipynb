{
 "cells": [
  {
   "cell_type": "markdown",
   "id": "71273f03-c8f7-4335-8a54-baba220d132f",
   "metadata": {},
   "source": [
    "# Least Squares"
   ]
  },
  {
   "cell_type": "code",
   "execution_count": 1,
   "id": "8bb3fbe5-a1d1-424a-be13-bf41f4ffc8a8",
   "metadata": {},
   "outputs": [],
   "source": [
    "%%capture\n",
    "import stata_setup, os\n",
    "if os.name == 'nt':\n",
    "    stata_setup.config('C:/Program Files/Stata17/','mp')\n",
    "else:\n",
    "    stata_setup.config('/usr/local/stata17','mp')"
   ]
  },
  {
   "cell_type": "markdown",
   "id": "112b05b1-5300-4c59-92bc-959324880ddf",
   "metadata": {},
   "source": [
    "We load the data, rename the outcome variable, generate the indicator variables for ```year``` and ```cluster``` and define local Stata variables called ```journals``` and ```jel_imp``` which collects all relevant indicators."
   ]
  },
  {
   "cell_type": "code",
   "execution_count": 2,
   "id": "5aaeb4d9-fb3b-491f-a7e5-97c0eb812dee",
   "metadata": {},
   "outputs": [
    {
     "name": "stdout",
     "output_type": "stream",
     "text": [
      "\n"
     ]
    }
   ],
   "source": [
    "%%stata -qui\n",
    "\n",
    "use \"../data/data\", clear\n",
    "rename log_flesch_kincaid_grade_level FKG\n",
    "quietly tabulate year, generate(y_)\n",
    "quietly tabulate cluster, generate(c_)\n",
    "\n",
    "local journals  ecm jpe qje res  //AER based category\n",
    "\n",
    "local jel_imp a_imp b_imp c_imp  e_imp f_imp g_imp h_imp i_imp j_imp k_imp /// \n",
    "\t\tl_imp m_imp n_imp o_imp p_imp q_imp r_imp y_imp z_imp // D JEL based case"
   ]
  },
  {
   "cell_type": "markdown",
   "id": "c4813f7c-b80b-426d-99c7-63827cbec5c9",
   "metadata": {},
   "source": [
    "Performing the OLS regression of $\\mathbf{Y}$ on $\\mathbf{X}$ using ```Stata```:"
   ]
  },
  {
   "cell_type": "code",
   "execution_count": 3,
   "id": "f734ef44-1ad6-4bb8-9e2e-b2da50145c81",
   "metadata": {},
   "outputs": [
    {
     "name": "stdout",
     "output_type": "stream",
     "text": [
      "\n"
     ]
    }
   ],
   "source": [
    "%%stata -qui\n",
    "#delimit ;\n",
    "reg FKG log_num_authors  log_num_pages both_genders only_females\n",
    "\t\t\t`journals' `jel_imp' y_2-y_20  c_2-c_215  jel_flag, vce(cluster cluster);\n",
    "matrix b_selected = e(b)[1,\"log_num_authors\"],e(b)[1,\"log_num_pages\"],\n",
    "                    e(b)[1,\"both_genders\"],e(b)[1,\"only_females\"],e(b)[1,\"_cons\"];\n",
    "#delimit cr"
   ]
  },
  {
   "cell_type": "markdown",
   "id": "b14cd656-3f2a-4ca2-bfd8-d18ed4fcd662",
   "metadata": {},
   "source": [
    "Printing a subset of\n",
    "the OLS estimate $\\widehat{\\beta}$ (originally a $262\\times 1$ vector)"
   ]
  },
  {
   "cell_type": "code",
   "execution_count": 4,
   "id": "8dd9e41d-a408-44ae-8972-d17b92fd0dee",
   "metadata": {},
   "outputs": [
    {
     "name": "stdout",
     "output_type": "stream",
     "text": [
      "\n",
      "b_selected[1,5]\n",
      "    log_num_au~s  log_num_pa~s  both_genders  only_females         _cons\n",
      "y1    -.00393074     .01922083    -.00761383     -.0222431     2.7024903\n"
     ]
    }
   ],
   "source": [
    "%%stata\n",
    "matrix list b_selected"
   ]
  },
  {
   "cell_type": "code",
   "execution_count": null,
   "id": "2b30e95f-594e-48f8-b7b7-fe3fea762c23",
   "metadata": {},
   "outputs": [],
   "source": []
  }
 ],
 "metadata": {
  "kernelspec": {
   "display_name": "Python 3 (ipykernel)",
   "language": "python",
   "name": "python3"
  },
  "language_info": {
   "codemirror_mode": {
    "name": "ipython",
    "version": 3
   },
   "file_extension": ".py",
   "mimetype": "text/x-python",
   "name": "python",
   "nbconvert_exporter": "python",
   "pygments_lexer": "ipython3",
   "version": "3.11.0"
  }
 },
 "nbformat": 4,
 "nbformat_minor": 5
}
