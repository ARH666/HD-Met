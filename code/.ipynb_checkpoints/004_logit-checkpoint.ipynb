{
 "cells": [
  {
   "cell_type": "code",
   "execution_count": 7,
   "metadata": {},
   "outputs": [],
   "source": [
    "%%capture\n",
    "import stata_setup, os\n",
    "if os.name == 'nt':\n",
    "    stata_setup.config('C:/Program Files/Stata17/','mp')\n",
    "else:\n",
    "    stata_setup.config('/usr/local/stata17','mp')"
   ]
  },
  {
   "cell_type": "code",
   "execution_count": 8,
   "metadata": {},
   "outputs": [
    {
     "name": "stdout",
     "output_type": "stream",
     "text": [
      "\n"
     ]
    }
   ],
   "source": [
    "%%stata -qui\n",
    "\n",
    "use \"../data/data\", clear\n",
    "rename log_flesch_kincaid_grade_level FKG\n",
    "quietly tabulate year, generate(y_)\n",
    "quietly tabulate cluster, generate(c_)\n",
    "\n",
    "local journals  ecm jpe qje res  //AER based category\n",
    "\n",
    "local jel_imp a_imp b_imp c_imp  e_imp f_imp g_imp h_imp i_imp j_imp k_imp /// \n",
    "\t\tl_imp m_imp n_imp o_imp p_imp q_imp r_imp y_imp z_imp // D JEL based case"
   ]
  },
  {
   "cell_type": "code",
   "execution_count": 9,
   "metadata": {},
   "outputs": [
    {
     "name": "stdout",
     "output_type": "stream",
     "text": [
      "\n"
     ]
    }
   ],
   "source": [
    "%%stata -qui\n",
    "summarize flesch_kincaid_grade_level, detail\n",
    "local cutoff = r(p90)\n",
    "gen int FKG_01 = (flesch_kincaid_grade_level >= `cutoff')"
   ]
  },
  {
   "cell_type": "code",
   "execution_count": 11,
   "metadata": {},
   "outputs": [
    {
     "name": "stdout",
     "output_type": "stream",
     "text": [
      "\n"
     ]
    }
   ],
   "source": [
    "%%stata -qui\n",
    "#delimit ;\n",
    "logit FKG_01 log_num_authors log_num_pages both_genders prop_women\n",
    "\t\t\t `journals' `jel_imp' y_2-y_20  c_2-c_215  jel_flag, vce(cluster cluster);\n",
    "#delimit cr"
   ]
  },
  {
   "cell_type": "code",
   "execution_count": 12,
   "metadata": {},
   "outputs": [
    {
     "name": "stdout",
     "output_type": "stream",
     "text": [
      "\n",
      "-----------------------------------------------------------------\n",
      "                                          Variable |   Active    \n",
      "---------------------------------------------------+-------------\n",
      "                Logarithm of the number of authors | -0.2194***  \n",
      "                  Logarithm of the number of pages |  0.4182***  \n",
      "    Indicator if author team includes both genders |  0.2597*    \n",
      "             Proportion of women among the authors | -0.5166**   \n",
      "-----------------------------------------------------------------\n",
      "                         Legend: * p<0.05; ** p<0.01; *** p<0.001\n"
     ]
    }
   ],
   "source": [
    "%%stata\n",
    "estimates table, keep(log_num_authors log_num_pages both_genders prop_women) b(%5.4f) star varwidth(50) varlabel"
   ]
  },
  {
   "cell_type": "code",
   "execution_count": 13,
   "metadata": {},
   "outputs": [
    {
     "name": "stdout",
     "output_type": "stream",
     "text": [
      "\n",
      "Logistic model for FKG_01\n",
      "\n",
      "              -------- True --------\n",
      "Classified |         D            ~D  |      Total\n",
      "-----------+--------------------------+-----------\n",
      "     +     |        25            16  |         41\n",
      "     -     |       463          4045  |       4508\n",
      "-----------+--------------------------+-----------\n",
      "   Total   |       488          4061  |       4549\n",
      "\n",
      "Classified + if predicted Pr(D) >= .5\n",
      "True D defined as FKG_01 != 0\n",
      "--------------------------------------------------\n",
      "Sensitivity                     Pr( +| D)    5.12%\n",
      "Specificity                     Pr( -|~D)   99.61%\n",
      "Positive predictive value       Pr( D| +)   60.98%\n",
      "Negative predictive value       Pr(~D| -)   89.73%\n",
      "--------------------------------------------------\n",
      "False + rate for true ~D        Pr( +|~D)    0.39%\n",
      "False - rate for true D         Pr( -| D)   94.88%\n",
      "False + rate for classified +   Pr(~D| +)   39.02%\n",
      "False - rate for classified -   Pr( D| -)   10.27%\n",
      "--------------------------------------------------\n",
      "Correctly classified                        89.47%\n",
      "--------------------------------------------------\n"
     ]
    }
   ],
   "source": [
    "%stata estat class"
   ]
  },
  {
   "cell_type": "code",
   "execution_count": null,
   "metadata": {},
   "outputs": [],
   "source": []
  }
 ],
 "metadata": {
  "kernelspec": {
   "display_name": "Python 3",
   "language": "python",
   "name": "python3"
  },
  "language_info": {
   "codemirror_mode": {
    "name": "ipython",
    "version": 3
   },
   "file_extension": ".py",
   "mimetype": "text/x-python",
   "name": "python",
   "nbconvert_exporter": "python",
   "pygments_lexer": "ipython3",
   "version": "3.9.6"
  }
 },
 "nbformat": 4,
 "nbformat_minor": 2
}
