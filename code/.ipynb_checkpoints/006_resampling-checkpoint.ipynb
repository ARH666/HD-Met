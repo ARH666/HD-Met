{
 "cells": [
  {
   "cell_type": "code",
   "execution_count": 3,
   "id": "d19de6d6-2cd1-40d8-9a60-7e7ca468cebb",
   "metadata": {},
   "outputs": [],
   "source": [
    "%%capture\n",
    "import stata_setup, os\n",
    "if os.name == 'nt':\n",
    "    stata_setup.config('C:/Program Files/Stata17/','mp')\n",
    "else:\n",
    "    stata_setup.config('/usr/local/stata17','mp')"
   ]
  },
  {
   "cell_type": "markdown",
   "id": "85d7b727-46ac-4bfc-bdbd-5d08b0d7d22d",
   "metadata": {},
   "source": [
    "## Resampling Methods"
   ]
  },
  {
   "cell_type": "code",
   "execution_count": 4,
   "id": "62eee19d-0cbb-44b3-8552-5d09d4a183d5",
   "metadata": {},
   "outputs": [
    {
     "name": "stdout",
     "output_type": "stream",
     "text": [
      "\n"
     ]
    }
   ],
   "source": [
    "%%stata -qui\n",
    "\n",
    "use \"../data/data\", clear\n",
    "rename log_flesch_kincaid_grade_level FKG\n",
    "quietly tabulate year, generate(y_)\n",
    "quietly tabulate cluster, generate(c_)\n",
    "\n",
    "local journals  ecm jpe qje res  //AER based category\n",
    "\n",
    "local jel_imp a_imp b_imp c_imp  e_imp f_imp g_imp h_imp i_imp j_imp k_imp /// \n",
    "\t\tl_imp m_imp n_imp o_imp p_imp q_imp r_imp y_imp z_imp // D JEL based case"
   ]
  },
  {
   "cell_type": "markdown",
   "id": "0ca4da65-533b-4e31-ac68-1befded88a65",
   "metadata": {},
   "source": [
    "### Cross-Validation\n",
    "#### Validation Set Approach"
   ]
  },
  {
   "cell_type": "code",
   "execution_count": 5,
   "id": "69ea103d-3c45-4d09-a344-36bb0b202eac",
   "metadata": {},
   "outputs": [
    {
     "name": "stdout",
     "output_type": "stream",
     "text": [
      "\n",
      ". splitsample , generate(sample) split(.80 .20) rseed(52)\n",
      "\n",
      ". label define slabel 1 \"Training\" 2 \"Validation\"\n",
      "\n",
      ". label values sample slabel\n",
      "\n",
      ". tabulate sample\n",
      "\n",
      "     sample |      Freq.     Percent        Cum.\n",
      "------------+-----------------------------------\n",
      "   Training |      3,990       79.99       79.99\n",
      " Validation |        998       20.01      100.00\n",
      "------------+-----------------------------------\n",
      "      Total |      4,988      100.00\n",
      "\n",
      ". \n"
     ]
    }
   ],
   "source": [
    "%%stata\n",
    "splitsample , generate(sample) split(.80 .20) rseed(52)\n",
    "label define slabel 1 \"Training\" 2 \"Validation\"\n",
    "label values sample slabel\n",
    "tabulate sample"
   ]
  },
  {
   "cell_type": "code",
   "execution_count": 6,
   "id": "1b3aae03-fe43-42b8-ab6f-fc070c8aed24",
   "metadata": {},
   "outputs": [
    {
     "name": "stdout",
     "output_type": "stream",
     "text": [
      "\n",
      ". #delimit ;\n",
      "delimiter now ;\n",
      ". qui reg FKG log_num_authors log_num_pages both_genders prop_women\n",
      ">         `journals' `jel_imp' y_2-y_20  c_2-c_215  jel_flag\n",
      ">         if sample==1;\n",
      "\n",
      ". #delimit cr\n",
      "delimiter now cr\n",
      ". estimates store ols\n",
      "\n",
      ". lassogof ols, over(sample)\n",
      "\n",
      "Penalized coefficients\n",
      "-------------------------------------------------------------\n",
      "Name             sample |         MSE    R-squared        Obs\n",
      "------------------------+------------------------------------\n",
      "ols                     |\n",
      "               Training |    .0254076       0.1079      3,990\n",
      "             Validation |    .0279823      -0.0476        998\n",
      "-------------------------------------------------------------\n",
      "\n",
      ". \n"
     ]
    }
   ],
   "source": [
    "%%stata\n",
    "#delimit ;\n",
    "qui reg FKG log_num_authors log_num_pages both_genders prop_women\n",
    "        `journals' `jel_imp' y_2-y_20  c_2-c_215  jel_flag\n",
    "        if sample==1;\n",
    "#delimit cr\n",
    "estimates store ols\n",
    "lassogof ols, over(sample)"
   ]
  },
  {
   "cell_type": "markdown",
   "id": "1df9bcda-ff86-402e-bd0d-55096f31a6d9",
   "metadata": {},
   "source": [
    "#### Leave-One-Out Cross-Validation"
   ]
  },
  {
   "cell_type": "markdown",
   "id": "8ebd1449-3951-4ccf-9e8d-e469c6245ec5",
   "metadata": {},
   "source": [
    "One needs to install the user-written package ```loocv``` by issuing the command ```ssc install loocv``` before executing the following code:"
   ]
  },
  {
   "cell_type": "code",
   "execution_count": 1,
   "id": "cb7237b6-ac1b-4d50-9413-0bd2c0eb4094",
   "metadata": {},
   "outputs": [
    {
     "name": "stderr",
     "output_type": "stream",
     "text": [
      "UsageError: Cell magic `%%stata` not found.\n"
     ]
    }
   ],
   "source": [
    "%%stata\n",
    "egen journal1 = group(journal)\n",
    "#delimit ;\n",
    "loocv reghdfe FKG log_num_authors log_num_pages both_genders prop_women,\n",
    "        absorb(journal1 a_imp b_imp c_imp  e_imp f_imp g_imp h_imp\n",
    "               i_imp j_imp k_imp l_imp m_imp n_imp o_imp p_imp q_imp r_imp y_imp z_imp\n",
    "               year ib0.cluster jel_flag) vce(cluster cluster);\n",
    "#delimit cr"
   ]
  },
  {
   "cell_type": "markdown",
   "id": "ec6c0dde-7da9-4f13-8069-e69e2c240e4f",
   "metadata": {},
   "source": [
    "Given the original sample $\\{Y_1,\\ldots,Y_n\\}$ and the loocv predictions $\\{\\widehat{Y}_1,\\ldots,\\widehat{Y}_n\\}$, then\n",
    "$$\n",
    "\\begin{align}\n",
    "\\text{Root Mean Squared Errors}&=&\\sqrt{n^{-1}\\sum_{i=1}^n(Y_i-\\widehat{Y}_i)^2}\\\\\n",
    "\\text{Mean Absolute Errors}&=&n^{-1}\\sum_{i=1}^n|Y_i-\\widehat{Y}_i|\\\\\n",
    "\\text{Pseudo-R2}&=&\\widehat{\\text{corr}}(Y_i,\\widehat{Y}_i)^2\n",
    "\\end{align}\n",
    "$$"
   ]
  },
  {
   "cell_type": "markdown",
   "id": "fffc4593-b59a-45de-98a7-29426a40fc65",
   "metadata": {},
   "source": [
    "#### _k_-Fold Cross-Validation"
   ]
  },
  {
   "cell_type": "markdown",
   "id": "ad7559b7-3ff3-4fcf-a94d-71f6a2c2c859",
   "metadata": {},
   "source": [
    "One needs to install the user-written package ```crossfold``` by issuing the command ```ssc install crossfold``` before executing the following code:"
   ]
  },
  {
   "cell_type": "code",
   "execution_count": 8,
   "id": "2f84bb8f-6a10-4990-a62a-ffec71430119",
   "metadata": {},
   "outputs": [
    {
     "name": "stdout",
     "output_type": "stream",
     "text": [
      "\n",
      ". #delimit ;\n",
      "delimiter now ;\n",
      ". crossfold reg FKG log_num_authors log_num_pages both_genders prop_women\n",
      ">               `journals' `jel_imp' y_2-y_20  c_2-c_215  jel_flag,\n",
      ">               k(5) stub(fold);\n",
      "\n",
      "             |      RMSE \n",
      "-------------+-----------\n",
      "       fold1 |  .1711304 \n",
      "       fold2 |  .1667015 \n",
      "       fold3 |  .1716293 \n",
      "       fold4 |    .16689 \n",
      "       fold5 |  .1722182 \n",
      "\n",
      ". #delimit cr\n",
      "delimiter now cr\n",
      ". \n"
     ]
    }
   ],
   "source": [
    "%%stata\n",
    "#delimit ;\n",
    "crossfold reg FKG log_num_authors log_num_pages both_genders prop_women\n",
    "              `journals' `jel_imp' y_2-y_20  c_2-c_215  jel_flag,\n",
    "              k(5) stub(fold);\n",
    "#delimit cr"
   ]
  },
  {
   "cell_type": "markdown",
   "id": "7c956b0b-593a-4572-80c1-85b47c928a70",
   "metadata": {},
   "source": [
    "Displaying the OLS estimates from the 2th fold"
   ]
  },
  {
   "cell_type": "code",
   "execution_count": null,
   "id": "b480d4ae-6995-475c-955a-ec43bcb3e241",
   "metadata": {},
   "outputs": [
    {
     "name": "stdout",
     "output_type": "stream",
     "text": [
      "(results fold2 are active now)\n"
     ]
    }
   ],
   "source": [
    "%%stata -eret steret\n",
    "estimates restore fold2"
   ]
  },
  {
   "cell_type": "code",
   "execution_count": null,
   "id": "3edf2902-1ee4-4516-b2ed-390239a70ddd",
   "metadata": {},
   "outputs": [],
   "source": [
    "steret['e(b)']"
   ]
  },
  {
   "cell_type": "code",
   "execution_count": null,
   "id": "d08b9dcd-9a85-4694-aa74-735996210381",
   "metadata": {},
   "outputs": [],
   "source": [
    "import pandas as pd\n",
    "from pystata import stata\n",
    "from sfi import Scalar, Matrix\n",
    "stata.run('qui crossfold regress react no2_class $cc i.$fc, k(5) stub(fold)')\n",
    "df_rmse = pd.DataFrame(sum(Matrix.get('r(fold)'),[]))\n",
    "rows = Matrix.getRowNames('r(fold)')\n",
    "\n",
    "stata.run('qui crossfold regress react no2_class $cc i.$fc, k(5) stub(fold) mae')\n",
    "df_mae = pd.DataFrame(sum(Matrix.get('r(fold)'),[]))\n",
    "\n",
    "stata.run('qui crossfold regress react no2_class $cc i.$fc, k(5) stub(fold) r2')\n",
    "df_r2 = pd.DataFrame(sum(Matrix.get('r(fold)'),[]))\n",
    "\n",
    "# Export to result with Dataframe format\n",
    "result = pd.concat([df_rmse,df_mae,df_r2],axis=1)\n",
    "result.columns = ['RMSE','MAE','pseudo R2']\n",
    "result.index = rows\n",
    "print(result)"
   ]
  },
  {
   "cell_type": "markdown",
   "id": "f4cf219a-e688-4554-adaa-787e3f0cd0f3",
   "metadata": {},
   "source": [
    "In this case $\\sqrt{CV_{(5)}}$ equals"
   ]
  },
  {
   "cell_type": "code",
   "execution_count": null,
   "id": "bda939e0-3af8-4654-bfe0-59bff0205adf",
   "metadata": {},
   "outputs": [],
   "source": [
    "import math as math\n",
    "import statistics as st\n",
    "print(math.sqrt(st.mean(result['RMSE']**2)))"
   ]
  }
 ],
 "metadata": {
  "kernelspec": {
   "display_name": "Python 3 (ipykernel)",
   "language": "python",
   "name": "python3"
  },
  "language_info": {
   "codemirror_mode": {
    "name": "ipython",
    "version": 3
   },
   "file_extension": ".py",
   "mimetype": "text/x-python",
   "name": "python",
   "nbconvert_exporter": "python",
   "pygments_lexer": "ipython3",
   "version": "3.12.3"
  },
  "vscode": {
   "interpreter": {
    "hash": "11938c6bc6919ae2720b4d5011047913343b08a43b18698fd82dedb0d4417594"
   }
  }
 },
 "nbformat": 4,
 "nbformat_minor": 5
}
