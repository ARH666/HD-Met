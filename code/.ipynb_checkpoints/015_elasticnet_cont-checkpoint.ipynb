{
 "cells": [
  {
   "cell_type": "code",
   "execution_count": 1,
   "metadata": {},
   "outputs": [],
   "source": [
    "%%capture\n",
    "import stata_setup, os\n",
    "if os.name == 'nt':\n",
    "    stata_setup.config('C:/Program Files/Stata17/','mp')\n",
    "else:\n",
    "    stata_setup.config('/usr/local/stata17','mp')"
   ]
  },
  {
   "cell_type": "markdown",
   "metadata": {},
   "source": [
    "## Data Preparation"
   ]
  },
  {
   "cell_type": "code",
   "execution_count": 2,
   "metadata": {},
   "outputs": [
    {
     "name": "stdout",
     "output_type": "stream",
     "text": [
      "\n"
     ]
    }
   ],
   "source": [
    "%%stata -qui\n",
    "\n",
    "use \"../data/data\", clear\n",
    "\n",
    "quietly tabulate year, generate(y_)\n",
    "quietly tabulate cluster, generate(c_)\n",
    "\n",
    "* Generate the Flesch-Kincaid Grade Level indicator\n",
    "summarize flesch_kincaid_grade_level, detail\n",
    "local cutoff = r(p90)\n",
    "gen int FKG_01 = (flesch_kincaid_grade_level >= `cutoff')\n",
    "\n",
    "* Generate the excess number of sentences count\n",
    "summarize num_sentences, detail\n",
    "local cutoff_sentences = r(p5)\n",
    "gen int excess_sentences = num_sentences - `cutoff_sentences'\n",
    "replace excess_sentences = 0 if excess_sentences < 0\n",
    "\n",
    "local journals  ecm jpe qje res  //AER based category\n",
    "\n",
    "local jel_imp a_imp b_imp c_imp  e_imp f_imp g_imp h_imp i_imp j_imp k_imp /// \n",
    "\t\tl_imp m_imp n_imp o_imp p_imp q_imp r_imp y_imp z_imp // D JEL based case\n",
    "\n",
    "\n",
    "#delimit ;\n",
    "vl set log_num_authors log_num_pages both_genders prop_women\n",
    "       `journals' `jel_imp' y_2-y_20  c_2-c_215 jel_flag\n",
    "       , dummy clear nonotes;\n",
    "vl create fe = vldummy - (both_genders jel_flag);\n",
    "vl substitute mfe = i.fe;\n",
    "vl create controls = vlcontinuous - (prop_women);\n",
    "vl create controls_dummy = (both_genders jel_flag);\n",
    "vl substitute baseline = i.controls_dummy controls;\n",
    "vl rebuild;\n",
    "#delimit cr"
   ]
  },
  {
   "cell_type": "markdown",
   "metadata": {},
   "source": [
    "# Elastic Net - Logistic"
   ]
  },
  {
   "cell_type": "code",
   "execution_count": 3,
   "metadata": {},
   "outputs": [
    {
     "name": "stdout",
     "output_type": "stream",
     "text": [
      "\n"
     ]
    }
   ],
   "source": [
    "%%stata -qui -eret steret\n",
    "#delimit ;\n",
    "elasticnet logit FKG_01 prop_women $baseline $mfe, alpha(0.99) lambda(0.02) nolog;\n",
    "#delimit cr"
   ]
  },
  {
   "cell_type": "code",
   "execution_count": 4,
   "metadata": {},
   "outputs": [
    {
     "name": "stdout",
     "output_type": "stream",
     "text": [
      "------------------------------------------------------------------------------\n",
      "      FKG_01 | Coefficient\n",
      "-------------+----------------------------------------------------------------\n",
      "         c_4 |\n",
      "          0  |  -.3811678\n",
      "          1  |   .3843454\n",
      "             |\n",
      "       _cons |  -1.816232\n",
      "------------------------------------------------------------------------------\n"
     ]
    }
   ],
   "source": [
    "%stata ereturn display"
   ]
  },
  {
   "cell_type": "markdown",
   "metadata": {},
   "source": [
    "# Elastic Net - Poisson"
   ]
  },
  {
   "cell_type": "code",
   "execution_count": 5,
   "metadata": {},
   "outputs": [
    {
     "name": "stdout",
     "output_type": "stream",
     "text": [
      "\n"
     ]
    }
   ],
   "source": [
    "%%stata -qui -eret steret\n",
    "#delimit ;\n",
    "elasticnet poisson excess_sentences prop_women $baseline $mfe, alpha(0.7) lambda(.1) nolog;\n",
    "#delimit cr"
   ]
  },
  {
   "cell_type": "code",
   "execution_count": 6,
   "metadata": {},
   "outputs": [
    {
     "name": "stdout",
     "output_type": "stream",
     "text": [
      "------------------------------------------------------------------------------\n",
      "excess_sen~s | Coefficient\n",
      "-------------+----------------------------------------------------------------\n",
      "log_num_pa~s |   .3588161\n",
      "             |\n",
      "         ecm |\n",
      "          0  |  -.1451147\n",
      "          1  |   .1451147\n",
      "             |\n",
      "         qje |\n",
      "          0  |  -.0868885\n",
      "          1  |   .0868885\n",
      "             |\n",
      "         res |\n",
      "          0  |  -.1660911\n",
      "          1  |   .1660911\n",
      "             |\n",
      "       c_imp |\n",
      "          0  |  -.0183949\n",
      "          1  |   .0183949\n",
      "             |\n",
      "        c_86 |\n",
      "          0  |  -.1177174\n",
      "          1  |   .1177467\n",
      "             |\n",
      "       c_114 |\n",
      "          0  |  -.2093475\n",
      "          1  |   .2098763\n",
      "             |\n",
      "       c_136 |\n",
      "          0  |  -.5765329\n",
      "          1  |   .5765334\n",
      "             |\n",
      "       c_142 |\n",
      "          0  |  -.0506581\n",
      "          1  |   .0506593\n",
      "             |\n",
      "       c_174 |\n",
      "          0  |  -.0596673\n",
      "          1  |   .0596695\n",
      "             |\n",
      "       _cons |   .9339063\n",
      "------------------------------------------------------------------------------\n"
     ]
    }
   ],
   "source": [
    "%stata ereturn display"
   ]
  }
 ],
 "metadata": {
  "kernelspec": {
   "display_name": "Python 3 (ipykernel)",
   "language": "python",
   "name": "python3"
  },
  "language_info": {
   "codemirror_mode": {
    "name": "ipython",
    "version": 3
   },
   "file_extension": ".py",
   "mimetype": "text/x-python",
   "name": "python",
   "nbconvert_exporter": "python",
   "pygments_lexer": "ipython3",
   "version": "3.11.0"
  }
 },
 "nbformat": 4,
 "nbformat_minor": 4
}
