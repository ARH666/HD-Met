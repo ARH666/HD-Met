{
 "cells": [
  {
   "cell_type": "markdown",
   "id": "71273f03-c8f7-4335-8a54-baba220d132f",
   "metadata": {},
   "source": [
    "# Least Squares"
   ]
  },
  {
   "cell_type": "code",
   "execution_count": 1,
   "id": "8bb3fbe5-a1d1-424a-be13-bf41f4ffc8a8",
   "metadata": {},
   "outputs": [],
   "source": [
    "%%capture\n",
    "import stata_setup, os\n",
    "if os.name == 'nt':\n",
    "    stata_setup.config('C:/Program Files/Stata17/','mp')\n",
    "else:\n",
    "    stata_setup.config('/usr/local/stata17','mp')"
   ]
  },
  {
   "cell_type": "markdown",
   "id": "112b05b1-5300-4c59-92bc-959324880ddf",
   "metadata": {},
   "source": [
    "We load the data, rename the outcome variable, generate the indicator variables for ```year``` and ```cluster``` and define local Stata variables called ```journals``` and ```jel_imp``` which collects all relevant indicators."
   ]
  },
  {
   "cell_type": "code",
   "execution_count": 2,
   "id": "5aaeb4d9-fb3b-491f-a7e5-97c0eb812dee",
   "metadata": {},
   "outputs": [
    {
     "name": "stdout",
     "output_type": "stream",
     "text": [
      "\n"
     ]
    }
   ],
   "source": [
    "%%stata -qui\n",
    "\n",
    "use \"../data/data\", clear\n",
    "rename log_flesch_kincaid_grade_level FKG\n",
    "quietly tabulate year, generate(y_)\n",
    "quietly tabulate cluster, generate(c_)\n",
    "\n",
    "local journals  ecm jpe qje res  //AER based category\n",
    "\n",
    "local jel_imp a_imp b_imp c_imp  e_imp f_imp g_imp h_imp i_imp j_imp k_imp /// \n",
    "\t\tl_imp m_imp n_imp o_imp p_imp q_imp r_imp y_imp z_imp // D JEL based case"
   ]
  },
  {
   "cell_type": "markdown",
   "id": "c4813f7c-b80b-426d-99c7-63827cbec5c9",
   "metadata": {},
   "source": [
    "Performing the OLS regression of $\\mathbf{Y}$ on $\\mathbf{X}$ using ```Stata```:"
   ]
  },
  {
   "cell_type": "code",
   "execution_count": 3,
   "id": "f734ef44-1ad6-4bb8-9e2e-b2da50145c81",
   "metadata": {},
   "outputs": [
    {
     "name": "stdout",
     "output_type": "stream",
     "text": [
      "\n"
     ]
    }
   ],
   "source": [
    "%%stata -qui\n",
    "#delimit ;\n",
    "reg FKG log_num_authors  log_num_pages both_genders prop_women\n",
    "\t\t\t`journals' `jel_imp' y_2-y_20  c_2-c_215  jel_flag, vce(cluster cluster);\n",
    "matrix b_selected = e(b)[1,\"log_num_authors\"],e(b)[1,\"log_num_pages\"],\n",
    "                    e(b)[1,\"both_genders\"],e(b)[1,\"prop_women\"],e(b)[1,\"_cons\"];\n",
    "#delimit cr"
   ]
  },
  {
   "cell_type": "markdown",
   "id": "b14cd656-3f2a-4ca2-bfd8-d18ed4fcd662",
   "metadata": {},
   "source": [
    "Printing a subset of\n",
    "the OLS estimate $\\widehat{\\beta}$ (originally a $262\\times 1$ vector)"
   ]
  },
  {
   "cell_type": "code",
   "execution_count": 4,
   "id": "8dd9e41d-a408-44ae-8972-d17b92fd0dee",
   "metadata": {},
   "outputs": [
    {
     "name": "stdout",
     "output_type": "stream",
     "text": [
      "\n",
      "b_selected[1,5]\n",
      "    log_num_au~s  log_num_pa~s  both_genders    prop_women         _cons\n",
      "y1    -.00397377     .01915903     .00059809    -.01889331     2.7023992\n"
     ]
    }
   ],
   "source": [
    "%%stata\n",
    "matrix list b_selected"
   ]
  },
  {
   "cell_type": "markdown",
   "id": "bab53f34-0874-43a5-a9fa-bbed742c5ec3",
   "metadata": {},
   "source": [
    "Predicting the _fitted values_ and the _residuals_, then format them to be displayed with up to 4 decimals only along with other variables."
   ]
  },
  {
   "cell_type": "code",
   "execution_count": 5,
   "id": "b8928743-f3b4-4bc5-8fb8-bb41f5f1a997",
   "metadata": {},
   "outputs": [
    {
     "name": "stdout",
     "output_type": "stream",
     "text": [
      "\n"
     ]
    }
   ],
   "source": [
    "%%stata -qui\n",
    "predict FKG_hat, xb\n",
    "predict double e_hat, residuals\n",
    "format FKG FKG_hat e_hat log_num_authors log_num_pages %5.4f "
   ]
  },
  {
   "cell_type": "markdown",
   "id": "ecf0c337-56c2-4c13-a18d-1611040739bf",
   "metadata": {},
   "source": [
    "These command randomly sorts the rows of the data set in memory."
   ]
  },
  {
   "cell_type": "code",
   "execution_count": 6,
   "id": "f0949101-760b-400a-8200-4b065a9e9b8f",
   "metadata": {},
   "outputs": [
    {
     "name": "stdout",
     "output_type": "stream",
     "text": [
      "\n"
     ]
    }
   ],
   "source": [
    "%%stata -qui\n",
    "#delimit ;\n",
    "set seed 42; tempvar sortorder; gen `sortorder' = runiform(); sort `sortorder';\n",
    "#delimit cr"
   ]
  },
  {
   "cell_type": "code",
   "execution_count": 7,
   "id": "a408f4e1-901d-4a2a-ad48-5a06ae5bb51e",
   "metadata": {},
   "outputs": [
    {
     "name": "stdout",
     "output_type": "stream",
     "text": [
      "\n",
      "     +------------------------------------------------------------------------+\n",
      "     |    FKG   FKG_hat     e_hat   log_n~rs   log_~ges   both_g~s   prop_w~n |\n",
      "     |------------------------------------------------------------------------|\n",
      "  1. | 2.8015    2.7041    0.0973     0.6931     3.5835          1         .5 |\n",
      "  2. | 2.7776    2.7294    0.0482     0.6931     3.7136          0          0 |\n",
      "  3. | 2.7829    2.7017    0.0812     1.0986     3.1781          0          0 |\n",
      "  4. | 2.7027    2.7289   -0.0262     0.0000     3.5553          0          0 |\n",
      "  5. | 2.8278    2.7167    0.1111     0.6931     3.3322          0          0 |\n",
      "  6. | 2.3858    2.7210   -0.3352     0.6931     3.2958          0          0 |\n",
      "  7. | 2.1718    2.7226   -0.5509     0.0000     3.8286          0          0 |\n",
      "  8. | 2.5743    2.7851   -0.2108     0.0000     3.4657          0          0 |\n",
      "  9. | 2.8177    2.8233   -0.0056     1.0986     4.1589          0          0 |\n",
      " 10. | 2.7264    2.7048    0.0216     1.3863     3.5264          1        .25 |\n",
      " 11. | 2.7479    2.7620   -0.0141     1.0986     3.6889          0          0 |\n",
      " 12. | 2.7395    2.7227    0.0168     0.6931     3.5553          1         .5 |\n",
      " 13. | 2.6606    2.7556   -0.0950     1.0986     3.1781          0          0 |\n",
      " 14. | 2.8647    2.6974    0.1673     0.0000     3.8286          0          0 |\n",
      " 15. | 3.0438    2.7470    0.2968     0.6931     3.9120          0          0 |\n",
      " 16. | 2.4055    2.7176   -0.3121     0.6931     3.4965          0          0 |\n",
      " 17. | 2.5595    2.7322   -0.1727     0.6931     3.6109          0          0 |\n",
      " 18. | 2.8343    2.6958    0.1386     1.0986     3.9890          0          0 |\n",
      " 19. | 2.8574    2.7618    0.0956     0.0000     3.2189          0          0 |\n",
      " 20. | 2.6740    2.7560   -0.0820     0.6931     3.5264          0          0 |\n",
      "     +------------------------------------------------------------------------+\n"
     ]
    }
   ],
   "source": [
    "%stata list FKG FKG_hat e_hat log_num_authors log_num_pages both_genders prop_women in 1/20, table separator(20)"
   ]
  },
  {
   "cell_type": "markdown",
   "id": "4b3034cb-32ae-4f41-bb55-bd511d334f75",
   "metadata": {},
   "source": [
    "Printing the $TSS$"
   ]
  },
  {
   "cell_type": "code",
   "execution_count": 8,
   "id": "92e381f4-a688-4314-8a1f-9302dc9b682e",
   "metadata": {},
   "outputs": [
    {
     "name": "stdout",
     "output_type": "stream",
     "text": [
      "140.32277\n"
     ]
    }
   ],
   "source": [
    "%stata display e(mss)+e(rss)"
   ]
  },
  {
   "cell_type": "markdown",
   "id": "d0be83e3-d81d-4653-96af-15951adb3ade",
   "metadata": {},
   "source": [
    "Printing the $ESS$"
   ]
  },
  {
   "cell_type": "code",
   "execution_count": 9,
   "id": "430b54e0-485a-4e7b-9ad4-91b9b6f95cff",
   "metadata": {},
   "outputs": [
    {
     "name": "stdout",
     "output_type": "stream",
     "text": [
      "12.920871\n"
     ]
    }
   ],
   "source": [
    "%stata display e(mss)"
   ]
  },
  {
   "cell_type": "markdown",
   "id": "b8991d5c-deb1-4be6-97f3-1c9ffe26d236",
   "metadata": {},
   "source": [
    "Printing the $RSS$"
   ]
  },
  {
   "cell_type": "code",
   "execution_count": 10,
   "id": "22a8b074-59ab-4d60-a70b-a17dee63836f",
   "metadata": {},
   "outputs": [
    {
     "name": "stdout",
     "output_type": "stream",
     "text": [
      "127.4019\n"
     ]
    }
   ],
   "source": [
    "%stata display e(rss)"
   ]
  },
  {
   "cell_type": "markdown",
   "id": "5bc77f7b-6103-4481-86a3-031dd4121da0",
   "metadata": {},
   "source": [
    "Printing the $R^2$"
   ]
  },
  {
   "cell_type": "code",
   "execution_count": 11,
   "id": "de91f325-8869-4d86-9e92-6a0e26878636",
   "metadata": {},
   "outputs": [
    {
     "name": "stdout",
     "output_type": "stream",
     "text": [
      ".09207965\n"
     ]
    }
   ],
   "source": [
    "%stata display e(mss)/(e(mss)+e(rss))"
   ]
  },
  {
   "cell_type": "markdown",
   "id": "1dbd53f0-3ac2-479a-a702-7aa04c4fd3a0",
   "metadata": {},
   "source": [
    "## Leverage Values & LOO Regression"
   ]
  },
  {
   "cell_type": "markdown",
   "id": "2debf605-b89f-4124-8e87-ef6b7372bc9b",
   "metadata": {},
   "source": [
    "Extracting the leverage values"
   ]
  },
  {
   "cell_type": "code",
   "execution_count": 12,
   "id": "ba35b13a-6d68-47ae-934c-efb4c9e42ac8",
   "metadata": {},
   "outputs": [
    {
     "name": "stdout",
     "output_type": "stream",
     "text": [
      "\n"
     ]
    }
   ],
   "source": [
    "%%stata -qui\n",
    "#delimit ;\n",
    "reg FKG log_num_authors  log_num_pages both_genders prop_women\n",
    "\t\t\t`journals' `jel_imp' y_2-y_20  c_2-c_215  jel_flag;\n",
    "#delimit cr\n",
    "predict h, leverage\n",
    "summarize h"
   ]
  },
  {
   "cell_type": "markdown",
   "id": "0706d353-9c71-436d-a111-fa372b5a6f61",
   "metadata": {},
   "source": [
    "Checking that $0\\le h_{ii} \\le 1$"
   ]
  },
  {
   "cell_type": "code",
   "execution_count": 13,
   "id": "756f6265-54b0-4e01-ad9f-003ed7c2d5ed",
   "metadata": {},
   "outputs": [
    {
     "name": "stdout",
     "output_type": "stream",
     "text": [
      "\n",
      ". display \"Min: \" r(min)\n",
      "Min: .00481838\n",
      "\n",
      ". display \"Max: \" r(max)\n",
      "Max: 1\n",
      "\n",
      ". \n"
     ]
    }
   ],
   "source": [
    "%%stata\n",
    "display \"Min: \" r(min)\n",
    "display \"Max: \" r(max)"
   ]
  },
  {
   "cell_type": "markdown",
   "id": "d90e3286-43a0-4a94-a265-9776f674635a",
   "metadata": {},
   "source": [
    "Checking that $h_{ii}\\ge 1/n$ by checking that $\\min_{i=1,\\ldots,n}(h_{ii})\\ge 1/n$"
   ]
  },
  {
   "cell_type": "code",
   "execution_count": 14,
   "id": "e241d384",
   "metadata": {},
   "outputs": [
    {
     "name": "stdout",
     "output_type": "stream",
     "text": [
      "\n",
      ". local sample_size = r(N)\n",
      "\n",
      ". local reciprocal = 1 / `sample_size'\n",
      "\n",
      ". local min_leverage = r(min)\n",
      "\n",
      ". display \"Min leverage >= 1/N: \" (`min_leverage' >= `reciprocal')\n",
      "Min leverage >= 1/N: 1\n",
      "\n",
      ". \n"
     ]
    }
   ],
   "source": [
    "%%stata\n",
    "local sample_size = r(N)\n",
    "local reciprocal = 1 / `sample_size'\n",
    "local min_leverage = r(min)\n",
    "display \"Min leverage >= 1/N: \" (`min_leverage' >= `reciprocal')"
   ]
  },
  {
   "cell_type": "markdown",
   "id": "ca071081-f9c2-4cab-abfa-8325622b2caf",
   "metadata": {},
   "source": [
    "Checking that $\\sum_{i=1}^n h_{ii}=k$"
   ]
  },
  {
   "cell_type": "code",
   "execution_count": 15,
   "id": "fc3a5217",
   "metadata": {},
   "outputs": [
    {
     "name": "stdout",
     "output_type": "stream",
     "text": [
      "\n",
      ". egen total_h = total(h)\n",
      "\n",
      ". local rounded_total_h = ceil(total_h)\n",
      "\n",
      ". display \"Rounded total of h: \" `rounded_total_h'\n",
      "Rounded total of h: 262\n",
      "\n",
      ". \n"
     ]
    }
   ],
   "source": [
    "%%stata\n",
    "egen total_h = total(h)\n",
    "local rounded_total_h = ceil(total_h)\n",
    "display \"Rounded total of h: \" `rounded_total_h'"
   ]
  },
  {
   "cell_type": "code",
   "execution_count": 16,
   "id": "e27fa7ba",
   "metadata": {},
   "outputs": [
    {
     "name": "stdout",
     "output_type": "stream",
     "text": [
      "\n"
     ]
    }
   ],
   "source": [
    "%%stata -qui\n",
    "predict dfbeta, dfbeta(prop_women)\n",
    "cv_regress, generr(e_tilde)"
   ]
  },
  {
   "cell_type": "code",
   "execution_count": 18,
   "id": "c3ff920c",
   "metadata": {},
   "outputs": [],
   "source": [
    "from sfi import Data\n",
    "dfbeta_py = Data.get(\"dfbeta\")\n",
    "e_tilde_py = Data.get(\"e_tilde\")"
   ]
  },
  {
   "cell_type": "code",
   "execution_count": null,
   "id": "b2248541",
   "metadata": {},
   "outputs": [],
   "source": []
  }
 ],
 "metadata": {
  "kernelspec": {
   "display_name": "Python 3 (ipykernel)",
   "language": "python",
   "name": "python3"
  },
  "language_info": {
   "codemirror_mode": {
    "name": "ipython",
    "version": 3
   },
   "file_extension": ".py",
   "mimetype": "text/x-python",
   "name": "python",
   "nbconvert_exporter": "python",
   "pygments_lexer": "ipython3",
   "version": "3.12.3"
  }
 },
 "nbformat": 4,
 "nbformat_minor": 5
}
