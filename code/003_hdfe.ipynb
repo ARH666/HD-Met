{
 "cells": [
  {
   "cell_type": "markdown",
   "metadata": {},
   "source": [
    "# Motivation"
   ]
  },
  {
   "cell_type": "code",
   "execution_count": 1,
   "metadata": {},
   "outputs": [],
   "source": [
    "%%capture\n",
    "import stata_setup, os\n",
    "if os.name == 'nt':\n",
    "    stata_setup.config('C:/Program Files/Stata17/','mp')\n",
    "else:\n",
    "    stata_setup.config('/usr/local/stata17','mp')"
   ]
  },
  {
   "cell_type": "code",
   "execution_count": 2,
   "metadata": {},
   "outputs": [],
   "source": [
    "from sfi import Data\n",
    "from pystata import stata\n",
    "import numpy as np\n",
    "import pandas as pd"
   ]
  },
  {
   "cell_type": "code",
   "execution_count": 3,
   "metadata": {},
   "outputs": [
    {
     "name": "stdout",
     "output_type": "stream",
     "text": [
      "\n"
     ]
    }
   ],
   "source": [
    "%%stata -qui\n",
    "\n",
    "use \"../data/data\", clear\n",
    "rename log_flesch_kincaid_grade_level FKG\n",
    "quietly tabulate year, generate(y_)\n",
    "quietly tabulate cluster, generate(c_)\n",
    "\n",
    "local journals ecm jpe qje res  //AER based category\n",
    "\n",
    "local jel_imp a_imp b_imp c_imp  e_imp f_imp g_imp h_imp i_imp j_imp k_imp ///\n",
    "              l_imp m_imp n_imp o_imp p_imp q_imp r_imp y_imp z_imp // D JEL based case"
   ]
  },
  {
   "cell_type": "code",
   "execution_count": 4,
   "metadata": {},
   "outputs": [],
   "source": [
    "%%capture captured_output\n",
    "stata.run('''\n",
    "          display \"`journals'\"\n",
    "          ''')"
   ]
  },
  {
   "cell_type": "code",
   "execution_count": 5,
   "metadata": {},
   "outputs": [
    {
     "name": "stdout",
     "output_type": "stream",
     "text": [
      "      ecm  jpe  qje  res\n",
      "4707    0    0    0    1\n",
      "3807    0    0    1    0\n",
      "4579    0    0    0    1\n",
      "4551    0    0    0    1\n",
      "101     0    0    0    0\n",
      "4817    0    0    0    1\n",
      "4932    0    0    0    1\n",
      "700     0    0    0    0\n",
      "2711    0    1    0    0\n",
      "3349    0    0    1    0\n"
     ]
    }
   ],
   "source": [
    "output = captured_output.stdout\n",
    "lines = output.splitlines()\n",
    "journals_output = lines[-4].strip()\n",
    "journals = stata.pdataframe_from_data(var=journals_output)\n",
    "print(journals.sample(n=10, random_state=542))\n"
   ]
  },
  {
   "cell_type": "code",
   "execution_count": 6,
   "metadata": {},
   "outputs": [
    {
     "name": "stdout",
     "output_type": "stream",
     "text": [
      "      a_imp  b_imp  c_imp  e_imp  f_imp  g_imp  h_imp  i_imp  j_imp  k_imp  \\\n",
      "4707      0      0      0      0      0      0      0      0      1      0   \n",
      "3807      0      0      0      0      0      1      0      0      0      0   \n",
      "4579      0      0      0      0      0      0      0      0      1      1   \n",
      "4551      0      0      1      0      0      0      0      0      0      0   \n",
      "101       0      0      0      0      0      0      1      0      0      0   \n",
      "4817      0      0      1      1      0      0      0      0      0      0   \n",
      "4932      0      0      0      0      0      0      0      0      1      0   \n",
      "700       0      0      0      0      0      0      0      0      0      1   \n",
      "2711      0      0      0      0      0      0      0      1      1      0   \n",
      "3349      0      0      1      0      0      0      0      0      0      0   \n",
      "\n",
      "      l_imp  m_imp  n_imp  o_imp  p_imp  q_imp  r_imp  y_imp  z_imp  \n",
      "4707      0      0      0      0      0      0      0      0      0  \n",
      "3807      0      0      0      0      0      0      0      0      0  \n",
      "4579      0      0      0      0      0      0      0      0      0  \n",
      "4551      0      0      0      0      0      0      0      0      0  \n",
      "101       0      0      0      1      0      0      0      0      0  \n",
      "4817      0      0      0      0      0      0      0      0      0  \n",
      "4932      0      0      1      0      0      0      0      0      1  \n",
      "700       1      0      0      0      0      0      0      0      0  \n",
      "2711      0      0      0      1      0      0      0      0      1  \n",
      "3349      0      0      0      0      0      0      0      0      0  \n"
     ]
    }
   ],
   "source": [
    "jel_imp = stata.pdataframe_from_data(var=\"a_imp b_imp c_imp  e_imp f_imp g_imp h_imp i_imp j_imp k_imp l_imp m_imp n_imp o_imp p_imp q_imp r_imp y_imp z_imp\")\n",
    "print(jel_imp.sample(n=10, random_state=542))"
   ]
  },
  {
   "cell_type": "code",
   "execution_count": 7,
   "metadata": {},
   "outputs": [],
   "source": [
    "%%capture captured_output\n",
    "stata.run('ds y_2-y_20')"
   ]
  },
  {
   "cell_type": "code",
   "execution_count": 8,
   "metadata": {},
   "outputs": [
    {
     "name": "stdout",
     "output_type": "stream",
     "text": [
      "      y_2  y_4  y_6  y_8  y_10  y_12  y_14  y_16  y_18  y_20  y_3  y_5  y_7  \\\n",
      "4707    0    0    0    0     0     0     0     1     0     0    0    0    0   \n",
      "3807    0    0    0    0     0     0     0     0     0     0    0    0    0   \n",
      "4579    0    0    0    0     0     0     0     0     0     0    0    0    0   \n",
      "4551    0    0    0    0     0     0     0     0     0     0    0    0    0   \n",
      "101     0    0    0    0     0     0     0     0     0     0    1    0    0   \n",
      "4817    0    0    0    0     0     0     0     0     1     0    0    0    0   \n",
      "4932    0    0    0    0     0     0     0     0     0     1    0    0    0   \n",
      "700     0    0    0    0     0     1     0     0     0     0    0    0    0   \n",
      "2711    0    0    0    1     0     0     0     0     0     0    0    0    0   \n",
      "3349    0    1    0    0     0     0     0     0     0     0    0    0    0   \n",
      "\n",
      "      y_9  y_11  y_13  y_15  y_17  y_19  \n",
      "4707    0     0     0     0     0     0  \n",
      "3807    0     0     0     1     0     0  \n",
      "4579    0     0     1     0     0     0  \n",
      "4551    0     0     1     0     0     0  \n",
      "101     0     0     0     0     0     0  \n",
      "4817    0     0     0     0     0     0  \n",
      "4932    0     0     0     0     0     0  \n",
      "700     0     0     0     0     0     0  \n",
      "2711    0     0     0     0     0     0  \n",
      "3349    0     0     0     0     0     0  \n"
     ]
    }
   ],
   "source": [
    "output = captured_output.stdout\n",
    "year_output = output.strip()\n",
    "year = stata.pdataframe_from_data(var=year_output)\n",
    "print(year.sample(n=10, random_state=542))"
   ]
  },
  {
   "cell_type": "code",
   "execution_count": 9,
   "metadata": {},
   "outputs": [],
   "source": [
    "%%capture captured_output\n",
    "stata.run('ds c_2-c_215')"
   ]
  },
  {
   "cell_type": "code",
   "execution_count": 10,
   "metadata": {},
   "outputs": [
    {
     "name": "stdout",
     "output_type": "stream",
     "text": [
      "      c_2  c_22  c_42  c_62  c_82  c_102  c_122  c_142  c_162  c_182  ...  \\\n",
      "4707    1     0     0     0     0      0      0      0      0      0  ...   \n",
      "3807    1     0     0     0     0      0      0      0      0      0  ...   \n",
      "4579    1     0     0     0     0      0      0      0      0      0  ...   \n",
      "4551    0     0     0     0     0      0      0      0      0      0  ...   \n",
      "101     1     0     0     0     0      0      0      0      0      0  ...   \n",
      "4817    1     0     0     0     0      0      0      0      0      0  ...   \n",
      "4932    0     0     0     0     0      0      0      0      0      0  ...   \n",
      "700     1     0     0     0     0      0      0      0      0      0  ...   \n",
      "2711    1     0     0     0     0      0      0      0      0      0  ...   \n",
      "3349    1     0     0     0     0      0      0      0      0      0  ...   \n",
      "\n",
      "      c_21  c_41  c_61  c_81  c_101  c_121  c_141  c_161  c_181  c_201  \n",
      "4707     0     0     0     0      0      0      0      0      0      0  \n",
      "3807     0     0     0     0      0      0      0      0      0      0  \n",
      "4579     0     0     0     0      0      0      0      0      0      0  \n",
      "4551     0     0     0     1      0      0      0      0      0      0  \n",
      "101      0     0     0     0      0      0      0      0      0      0  \n",
      "4817     0     0     0     0      0      0      0      0      0      0  \n",
      "4932     0     0     0     0      0      0      0      0      0      0  \n",
      "700      0     0     0     0      0      0      0      0      0      0  \n",
      "2711     0     0     0     0      0      0      0      0      0      0  \n",
      "3349     0     0     0     0      0      0      0      0      0      0  \n",
      "\n",
      "[10 rows x 214 columns]\n"
     ]
    }
   ],
   "source": [
    "output = captured_output.stdout\n",
    "cluster_output = output.strip()\n",
    "cluster = stata.pdataframe_from_data(var=cluster_output)\n",
    "print(cluster.sample(n=10, random_state=542))"
   ]
  }
 ],
 "metadata": {
  "kernelspec": {
   "display_name": "Python 3",
   "language": "python",
   "name": "python3"
  },
  "language_info": {
   "codemirror_mode": {
    "name": "ipython",
    "version": 3
   },
   "file_extension": ".py",
   "mimetype": "text/x-python",
   "name": "python",
   "nbconvert_exporter": "python",
   "pygments_lexer": "ipython3",
   "version": "3.12.3"
  }
 },
 "nbformat": 4,
 "nbformat_minor": 2
}
