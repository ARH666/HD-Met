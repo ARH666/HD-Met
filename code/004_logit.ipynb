{
 "cells": [
  {
   "cell_type": "code",
   "execution_count": 15,
   "metadata": {},
   "outputs": [],
   "source": [
    "%%capture\n",
    "import stata_setup, os\n",
    "if os.name == 'nt':\n",
    "    stata_setup.config('C:/Program Files/Stata17/','mp')\n",
    "else:\n",
    "    stata_setup.config('/usr/local/stata17','mp')"
   ]
  },
  {
   "cell_type": "code",
   "execution_count": 16,
   "metadata": {},
   "outputs": [
    {
     "name": "stdout",
     "output_type": "stream",
     "text": [
      "\n"
     ]
    }
   ],
   "source": [
    "%%stata -qui\n",
    "\n",
    "use \"../data/data\", clear\n",
    "rename log_flesch_kincaid_grade_level FKG\n",
    "quietly tabulate year, generate(y_)\n",
    "quietly tabulate cluster, generate(c_)\n",
    "\n",
    "local journals  ecm jpe qje res  //AER based category\n",
    "\n",
    "local jel_imp a_imp b_imp c_imp  e_imp f_imp g_imp h_imp i_imp j_imp k_imp /// \n",
    "\t\tl_imp m_imp n_imp o_imp p_imp q_imp r_imp y_imp z_imp // D JEL based case"
   ]
  },
  {
   "cell_type": "markdown",
   "metadata": {},
   "source": [
    "## Logistic Regression"
   ]
  },
  {
   "cell_type": "markdown",
   "metadata": {},
   "source": [
    "Let ```FKG_01``` be a binary variable indicating that an article's abstract readability is among the 10% highest in the Flesch Kincaid grade level scale."
   ]
  },
  {
   "cell_type": "code",
   "execution_count": 17,
   "metadata": {},
   "outputs": [
    {
     "name": "stdout",
     "output_type": "stream",
     "text": [
      "\n"
     ]
    }
   ],
   "source": [
    "%%stata -qui\n",
    "summarize flesch_kincaid_grade_level, detail\n",
    "local cutoff = r(p90)\n",
    "gen int FKG_01 = (flesch_kincaid_grade_level >= `cutoff')"
   ]
  },
  {
   "cell_type": "code",
   "execution_count": 18,
   "metadata": {},
   "outputs": [
    {
     "name": "stdout",
     "output_type": "stream",
     "text": [
      "\n",
      "       FKG_01   log_n~rs   log_~ges   both_g~s   prop_w~n   jel_flag  \n",
      "  1.        0   .6931472   2.639057          0          0          1  \n",
      "  2.        1   .6931472    2.70805          0          0          1  \n",
      "  3.        0   1.098612   3.258096          0          0          1  \n",
      "  4.        1          0   3.091043          0          0          1  \n",
      "  5.        1          0   3.496508          0          0          1  \n",
      "  6.        0          0   2.772589          0          0          1  \n",
      "  7.        0   1.098612   2.890372          0          0          1  \n",
      "  8.        1   .6931472   3.295837          0          0          1  \n",
      "  9.        0   .6931472   2.833213          0          0          1  \n",
      " 10.        0   .6931472   3.091043          0          0          1  \n"
     ]
    }
   ],
   "source": [
    "%stata list FKG_01 log_num_authors log_num_pages both_genders prop_women jel_flag in 1/10, clean"
   ]
  },
  {
   "cell_type": "markdown",
   "metadata": {},
   "source": [
    "### Variable Preparation"
   ]
  },
  {
   "cell_type": "markdown",
   "metadata": {},
   "source": [
    "We now utilize ```Stata``` capabilities to automatically identify ```continuous``` as well as ```dummy``` variables in the data set."
   ]
  },
  {
   "cell_type": "code",
   "execution_count": 21,
   "metadata": {},
   "outputs": [
    {
     "name": "stdout",
     "output_type": "stream",
     "text": [
      "\n"
     ]
    }
   ],
   "source": [
    "%%stata\n",
    "#delimit ;\n",
    "vl set log_num_authors log_num_pages both_genders prop_women\n",
    "       `journals' `jel_imp' y_2-y_20  c_2-c_215 jel_flag\n",
    "       , dummy clear nonotes;\n",
    "delimit cr"
   ]
  },
  {
   "cell_type": "markdown",
   "metadata": {},
   "source": [
    "We manipulate these variable lists to create two lists of variables: (1) ```baseline``` which contains a mixture of continous as well as dummy variables that we would like to control for, and (2) ```mfe``` which is the list of all other indicator variables that are not of interest but we would like to control for."
   ]
  },
  {
   "cell_type": "code",
   "execution_count": 5,
   "metadata": {},
   "outputs": [
    {
     "name": "stdout",
     "output_type": "stream",
     "text": [
      "\n"
     ]
    }
   ],
   "source": [
    "%%stata -qui\n",
    "#delimit ;\n",
    "vl create fe = vldummy - (both_genders jel_flag);\n",
    "vl substitute mfe = i.fe;\n",
    "vl create controls = vlcontinuous - (prop_women);\n",
    "vl create controls_dummy = (both_genders jel_flag);\n",
    "vl substitute baseline = i.controls_dummy controls;\n",
    "vl rebuild;\n",
    "#delimit cr"
   ]
  },
  {
   "cell_type": "code",
   "execution_count": 6,
   "metadata": {},
   "outputs": [
    {
     "name": "stdout",
     "output_type": "stream",
     "text": [
      "\n",
      ". display \"$baseline\"\n",
      "i.both_genders i.jel_flag log_num_pages log_num_authors\n",
      "\n",
      ". display \"$mfe\"\n",
      "i.ecm i.jpe i.qje i.res i.a_imp i.b_imp i.c_imp i.e_imp i.f_imp i.g_imp i.h_imp\n",
      ">  i.i_imp i.j_imp i.k_imp i.l_imp i.m_imp i.n_imp i.o_imp i.p_imp i.q_imp i.r_\n",
      "> imp i.y_imp i.z_imp i.y_2 i.y_3 i.y_4 i.y_5 i.y_6 i.y_7 i.y_8 i.y_9 i.y_10 i.\n",
      "> y_11 i.y_12 i.y_13 i.y_14 i.y_15 i.y_16 i.y_17 i.y_18 i.y_19 i.y_20 i.c_2 i.c\n",
      "> _3 i.c_4 i.c_5 i.c_6 i.c_7 i.c_8 i.c_9 i.c_10 i.c_11 i.c_12 i.c_13 i.c_14 i.c\n",
      "> _15 i.c_16 i.c_17 i.c_18 i.c_19 i.c_20 i.c_21 i.c_22 i.c_23 i.c_24 i.c_25 i.c\n",
      "> _26 i.c_27 i.c_28 i.c_29 i.c_30 i.c_31 i.c_32 i.c_33 i.c_34 i.c_35 i.c_36 i.c\n",
      "> _37 i.c_38 i.c_39 i.c_40 i.c_41 i.c_42 i.c_43 i.c_44 i.c_45 i.c_46 i.c_47 i.c\n",
      "> _48 i.c_49 i.c_50 i.c_51 i.c_52 i.c_53 i.c_54 i.c_55 i.c_56 i.c_57 i.c_58 i.c\n",
      "> _59 i.c_60 i.c_61 i.c_62 i.c_63 i.c_64 i.c_65 i.c_66 i.c_67 i.c_68 i.c_69 i.c\n",
      "> _70 i.c_71 i.c_72 i.c_73 i.c_74 i.c_75 i.c_76 i.c_77 i.c_78 i.c_79 i.c_80 i.c\n",
      "> _81 i.c_82 i.c_83 i.c_84 i.c_85 i.c_86 i.c_87 i.c_88 i.c_89 i.c_90 i.c_91 i.c\n",
      "> _92 i.c_93 i.c_94 i.c_95 i.c_96 i.c_97 i.c_98 i.c_99 i.c_100 i.c_101 i.c_102 \n",
      "> i.c_103 i.c_104 i.c_105 i.c_106 i.c_107 i.c_108 i.c_109 i.c_110 i.c_111 i.c_1\n",
      "> 12 i.c_113 i.c_114 i.c_115 i.c_116 i.c_117 i.c_118 i.c_119 i.c_120 i.c_121 i.\n",
      "> c_122 i.c_123 i.c_124 i.c_125 i.c_126 i.c_127 i.c_128 i.c_129 i.c_130 i.c_131\n",
      ">  i.c_132 i.c_133 i.c_134 i.c_135 i.c_136 i.c_137 i.c_138 i.c_139 i.c_140 i.c_\n",
      "> 141 i.c_142 i.c_143 i.c_144 i.c_145 i.c_146 i.c_147 i.c_148 i.c_149 i.c_150 i\n",
      "> .c_151 i.c_152 i.c_153 i.c_154 i.c_155 i.c_156 i.c_157 i.c_158 i.c_159 i.c_16\n",
      "> 0 i.c_161 i.c_162 i.c_163 i.c_164 i.c_165 i.c_166 i.c_167 i.c_168 i.c_169 i.c\n",
      "> _170 i.c_171 i.c_172 i.c_173 i.c_174 i.c_175 i.c_176 i.c_177 i.c_178 i.c_179 \n",
      "> i.c_180 i.c_181 i.c_182 i.c_183 i.c_184 i.c_185 i.c_186 i.c_187 i.c_188 i.c_1\n",
      "> 89 i.c_190 i.c_191 i.c_192 i.c_193 i.c_194 i.c_195 i.c_196 i.c_197 i.c_198 i.\n",
      "> c_199 i.c_200 i.c_201 i.c_202 i.c_203 i.c_204 i.c_205 i.c_206 i.c_207 i.c_208\n",
      ">  i.c_209 i.c_210 i.c_211 i.c_212 i.c_213 i.c_214 i.c_215\n",
      "\n",
      ". \n"
     ]
    }
   ],
   "source": [
    "%%stata\n",
    "display \"$baseline\"\n",
    "display \"$mfe\""
   ]
  },
  {
   "cell_type": "code",
   "execution_count": 7,
   "metadata": {},
   "outputs": [
    {
     "name": "stdout",
     "output_type": "stream",
     "text": [
      "\n"
     ]
    }
   ],
   "source": [
    "%%stata -qui\n",
    "#delimit ;\n",
    "logit FKG_01 prop_women $baseline $mfe, vce(cluster cluster) nolog;\n",
    "#delimit cr"
   ]
  },
  {
   "cell_type": "code",
   "execution_count": 8,
   "metadata": {},
   "outputs": [
    {
     "name": "stdout",
     "output_type": "stream",
     "text": [
      "\n",
      "----------------------------------------\n",
      "                 Variable |   Active    \n",
      "--------------------------+-------------\n",
      "          log_num_authors | -0.2194***  \n",
      "            log_num_pages |  0.4182***  \n",
      "           1.both_genders |  0.2597*    \n",
      "               prop_women | -0.5166**   \n",
      "----------------------------------------\n",
      "Legend: * p<0.05; ** p<0.01; *** p<0.001\n"
     ]
    }
   ],
   "source": [
    "%%stata\n",
    "estimates table, keep(log_num_authors log_num_pages 1.both_genders prop_women) b(%5.4f) star varwidth(25)"
   ]
  },
  {
   "cell_type": "code",
   "execution_count": 9,
   "metadata": {},
   "outputs": [
    {
     "name": "stdout",
     "output_type": "stream",
     "text": [
      "\n",
      "Logistic model for FKG_01\n",
      "\n",
      "              -------- True --------\n",
      "Classified |         D            ~D  |      Total\n",
      "-----------+--------------------------+-----------\n",
      "     +     |        25            16  |         41\n",
      "     -     |       463          4045  |       4508\n",
      "-----------+--------------------------+-----------\n",
      "   Total   |       488          4061  |       4549\n",
      "\n",
      "Classified + if predicted Pr(D) >= .5\n",
      "True D defined as FKG_01 != 0\n",
      "--------------------------------------------------\n",
      "Sensitivity                     Pr( +| D)    5.12%\n",
      "Specificity                     Pr( -|~D)   99.61%\n",
      "Positive predictive value       Pr( D| +)   60.98%\n",
      "Negative predictive value       Pr(~D| -)   89.73%\n",
      "--------------------------------------------------\n",
      "False + rate for true ~D        Pr( +|~D)    0.39%\n",
      "False - rate for true D         Pr( -| D)   94.88%\n",
      "False + rate for classified +   Pr(~D| +)   39.02%\n",
      "False - rate for classified -   Pr( D| -)   10.27%\n",
      "--------------------------------------------------\n",
      "Correctly classified                        89.47%\n",
      "--------------------------------------------------\n"
     ]
    }
   ],
   "source": [
    "%stata estat class"
   ]
  },
  {
   "cell_type": "code",
   "execution_count": 10,
   "metadata": {},
   "outputs": [
    {
     "name": "stdout",
     "output_type": "stream",
     "text": [
      "\n",
      ". #delimit ;\n",
      "delimiter now ;\n",
      ". margins, dydx(prop_women) at((means) _continuous (base) _factor) vsquish;\n",
      "\n",
      "Conditional marginal effects                             Number of obs = 4,549\n",
      "Model VCE: Robust\n",
      "\n",
      "Expression: Pr(FKG_01), predict()\n",
      "dy/dx wrt:  prop_women\n",
      "At: prop_women      = .1347975 (mean)\n",
      "    both_genders    =        0\n",
      "    jel_flag        =        0\n",
      "    log_num_pages   = 3.471716 (mean)\n",
      "    log_num_authors = .7032459 (mean)\n",
      "    ecm             =        0\n",
      "    jpe             =        0\n",
      "    qje             =        0\n",
      "    res             =        0\n",
      "    a_imp           =        0\n",
      "    b_imp           =        0\n",
      "    c_imp           =        0\n",
      "    e_imp           =        0\n",
      "    f_imp           =        0\n",
      "    g_imp           =        0\n",
      "    h_imp           =        0\n",
      "    i_imp           =        0\n",
      "    j_imp           =        0\n",
      "    k_imp           =        0\n",
      "    l_imp           =        0\n",
      "    m_imp           =        0\n",
      "    n_imp           =        0\n",
      "    o_imp           =        0\n",
      "    p_imp           =        0\n",
      "    q_imp           =        0\n",
      "    r_imp           =        0\n",
      "    y_imp           =        0\n",
      "    z_imp           =        0\n",
      "    y_2             =        0\n",
      "    y_3             =        0\n",
      "    y_4             =        0\n",
      "    y_5             =        0\n",
      "    y_6             =        0\n",
      "    y_7             =        0\n",
      "    y_8             =        0\n",
      "    y_9             =        0\n",
      "    y_10            =        0\n",
      "    y_11            =        0\n",
      "    y_12            =        0\n",
      "    y_13            =        0\n",
      "    y_14            =        0\n",
      "    y_15            =        0\n",
      "    y_16            =        0\n",
      "    y_17            =        0\n",
      "    y_18            =        0\n",
      "    y_19            =        0\n",
      "    y_20            =        0\n",
      "    c_2             =        0\n",
      "    c_3             =        0\n",
      "    c_4             =        0\n",
      "    c_5             =        0\n",
      "    c_6             =        0\n",
      "    c_7             =        0\n",
      "    c_8             =        0\n",
      "    c_9             =        0\n",
      "    c_10            =        0\n",
      "    c_11            =        0\n",
      "    c_12            =        0\n",
      "    c_13            =        0\n",
      "    c_14            =        0\n",
      "    c_15            =        0\n",
      "    c_16            =        0\n",
      "    c_17            =        0\n",
      "    c_18            =        0\n",
      "    c_19            =        0\n",
      "    c_20            =        0\n",
      "    c_21            =        0\n",
      "    c_22            =        0\n",
      "    c_23            =        0\n",
      "    c_24            =        0\n",
      "    c_25            =        0\n",
      "    c_26            =        0\n",
      "    c_27            =        0\n",
      "    c_28            =        0\n",
      "    c_29            =        0\n",
      "    c_30            =        0\n",
      "    c_31            =        0\n",
      "    c_32            =        0\n",
      "    c_33            =        0\n",
      "    c_34            =        0\n",
      "    c_35            =        0\n",
      "    c_36            =        0\n",
      "    c_37            =        0\n",
      "    c_38            =        0\n",
      "    c_39            =        0\n",
      "    c_40            =        0\n",
      "    c_41            =        0\n",
      "    c_42            =        0\n",
      "    c_43            =        0\n",
      "    c_44            =        0\n",
      "    c_45            =        0\n",
      "    c_46            =        0\n",
      "    c_47            =        0\n",
      "    c_48            =        0\n",
      "    c_49            =        0\n",
      "    c_50            =        0\n",
      "    c_51            =        0\n",
      "    c_52            =        0\n",
      "    c_53            =        0\n",
      "    c_54            =        0\n",
      "    c_55            =        0\n",
      "    c_56            =        0\n",
      "    c_57            =        0\n",
      "    c_58            =        0\n",
      "    c_59            =        0\n",
      "    c_60            =        0\n",
      "    c_61            =        0\n",
      "    c_62            =        0\n",
      "    c_63            =        0\n",
      "    c_64            =        0\n",
      "    c_65            =        0\n",
      "    c_66            =        0\n",
      "    c_67            =        0\n",
      "    c_68            =        0\n",
      "    c_69            =        0\n",
      "    c_70            =        0\n",
      "    c_71            =        0\n",
      "    c_72            =        0\n",
      "    c_73            =        0\n",
      "    c_74            =        0\n",
      "    c_75            =        0\n",
      "    c_76            =        0\n",
      "    c_77            =        0\n",
      "    c_78            =        0\n",
      "    c_79            =        0\n",
      "    c_80            =        0\n",
      "    c_81            =        0\n",
      "    c_82            =        0\n",
      "    c_83            =        0\n",
      "    c_84            =        0\n",
      "    c_85            =        0\n",
      "    c_86            =        0\n",
      "    c_87            =        0\n",
      "    c_88            =        0\n",
      "    c_89            =        0\n",
      "    c_90            =        0\n",
      "    c_91            =        0\n",
      "    c_92            =        0\n",
      "    c_93            =        0\n",
      "    c_94            =        0\n",
      "    c_95            =        0\n",
      "    c_96            =        0\n",
      "    c_97            =        0\n",
      "    c_98            =        0\n",
      "    c_99            =        0\n",
      "    c_100           =        0\n",
      "    c_101           =        0\n",
      "    c_102           =        0\n",
      "    c_103           =        0\n",
      "    c_104           =        0\n",
      "    c_105           =        0\n",
      "    c_106           =        0\n",
      "    c_107           =        0\n",
      "    c_108           =        0\n",
      "    c_109           =        0\n",
      "    c_110           =        0\n",
      "    c_111           =        0\n",
      "    c_112           =        0\n",
      "    c_113           =        0\n",
      "    c_114           =        0\n",
      "    c_115           =        0\n",
      "    c_116           =        0\n",
      "    c_117           =        0\n",
      "    c_118           =        0\n",
      "    c_119           =        0\n",
      "    c_120           =        0\n",
      "    c_121           =        0\n",
      "    c_122           =        0\n",
      "    c_123           =        0\n",
      "    c_124           =        0\n",
      "    c_125           =        0\n",
      "    c_126           =        0\n",
      "    c_127           =        0\n",
      "    c_128           =        0\n",
      "    c_129           =        0\n",
      "    c_130           =        0\n",
      "    c_131           =        0\n",
      "    c_132           =        0\n",
      "    c_133           =        0\n",
      "    c_134           =        0\n",
      "    c_135           =        0\n",
      "    c_136           =        0\n",
      "    c_137           =        0\n",
      "    c_138           =        0\n",
      "    c_139           =        0\n",
      "    c_140           =        0\n",
      "    c_141           =        0\n",
      "    c_142           =        0\n",
      "    c_143           =        0\n",
      "    c_144           =        0\n",
      "    c_145           =        0\n",
      "    c_146           =        0\n",
      "    c_147           =        0\n",
      "    c_148           =        0\n",
      "    c_149           =        0\n",
      "    c_150           =        0\n",
      "    c_151           =        0\n",
      "    c_152           =        0\n",
      "    c_153           =        0\n",
      "    c_154           =        0\n",
      "    c_155           =        0\n",
      "    c_156           =        0\n",
      "    c_157           =        0\n",
      "    c_158           =        0\n",
      "    c_159           =        0\n",
      "    c_160           =        0\n",
      "    c_161           =        0\n",
      "    c_162           =        0\n",
      "    c_163           =        0\n",
      "    c_164           =        0\n",
      "    c_165           =        0\n",
      "    c_166           =        0\n",
      "    c_167           =        0\n",
      "    c_168           =        0\n",
      "    c_169           =        0\n",
      "    c_170           =        0\n",
      "    c_171           =        0\n",
      "    c_172           =        0\n",
      "    c_173           =        0\n",
      "    c_174           =        0\n",
      "    c_175           =        0\n",
      "    c_176           =        0\n",
      "    c_177           =        0\n",
      "    c_178           =        0\n",
      "    c_179           =        0\n",
      "    c_180           =        0\n",
      "    c_181           =        0\n",
      "    c_182           =        0\n",
      "    c_183           =        0\n",
      "    c_184           =        0\n",
      "    c_185           =        0\n",
      "    c_186           =        0\n",
      "    c_187           =        0\n",
      "    c_188           =        0\n",
      "    c_189           =        0\n",
      "    c_190           =        0\n",
      "    c_191           =        0\n",
      "    c_192           =        0\n",
      "    c_193           =        0\n",
      "    c_194           =        0\n",
      "    c_195           =        0\n",
      "    c_196           =        0\n",
      "    c_197           =        0\n",
      "    c_198           =        0\n",
      "    c_199           =        0\n",
      "    c_200           =        0\n",
      "    c_201           =        0\n",
      "    c_202           =        0\n",
      "    c_203           =        0\n",
      "    c_204           =        0\n",
      "    c_205           =        0\n",
      "    c_206           =        0\n",
      "    c_207           =        0\n",
      "    c_208           =        0\n",
      "    c_209           =        0\n",
      "    c_210           =        0\n",
      "    c_211           =        0\n",
      "    c_212           =        0\n",
      "    c_213           =        0\n",
      "    c_214           =        0\n",
      "    c_215           =        0\n",
      "\n",
      "------------------------------------------------------------------------------\n",
      "             |            Delta-method\n",
      "             |      dy/dx   std. err.      z    P>|z|     [95% conf. interval]\n",
      "-------------+----------------------------------------------------------------\n",
      "  prop_women |  -.0709733   .0175701    -4.04   0.000    -.1054099   -.0365366\n",
      "------------------------------------------------------------------------------\n",
      "\n",
      ". #delimit cr\n",
      "delimiter now cr\n",
      ". \n"
     ]
    }
   ],
   "source": [
    "%%stata\n",
    "#delimit ;\n",
    "margins, dydx(prop_women) at((means) _continuous (base) _factor) vsquish;\n",
    "#delimit cr"
   ]
  },
  {
   "cell_type": "code",
   "execution_count": 11,
   "metadata": {},
   "outputs": [
    {
     "name": "stdout",
     "output_type": "stream",
     "text": [
      "\n"
     ]
    }
   ],
   "source": [
    "%%stata -qui\n",
    "#delimit ;\n",
    "cd \"../data/\";\n",
    "margins, dydx(prop_women) at(prop_women = (0(0.25)1) log_num_pages=(1(0.5)4.5)\n",
    "                             log_num_authors=0.60205999132 (base) _factor)\n",
    "                             saving(predictions, replace);\n",
    "#delimit cr"
   ]
  },
  {
   "cell_type": "code",
   "execution_count": 12,
   "metadata": {},
   "outputs": [
    {
     "name": "stdout",
     "output_type": "stream",
     "text": [
      "\n"
     ]
    }
   ],
   "source": [
    "%%stata -qui\n",
    "use predictions, clear\n",
    "rename _at1 prop_women \n",
    "rename _at4 log_num_pages\n",
    "rename _margin delta_hat \n",
    "save predictions, replace"
   ]
  },
  {
   "cell_type": "code",
   "execution_count": 13,
   "metadata": {},
   "outputs": [],
   "source": [
    "# Import the necessary Python packages\n",
    "import numpy as np\n",
    "import pandas as pd\n",
    "import matplotlib\n",
    "matplotlib.use('WebAgg')\n",
    "import matplotlib.pyplot as plt\n",
    "\n",
    "\n",
    "# Read (import) the Stata dataset “predictions.dta”\n",
    "# into a pandas data frame named “data”\n",
    "data = pd.read_stata(\"predictions.dta\")\n",
    "\n",
    "\n",
    "# Define a 3-D graph named “ax”\n",
    "ax = plt.axes(projection='3d')\n",
    "\n",
    "# Specify the view angle of the graph\n",
    "ax.view_init(elev=30, azim=200)\n",
    "\n",
    "# Render the graph\n",
    "ax.plot_trisurf(data['prop_women'], data['log_num_pages'], data['delta_hat'],cmap=plt.cm.Spectral_r)\n",
    "\n",
    "# Specify the axis ticks\n",
    "ax.set_xticks(np.arange(0, 1, step=0.25))\n",
    "ax.set_yticks(np.arange(1, 4.5, step=0.5))\n",
    "ax.set_zticks(np.arange( -.1, 0, step=0.02))\n",
    "\n",
    "\n",
    "# Specify the title and axis titles\n",
    "ax.set_title(\"\")\n",
    "ax.set_xlabel(\"Proportion of Women\")\n",
    "ax.set_ylabel(\"log(Number of Pages)\")\n",
    "ax.zaxis.set_rotate_label(False)\n",
    "ax.set_zlabel(r\"$\\widehat{\\delta}_{\\text{prop of women}}$\", rotation=90)\n",
    "\n",
    "# Save the graph\n",
    "plt.savefig(\"../figures/Margins3d.png\")"
   ]
  },
  {
   "cell_type": "code",
   "execution_count": 14,
   "metadata": {},
   "outputs": [
    {
     "data": {
      "image/png": "[encoded data removed]",
      "text/plain": [
       "<IPython.core.display.Image object>"
      ]
     },
     "execution_count": 14,
     "metadata": {},
     "output_type": "execute_result"
    }
   ],
   "source": [
    "# Showing the graph\n",
    "from IPython.display import Image\n",
    "Image(\"../figures/Margins3d.png\")"
   ]
  },
  {
   "cell_type": "code",
   "execution_count": null,
   "metadata": {},
   "outputs": [],
   "source": []
  }
 ],
 "metadata": {
  "kernelspec": {
   "display_name": "Python 3",
   "language": "python",
   "name": "python3"
  },
  "language_info": {
   "codemirror_mode": {
    "name": "ipython",
    "version": 3
   },
   "file_extension": ".py",
   "mimetype": "text/x-python",
   "name": "python",
   "nbconvert_exporter": "python",
   "pygments_lexer": "ipython3",
   "version": "3.12.3"
  }
 },
 "nbformat": 4,
 "nbformat_minor": 4
}
