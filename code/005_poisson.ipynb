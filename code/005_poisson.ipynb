{
 "cells": [
  {
   "cell_type": "code",
   "execution_count": 1,
   "metadata": {},
   "outputs": [],
   "source": [
    "%%capture\n",
    "import stata_setup, os\n",
    "if os.name == 'nt':\n",
    "    stata_setup.config('C:/Program Files/Stata17/','mp')\n",
    "else:\n",
    "    stata_setup.config('/usr/local/stata17','mp')"
   ]
  },
  {
   "cell_type": "code",
   "execution_count": 2,
   "metadata": {},
   "outputs": [
    {
     "name": "stdout",
     "output_type": "stream",
     "text": [
      "\n"
     ]
    }
   ],
   "source": [
    "%%stata -qui\n",
    "\n",
    "use \"../data/data\", clear\n",
    "rename log_flesch_kincaid_grade_level FKG\n",
    "quietly tabulate year, generate(y_)\n",
    "quietly tabulate cluster, generate(c_)\n",
    "\n",
    "local journals  ecm jpe qje res  //AER based category\n",
    "\n",
    "local jel_imp a_imp b_imp c_imp  e_imp f_imp g_imp h_imp i_imp j_imp k_imp /// \n",
    "\t\tl_imp m_imp n_imp o_imp p_imp q_imp r_imp y_imp z_imp // D JEL based case"
   ]
  },
  {
   "cell_type": "markdown",
   "metadata": {},
   "source": [
    "## Poisson Regression"
   ]
  },
  {
   "cell_type": "markdown",
   "metadata": {},
   "source": [
    "We are interested in modelling the number of sentences in an abstract in excess of 3 (5\\% of articles have at most 3 sentences), i.e., our model is\n",
    "$$\n",
    "\\mathbb{E}[\\texttt{Excess Sentences}|\\texttt{log(Number authors)},\\texttt{log(Number pages)},\\texttt{Both genders},\\texttt{Proportion women}]\\\\\\\n",
    "= \\exp{\\left(\\beta_1\\log(\\text{Number authors})+\\beta_2\\log(\\text{Number pages})+\\beta_3\\texttt{Both genders}+\\theta\\texttt{Proportion women}\\right.}\\\\\\\n",
    "\\left.+\\texttt{Journals}+\\texttt{JEL codes}+\\texttt{Cluster}+\\texttt{Years}+\\texttt{JEL flag}+\\beta_{272}\\right)\n",
    "$$"
   ]
  },
  {
   "cell_type": "code",
   "execution_count": 3,
   "metadata": {},
   "outputs": [
    {
     "name": "stdout",
     "output_type": "stream",
     "text": [
      "\n"
     ]
    }
   ],
   "source": [
    "%%stata -qui\n",
    "summarize num_sentences, detail\n",
    "local cutoff_sentences = r(p5)\n",
    "gen int excess_sentences = num_sentences - `cutoff_sentences'\n",
    "replace excess_sentences = 0 if excess_sentences < 0"
   ]
  },
  {
   "cell_type": "code",
   "execution_count": 4,
   "metadata": {},
   "outputs": [
    {
     "name": "stdout",
     "output_type": "stream",
     "text": [
      "\n",
      ". set scheme s1mono\n",
      "\n",
      ". histogram excess_sentences, discrete freq width(1)\n",
      "(start=0, width=1)\n",
      "\n",
      ". \n"
     ]
    },
    {
     "data": {
      "image/svg+xml": [
       "<svg xmlns=\"http://www.w3.org/2000/svg\" xmlns:xlink=\"http://www.w3.org/1999/xlink\" version=\"1.1\" width=\"5.500in\" height=\"4.000in\" viewBox=\"0 0 3960 2880\">\n",
       "\t<desc>Stata Graph - Graph</desc>\n",
       "\t<rect x=\"0\" y=\"0\" width=\"3960\" height=\"2880\" style=\"fill:#FFFFFF;stroke:none\"/>\n",
       "\t<rect x=\"0.00\" y=\"0.00\" width=\"3959.88\" height=\"2880.00\" style=\"fill:#FFFFFF\"/>\n",
       "\t<rect x=\"2.88\" y=\"2.88\" width=\"3954.12\" height=\"2874.24\" style=\"fill:none;stroke:#FFFFFF;stroke-width:5.76\"/>\n",
       "\t<rect x=\"393.68\" y=\"103.74\" width=\"3462.46\" height=\"2382.57\" style=\"fill:none;stroke:#000000;stroke-width:5.76\"/>\n",
       "\t<rect x=\"528.41\" y=\"1752.97\" width=\"148.50\" height=\"736.21\" style=\"fill:#808080\"/>\n",
       "\t<rect x=\"532.73\" y=\"1757.29\" width=\"139.86\" height=\"727.57\" style=\"fill:none;stroke:#000000;stroke-width:8.64\"/>\n",
       "\t<rect x=\"676.91\" y=\"821.35\" width=\"148.50\" height=\"1667.83\" style=\"fill:#808080\"/>\n",
       "\t<rect x=\"681.23\" y=\"825.67\" width=\"139.86\" height=\"1659.19\" style=\"fill:none;stroke:#000000;stroke-width:8.64\"/>\n",
       "\t<rect x=\"825.41\" y=\"463.33\" width=\"148.50\" height=\"2025.85\" style=\"fill:#808080\"/>\n",
       "\t<rect x=\"829.73\" y=\"467.65\" width=\"139.86\" height=\"2017.21\" style=\"fill:none;stroke:#000000;stroke-width:8.64\"/>\n",
       "\t<rect x=\"973.91\" y=\"1024.43\" width=\"148.50\" height=\"1464.75\" style=\"fill:#808080\"/>\n",
       "\t<rect x=\"978.23\" y=\"1028.75\" width=\"139.86\" height=\"1456.11\" style=\"fill:none;stroke:#000000;stroke-width:8.64\"/>\n",
       "\t<rect x=\"1122.41\" y=\"1621.18\" width=\"148.50\" height=\"868.01\" style=\"fill:#808080\"/>\n",
       "\t<rect x=\"1126.73\" y=\"1625.50\" width=\"139.86\" height=\"859.37\" style=\"fill:none;stroke:#000000;stroke-width:8.64\"/>\n",
       "\t<rect x=\"1270.91\" y=\"1980.80\" width=\"148.62\" height=\"508.38\" style=\"fill:#808080\"/>\n",
       "\t<rect x=\"1275.23\" y=\"1985.12\" width=\"139.98\" height=\"499.74\" style=\"fill:none;stroke:#000000;stroke-width:8.64\"/>\n",
       "\t<rect x=\"1419.54\" y=\"2275.34\" width=\"148.50\" height=\"213.85\" style=\"fill:#808080\"/>\n",
       "\t<rect x=\"1423.86\" y=\"2279.66\" width=\"139.86\" height=\"205.21\" style=\"fill:none;stroke:#000000;stroke-width:8.64\"/>\n",
       "\t<rect x=\"1568.04\" y=\"2379.17\" width=\"148.50\" height=\"110.02\" style=\"fill:#808080\"/>\n",
       "\t<rect x=\"1572.36\" y=\"2383.49\" width=\"139.86\" height=\"101.38\" style=\"fill:none;stroke:#000000;stroke-width:8.64\"/>\n",
       "\t<rect x=\"1716.54\" y=\"2434.98\" width=\"148.50\" height=\"54.20\" style=\"fill:#808080\"/>\n",
       "\t<rect x=\"1720.86\" y=\"2439.30\" width=\"139.86\" height=\"45.56\" style=\"fill:none;stroke:#000000;stroke-width:8.64\"/>\n",
       "\t<rect x=\"1865.04\" y=\"2445.75\" width=\"148.50\" height=\"43.44\" style=\"fill:#808080\"/>\n",
       "\t<rect x=\"1869.36\" y=\"2450.07\" width=\"139.86\" height=\"34.80\" style=\"fill:none;stroke:#000000;stroke-width:8.64\"/>\n",
       "\t<rect x=\"2013.54\" y=\"2472.11\" width=\"148.50\" height=\"17.08\" style=\"fill:#808080\"/>\n",
       "\t<rect x=\"2017.86\" y=\"2476.43\" width=\"139.86\" height=\"8.44\" style=\"fill:none;stroke:#000000;stroke-width:8.64\"/>\n",
       "\t<rect x=\"2162.04\" y=\"2481.51\" width=\"148.50\" height=\"7.67\" style=\"fill:#808080\"/>\n",
       "\t<rect x=\"2166.36\" y=\"2484.87\" width=\"139.86\" height=\"0.97\" style=\"fill:none;stroke:#000000;stroke-width:8.64\"/>\n",
       "\t<rect x=\"2310.54\" y=\"2486.09\" width=\"148.50\" height=\"3.09\" style=\"fill:#808080\"/>\n",
       "\t<rect x=\"2314.86\" y=\"2484.87\" width=\"139.86\" height=\"5.55\" style=\"fill:none;stroke:#000000;stroke-width:8.64\"/>\n",
       "\t<rect x=\"2459.04\" y=\"2487.70\" width=\"148.62\" height=\"1.49\" style=\"fill:#808080\"/>\n",
       "\t<rect x=\"2463.36\" y=\"2484.87\" width=\"139.98\" height=\"7.15\" style=\"fill:none;stroke:#000000;stroke-width:8.64\"/>\n",
       "\t<rect x=\"2607.66\" y=\"2487.70\" width=\"148.50\" height=\"1.49\" style=\"fill:#808080\"/>\n",
       "\t<rect x=\"2611.98\" y=\"2484.87\" width=\"139.86\" height=\"7.15\" style=\"fill:none;stroke:#000000;stroke-width:8.64\"/>\n",
       "\t<rect x=\"2756.16\" y=\"2486.09\" width=\"148.50\" height=\"3.09\" style=\"fill:#808080\"/>\n",
       "\t<rect x=\"2760.48\" y=\"2484.87\" width=\"139.86\" height=\"5.55\" style=\"fill:none;stroke:#000000;stroke-width:8.64\"/>\n",
       "\t<rect x=\"2904.66\" y=\"2487.70\" width=\"148.50\" height=\"1.49\" style=\"fill:#808080\"/>\n",
       "\t<rect x=\"2908.98\" y=\"2484.87\" width=\"139.86\" height=\"7.15\" style=\"fill:none;stroke:#000000;stroke-width:8.64\"/>\n",
       "\t<rect x=\"3201.66\" y=\"2487.70\" width=\"148.50\" height=\"1.49\" style=\"fill:#808080\"/>\n",
       "\t<rect x=\"3205.98\" y=\"2484.87\" width=\"139.86\" height=\"7.15\" style=\"fill:none;stroke:#000000;stroke-width:8.64\"/>\n",
       "\t<rect x=\"3647.16\" y=\"2487.70\" width=\"148.50\" height=\"1.49\" style=\"fill:#808080\"/>\n",
       "\t<rect x=\"3651.48\" y=\"2484.87\" width=\"139.86\" height=\"7.15\" style=\"fill:none;stroke:#000000;stroke-width:8.64\"/>\n",
       "\t<line x1=\"390.80\" y1=\"2489.19\" x2=\"390.80\" y2=\"100.86\" style=\"stroke:#000000;stroke-width:5.76\"/>\n",
       "\t<line x1=\"390.80\" y1=\"2489.19\" x2=\"350.83\" y2=\"2489.19\" style=\"stroke:#000000;stroke-width:5.76\"/>\n",
       "\t<text x=\"300.72\" y=\"2489.19\" style=\"font-family:'Helvetica';font-size:99.99px;fill:#000000\" transform=\"rotate(-90 300.72,2489.19)\" text-anchor=\"middle\">0</text>\n",
       "\t<line x1=\"390.80\" y1=\"1714.24\" x2=\"350.83\" y2=\"1714.24\" style=\"stroke:#000000;stroke-width:5.76\"/>\n",
       "\t<text x=\"300.72\" y=\"1714.24\" style=\"font-family:'Helvetica';font-size:99.99px;fill:#000000\" transform=\"rotate(-90 300.72,1714.24)\" text-anchor=\"middle\">500</text>\n",
       "\t<line x1=\"390.80\" y1=\"939.17\" x2=\"350.83\" y2=\"939.17\" style=\"stroke:#000000;stroke-width:5.76\"/>\n",
       "\t<text x=\"300.72\" y=\"939.17\" style=\"font-family:'Helvetica';font-size:99.99px;fill:#000000\" transform=\"rotate(-90 300.72,939.17)\" text-anchor=\"middle\">1000</text>\n",
       "\t<line x1=\"390.80\" y1=\"164.22\" x2=\"350.83\" y2=\"164.22\" style=\"stroke:#000000;stroke-width:5.76\"/>\n",
       "\t<text x=\"300.72\" y=\"164.22\" style=\"font-family:'Helvetica';font-size:99.99px;fill:#000000\" transform=\"rotate(-90 300.72,164.22)\" text-anchor=\"middle\">1500</text>\n",
       "\t<text x=\"190.71\" y=\"1294.96\" style=\"font-family:'Helvetica';font-size:99.99px;fill:#000000\" transform=\"rotate(-90 190.71,1294.96)\" text-anchor=\"middle\">Frequency</text>\n",
       "\t<line x1=\"390.80\" y1=\"2489.19\" x2=\"3859.02\" y2=\"2489.19\" style=\"stroke:#000000;stroke-width:5.76\"/>\n",
       "\t<line x1=\"602.66\" y1=\"2489.19\" x2=\"602.66\" y2=\"2529.16\" style=\"stroke:#000000;stroke-width:5.76\"/>\n",
       "\t<text x=\"602.66\" y=\"2619.14\" style=\"font-family:'Helvetica';font-size:99.99px;fill:#000000\" text-anchor=\"middle\">0</text>\n",
       "\t<line x1=\"1345.29\" y1=\"2489.19\" x2=\"1345.29\" y2=\"2529.16\" style=\"stroke:#000000;stroke-width:5.76\"/>\n",
       "\t<text x=\"1345.29\" y=\"2619.14\" style=\"font-family:'Helvetica';font-size:99.99px;fill:#000000\" text-anchor=\"middle\">5</text>\n",
       "\t<line x1=\"2087.79\" y1=\"2489.19\" x2=\"2087.79\" y2=\"2529.16\" style=\"stroke:#000000;stroke-width:5.76\"/>\n",
       "\t<text x=\"2087.79\" y=\"2619.14\" style=\"font-family:'Helvetica';font-size:99.99px;fill:#000000\" text-anchor=\"middle\">10</text>\n",
       "\t<line x1=\"2830.41\" y1=\"2489.19\" x2=\"2830.41\" y2=\"2529.16\" style=\"stroke:#000000;stroke-width:5.76\"/>\n",
       "\t<text x=\"2830.41\" y=\"2619.14\" style=\"font-family:'Helvetica';font-size:99.99px;fill:#000000\" text-anchor=\"middle\">15</text>\n",
       "\t<line x1=\"3572.91\" y1=\"2489.19\" x2=\"3572.91\" y2=\"2529.16\" style=\"stroke:#000000;stroke-width:5.76\"/>\n",
       "\t<text x=\"3572.91\" y=\"2619.14\" style=\"font-family:'Helvetica';font-size:99.99px;fill:#000000\" text-anchor=\"middle\">20</text>\n",
       "\t<text x=\"2124.91\" y=\"2729.16\" style=\"font-family:'Helvetica';font-size:99.99px;fill:#000000\" text-anchor=\"middle\">excess_sentences</text>\n",
       "</svg>"
      ],
      "text/plain": [
       "<IPython.core.display.SVG object>"
      ]
     },
     "metadata": {},
     "output_type": "display_data"
    }
   ],
   "source": [
    "%%stata\n",
    "set scheme s1mono\n",
    "histogram excess_sentences, discrete freq width(1)"
   ]
  },
  {
   "cell_type": "code",
   "execution_count": 5,
   "metadata": {},
   "outputs": [
    {
     "name": "stdout",
     "output_type": "stream",
     "text": [
      "\n"
     ]
    }
   ],
   "source": [
    "%%stata -qui\n",
    "#delimit ;\n",
    "poisson excess_sentences log_num_authors log_num_pages both_genders prop_women\n",
    "\t\t\t          `journals' `jel_imp' y_2-y_20  c_2-c_215  jel_flag, vce(cluster cluster);\n",
    "#delimit cr"
   ]
  },
  {
   "cell_type": "code",
   "execution_count": 6,
   "metadata": {},
   "outputs": [
    {
     "name": "stdout",
     "output_type": "stream",
     "text": [
      "\n",
      "-----------------------------------------------------------------\n",
      "                                          Variable |   Active    \n",
      "---------------------------------------------------+-------------\n",
      "                Logarithm of the number of authors | -0.0118     \n",
      "                  Logarithm of the number of pages |  0.4093***  \n",
      "    Indicator if author team includes both genders |  0.0004     \n",
      "             Proportion of women among the authors |  0.0416*    \n",
      "Indicator of whether the article includes a JEL cl |  0.0349*    \n",
      "-----------------------------------------------------------------\n",
      "                         Legend: * p<0.05; ** p<0.01; *** p<0.001\n"
     ]
    }
   ],
   "source": [
    "%%stata\n",
    "estimates table, keep(log_num_authors log_num_pages both_genders prop_women jel_flag) b(%5.4f) star varwidth(50) varlabel"
   ]
  },
  {
   "cell_type": "code",
   "execution_count": 7,
   "metadata": {},
   "outputs": [
    {
     "name": "stdout",
     "output_type": "stream",
     "text": [
      "\n",
      "       _nl_1: _b[log_num_pages]\n",
      "       _nl_2: 100*_b[prop_women]\n",
      "       _nl_3: 100*(exp(_b[jel_flag])-1)\n",
      "\n",
      "------------------------------------------------------------------------------\n",
      "excess_sen~s | Coefficient  Std. err.      z    P>|z|     [95% conf. interval]\n",
      "-------------+----------------------------------------------------------------\n",
      "   .4093298   .0162724    25.15   0.000     .3774364    .4412231\n",
      "       _nl_2 |   4.157834   2.077484     2.00   0.045     .0860391    8.229628\n",
      "       _nl_3 |    3.54721   1.444164     2.46   0.014     .7166994     6.37772\n",
      "------------------------------------------------------------------------------\n"
     ]
    }
   ],
   "source": [
    "%%stata\n",
    "nlcom (_b[log_num_pages]) (100*_b[prop_women]) (100*(exp(_b[jel_flag])-1))"
   ]
  },
  {
   "cell_type": "markdown",
   "metadata": {},
   "source": [
    "Other factors equal:\n",
    "* The _elasticity_ of the expected number of sentences in excess of 3 for an article's abstract with respect to the article's number of pages is 0.41.\n",
    "* If an article's authors are all women (```prop_women``` goes from 0 to 1), the abstract's expected number of sentences in excess of 3 increase by 4.16\\%.\n",
    "* The expected number of sentences in excess of 3 for an article's abstract is roughly 3.55\\% higher when the JEL is imputed ceteris paribus."
   ]
  },
  {
   "cell_type": "markdown",
   "metadata": {},
   "source": [
    "## High-Dimensional Fixed Effects"
   ]
  },
  {
   "cell_type": "code",
   "execution_count": 8,
   "metadata": {},
   "outputs": [
    {
     "name": "stdout",
     "output_type": "stream",
     "text": [
      "\n"
     ]
    }
   ],
   "source": [
    "%%stata -qui\n",
    "egen journal1 = group(journal)\n",
    "#delimit ;\n",
    "ppmlhdfe excess_sentences log_num_authors log_num_pages both_genders prop_women,\n",
    "                          absorb(journal1 a_imp b_imp c_imp  e_imp f_imp g_imp h_imp\n",
    "                                i_imp j_imp k_imp l_imp m_imp n_imp o_imp p_imp q_imp r_imp y_imp z_imp\n",
    "                                year ib0.cluster jel_flag) vce(cluster cluster);\n",
    "#delimit cr"
   ]
  },
  {
   "cell_type": "code",
   "execution_count": 9,
   "metadata": {},
   "outputs": [
    {
     "name": "stdout",
     "output_type": "stream",
     "text": [
      "\n",
      ". #delimit ;\n",
      "delimiter now ;\n",
      ". estimates table, keep(log_num_authors log_num_pages both_genders prop_women)\n",
      ">                  b(%5.4f) star varwidth(50) varlabel;\n",
      "\n",
      "-----------------------------------------------------------------\n",
      "                                          Variable |   Active    \n",
      "---------------------------------------------------+-------------\n",
      "                Logarithm of the number of authors | -0.0118     \n",
      "                  Logarithm of the number of pages |  0.4093***  \n",
      "    Indicator if author team includes both genders |  0.0004     \n",
      "             Proportion of women among the authors |  0.0416*    \n",
      "-----------------------------------------------------------------\n",
      "                         Legend: * p<0.05; ** p<0.01; *** p<0.001\n",
      "\n",
      ". #delimit cr\n",
      "delimiter now cr\n",
      ". \n"
     ]
    }
   ],
   "source": [
    "%%stata\n",
    "#delimit ;\n",
    "estimates table, keep(log_num_authors log_num_pages both_genders prop_women)\n",
    "                 b(%5.4f) star varwidth(50) varlabel;\n",
    "#delimit cr"
   ]
  },
  {
   "cell_type": "markdown",
   "metadata": {},
   "source": [
    "# Specification Curve Analysis"
   ]
  },
  {
   "cell_type": "markdown",
   "metadata": {},
   "source": [
    "Clearing the data set in memory, reloading, and creating the ```journal1``` variable"
   ]
  },
  {
   "cell_type": "code",
   "execution_count": 10,
   "metadata": {},
   "outputs": [
    {
     "name": "stdout",
     "output_type": "stream",
     "text": [
      "\n"
     ]
    }
   ],
   "source": [
    "%%stata -qui\n",
    "\n",
    "clear all\n",
    "use \"../data/data\", clear\n",
    "egen journal1 = group(journal)\n",
    "\n",
    "summarize num_sentences, detail\n",
    "local cutoff_sentences = r(p5)\n",
    "gen int excess_sentences = num_sentences - `cutoff_sentences'\n",
    "replace excess_sentences = 0 if excess_sentences < 0"
   ]
  },
  {
   "cell_type": "markdown",
   "metadata": {},
   "source": [
    "Commenting out the ```- log(F-K grade): log_flesch_kincaid_grade_level``` line in the ```.yml``` file."
   ]
  },
  {
   "cell_type": "code",
   "execution_count": 11,
   "metadata": {},
   "outputs": [
    {
     "name": "stdout",
     "output_type": "stream",
     "text": [
      "Line commented successfully!\n"
     ]
    }
   ],
   "source": [
    "import yaml\n",
    "\n",
    "# File name\n",
    "file_path = '../code/readability_graph_specurve.yml'\n",
    "\n",
    "# Read, modify, and save the file\n",
    "with open(file_path, 'r') as file:\n",
    "    lines = file.readlines()\n",
    "\n",
    "# Modify the target line\n",
    "modified_lines = []\n",
    "for line in lines:\n",
    "    if line.strip() == \"- log(F-K grade): log_flesch_kincaid_grade_level\":\n",
    "        modified_lines.append(f\"#     {line}\")  # Comment out the line\n",
    "    else:\n",
    "        modified_lines.append(line)\n",
    "\n",
    "# Write the modified content back to the file\n",
    "with open(file_path, 'w') as file:\n",
    "    file.writelines(modified_lines)\n",
    "\n",
    "print(\"Line commented successfully!\")"
   ]
  },
  {
   "cell_type": "code",
   "execution_count": 12,
   "metadata": {},
   "outputs": [
    {
     "name": "stdout",
     "output_type": "stream",
     "text": [
      "Line uncommented successfully if it was commented!\n"
     ]
    }
   ],
   "source": [
    "# File name\n",
    "file_path = '../code/readability_graph_specurve.yml'\n",
    "\n",
    "# Read, modify, and save the file\n",
    "with open(file_path, 'r') as file:\n",
    "    lines = file.readlines()\n",
    "\n",
    "# Modify the target line\n",
    "modified_lines = []\n",
    "for line in lines:\n",
    "    stripped_line = line.strip()\n",
    "    if stripped_line.startswith(\"#     - Excess Sentences: excess_sentences\"):\n",
    "        # Uncomment the line\n",
    "        modified_lines.append(line.replace(\"#     -\", \"-\"))  # Replace `#-` with `-`\n",
    "    else:\n",
    "        modified_lines.append(line)\n",
    "\n",
    "# Write the modified content back to the file\n",
    "with open(file_path, 'w') as file:\n",
    "    file.writelines(modified_lines)\n",
    "\n",
    "print(\"Line uncommented successfully if it was commented!\")"
   ]
  },
  {
   "cell_type": "markdown",
   "metadata": {},
   "source": [
    "Creating the specification curve by concentratng on the effect of ```prop_women``` on the count outcome variable ```excess_sentences```, by always controlling for the following regressors: ```both_genders```, ```log_num_authors```, ```log_num_pages```, and ```jel_flag```."
   ]
  },
  {
   "cell_type": "code",
   "execution_count": 13,
   "metadata": {},
   "outputs": [
    {
     "name": "stdout",
     "output_type": "stream",
     "text": [
      "\n",
      ". #delimit ;\n",
      "delimiter now ;\n",
      ". quietly specurve using \"readability_graph_specurve.yml\", cmd(ppmlhdfe)\n",
      ">         desc noci99 width(8) height(10) relativesize(0.4)\n",
      ">         scale(0.7) title(\"Specification Curve Analsyis of Proportion of Women\n",
      "> \");\n",
      "\n",
      ". #delimit crs\n",
      "delimiter now ;\n",
      ". \n"
     ]
    },
    {
     "data": {
      "image/svg+xml": [
       "<svg xmlns=\"http://www.w3.org/2000/svg\" xmlns:xlink=\"http://www.w3.org/1999/xlink\" version=\"1.1\" width=\"8.000in\" height=\"10.000in\" viewBox=\"0 0 5760 7200\">\n",
       "\t<desc>Stata Graph - Graph</desc>\n",
       "\t<rect x=\"0\" y=\"0\" width=\"5760\" height=\"7200\" style=\"fill:#FFFFFF;stroke:none\"/>\n",
       "\t<rect x=\"0.00\" y=\"0.00\" width=\"5760.00\" height=\"7200.00\" style=\"fill:#FFFFFF\"/>\n",
       "\t<rect x=\"5.76\" y=\"5.76\" width=\"5748.48\" height=\"7188.48\" style=\"fill:none;stroke:#FFFFFF;stroke-width:11.52\"/>\n",
       "\t<rect x=\"1132.20\" y=\"1030.95\" width=\"4426.20\" height=\"5785.43\" style=\"fill:#FFFFFF\"/>\n",
       "\t<rect x=\"1136.23\" y=\"1034.98\" width=\"4418.14\" height=\"5777.36\" style=\"fill:none;stroke:#FFFFFF;stroke-width:8.06\"/>\n",
       "\t<line x1=\"1132.20\" y1=\"3219.08\" x2=\"5558.40\" y2=\"3219.08\" style=\"stroke:#303030;stroke-width:12.10\"/>\n",
       "\t<rect x=\"1220.85\" y=\"1484.77\" width=\"283.28\" height=\"1783.35\" style=\"fill:#BFBFBF\"/>\n",
       "\t<rect x=\"1220.85\" y=\"1484.77\" width=\"283.28\" height=\"1783.35\" style=\"fill:none;stroke:#606060;stroke-width:0.00\"/>\n",
       "\t<rect x=\"1504.13\" y=\"1498.95\" width=\"283.28\" height=\"1855.58\" style=\"fill:#BFBFBF\"/>\n",
       "\t<rect x=\"1504.13\" y=\"1498.95\" width=\"283.28\" height=\"1855.58\" style=\"fill:none;stroke:#606060;stroke-width:0.00\"/>\n",
       "\t<rect x=\"1787.40\" y=\"1631.02\" width=\"283.28\" height=\"1703.25\" style=\"fill:#BFBFBF\"/>\n",
       "\t<rect x=\"1787.40\" y=\"1631.02\" width=\"283.28\" height=\"1703.25\" style=\"fill:none;stroke:#606060;stroke-width:0.00\"/>\n",
       "\t<rect x=\"2070.68\" y=\"1898.10\" width=\"283.27\" height=\"1190.47\" style=\"fill:#BFBFBF\"/>\n",
       "\t<rect x=\"2070.68\" y=\"1898.10\" width=\"283.27\" height=\"1190.47\" style=\"fill:none;stroke:#606060;stroke-width:0.00\"/>\n",
       "\t<rect x=\"2353.95\" y=\"1845.68\" width=\"283.05\" height=\"1359.00\" style=\"fill:#BFBFBF\"/>\n",
       "\t<rect x=\"2353.95\" y=\"1845.68\" width=\"283.05\" height=\"1359.00\" style=\"fill:none;stroke:#606060;stroke-width:0.00\"/>\n",
       "\t<rect x=\"2637.00\" y=\"1643.63\" width=\"283.28\" height=\"1773.90\" style=\"fill:#BFBFBF\"/>\n",
       "\t<rect x=\"2637.00\" y=\"1643.63\" width=\"283.28\" height=\"1773.90\" style=\"fill:none;stroke:#606060;stroke-width:0.00\"/>\n",
       "\t<rect x=\"2920.28\" y=\"1938.15\" width=\"283.28\" height=\"1195.65\" style=\"fill:#BFBFBF\"/>\n",
       "\t<rect x=\"2920.28\" y=\"1938.15\" width=\"283.28\" height=\"1195.65\" style=\"fill:none;stroke:#606060;stroke-width:0.00\"/>\n",
       "\t<rect x=\"3203.55\" y=\"1885.50\" width=\"283.27\" height=\"1361.25\" style=\"fill:#BFBFBF\"/>\n",
       "\t<rect x=\"3203.55\" y=\"1885.50\" width=\"283.27\" height=\"1361.25\" style=\"fill:none;stroke:#606060;stroke-width:0.00\"/>\n",
       "\t<rect x=\"3486.83\" y=\"1633.05\" width=\"283.28\" height=\"1895.85\" style=\"fill:#BFBFBF\"/>\n",
       "\t<rect x=\"3486.83\" y=\"1633.05\" width=\"283.28\" height=\"1895.85\" style=\"fill:none;stroke:#606060;stroke-width:0.00\"/>\n",
       "\t<rect x=\"3770.10\" y=\"1603.80\" width=\"283.28\" height=\"1988.55\" style=\"fill:#BFBFBF\"/>\n",
       "\t<rect x=\"3770.10\" y=\"1603.80\" width=\"283.28\" height=\"1988.55\" style=\"fill:none;stroke:#606060;stroke-width:0.00\"/>\n",
       "\t<rect x=\"4053.38\" y=\"2098.35\" width=\"283.27\" height=\"1238.40\" style=\"fill:#BFBFBF\"/>\n",
       "\t<rect x=\"4053.38\" y=\"2098.35\" width=\"283.27\" height=\"1238.40\" style=\"fill:none;stroke:#606060;stroke-width:0.00\"/>\n",
       "\t<rect x=\"4336.65\" y=\"2017.57\" width=\"283.28\" height=\"1413.23\" style=\"fill:#BFBFBF\"/>\n",
       "\t<rect x=\"4336.65\" y=\"2017.57\" width=\"283.28\" height=\"1413.23\" style=\"fill:none;stroke:#606060;stroke-width:0.00\"/>\n",
       "\t<rect x=\"4619.93\" y=\"2455.43\" width=\"283.27\" height=\"1467.00\" style=\"fill:#BFBFBF\"/>\n",
       "\t<rect x=\"4619.93\" y=\"2455.43\" width=\"283.27\" height=\"1467.00\" style=\"fill:none;stroke:#606060;stroke-width:0.00\"/>\n",
       "\t<rect x=\"4903.20\" y=\"2551.50\" width=\"283.28\" height=\"1293.30\" style=\"fill:#BFBFBF\"/>\n",
       "\t<rect x=\"4903.20\" y=\"2551.50\" width=\"283.28\" height=\"1293.30\" style=\"fill:none;stroke:#606060;stroke-width:0.00\"/>\n",
       "\t<rect x=\"5186.48\" y=\"2304.23\" width=\"283.27\" height=\"1843.65\" style=\"fill:#BFBFBF\"/>\n",
       "\t<rect x=\"5186.48\" y=\"2304.23\" width=\"283.27\" height=\"1843.65\" style=\"fill:none;stroke:#606060;stroke-width:0.00\"/>\n",
       "\t<circle cx=\"2212.20\" cy=\"2493.45\" r=\"14.85\" style=\"fill:none;stroke:#0000FF;stroke-width:12.10\"/>\n",
       "\t<circle cx=\"2495.25\" cy=\"2525.40\" r=\"14.85\" style=\"fill:none;stroke:#0000FF;stroke-width:12.10\"/>\n",
       "\t<circle cx=\"3061.80\" cy=\"2535.98\" r=\"14.85\" style=\"fill:none;stroke:#0000FF;stroke-width:12.10\"/>\n",
       "\t<line x1=\"1341.45\" y1=\"2376.45\" x2=\"1383.30\" y2=\"2376.45\" stroke-linecap=\"round\" style=\"fill:none;stroke:#0000FF;stroke-width:12.10\"/>\n",
       "\t<line x1=\"1362.38\" y1=\"2397.38\" x2=\"1362.38\" y2=\"2355.52\" stroke-linecap=\"round\" style=\"fill:none;stroke:#0000FF;stroke-width:12.10\"/>\n",
       "\t<line x1=\"1624.73\" y1=\"2426.85\" x2=\"1666.58\" y2=\"2426.85\" stroke-linecap=\"round\" style=\"fill:none;stroke:#0000FF;stroke-width:12.10\"/>\n",
       "\t<line x1=\"1645.65\" y1=\"2447.78\" x2=\"1645.65\" y2=\"2405.93\" stroke-linecap=\"round\" style=\"fill:none;stroke:#0000FF;stroke-width:12.10\"/>\n",
       "\t<line x1=\"1908.00\" y1=\"2482.65\" x2=\"1949.85\" y2=\"2482.65\" stroke-linecap=\"round\" style=\"fill:none;stroke:#0000FF;stroke-width:12.10\"/>\n",
       "\t<line x1=\"1928.93\" y1=\"2503.57\" x2=\"1928.93\" y2=\"2461.72\" stroke-linecap=\"round\" style=\"fill:none;stroke:#0000FF;stroke-width:12.10\"/>\n",
       "\t<line x1=\"3324.15\" y1=\"2566.13\" x2=\"3366.00\" y2=\"2566.13\" stroke-linecap=\"round\" style=\"fill:none;stroke:#0000FF;stroke-width:12.10\"/>\n",
       "\t<line x1=\"3345.08\" y1=\"2587.05\" x2=\"3345.08\" y2=\"2545.20\" stroke-linecap=\"round\" style=\"fill:none;stroke:#0000FF;stroke-width:12.10\"/>\n",
       "\t<circle cx=\"2778.53\" cy=\"2530.80\" r=\"20.90\" style=\"fill:#FF0000\"/>\n",
       "\t<circle cx=\"2778.53\" cy=\"2530.80\" r=\"14.85\" style=\"fill:none;stroke:#FF0000;stroke-width:12.10\"/>\n",
       "\t<circle cx=\"3628.35\" cy=\"2581.20\" r=\"20.90\" style=\"fill:#FF0000\"/>\n",
       "\t<circle cx=\"3628.35\" cy=\"2581.20\" r=\"14.85\" style=\"fill:none;stroke:#FF0000;stroke-width:12.10\"/>\n",
       "\t<circle cx=\"3911.63\" cy=\"2598.30\" r=\"20.90\" style=\"fill:#FF0000\"/>\n",
       "\t<circle cx=\"3911.63\" cy=\"2598.30\" r=\"14.85\" style=\"fill:none;stroke:#FF0000;stroke-width:12.10\"/>\n",
       "\t<circle cx=\"4194.90\" cy=\"2717.77\" r=\"20.90\" style=\"fill:#FF0000\"/>\n",
       "\t<circle cx=\"4194.90\" cy=\"2717.77\" r=\"14.85\" style=\"fill:none;stroke:#FF0000;stroke-width:12.10\"/>\n",
       "\t<circle cx=\"4478.18\" cy=\"2724.30\" r=\"20.90\" style=\"fill:#FF0000\"/>\n",
       "\t<circle cx=\"4478.18\" cy=\"2724.30\" r=\"14.85\" style=\"fill:none;stroke:#FF0000;stroke-width:12.10\"/>\n",
       "\t<circle cx=\"4761.45\" cy=\"3189.15\" r=\"20.90\" style=\"fill:#FF0000\"/>\n",
       "\t<circle cx=\"4761.45\" cy=\"3189.15\" r=\"14.85\" style=\"fill:none;stroke:#FF0000;stroke-width:12.10\"/>\n",
       "\t<circle cx=\"5044.73\" cy=\"3198.15\" r=\"20.90\" style=\"fill:#FF0000\"/>\n",
       "\t<circle cx=\"5044.73\" cy=\"3198.15\" r=\"14.85\" style=\"fill:none;stroke:#FF0000;stroke-width:12.10\"/>\n",
       "\t<circle cx=\"5328.00\" cy=\"3226.28\" r=\"20.90\" style=\"fill:#FF0000\"/>\n",
       "\t<circle cx=\"5328.00\" cy=\"3226.28\" r=\"14.85\" style=\"fill:none;stroke:#FF0000;stroke-width:12.10\"/>\n",
       "\t<circle cx=\"1362.38\" cy=\"4767.75\" r=\"13.47\" style=\"fill:#202020\"/>\n",
       "\t<circle cx=\"1362.38\" cy=\"4767.75\" r=\"7.43\" style=\"fill:none;stroke:#202020;stroke-width:12.10\"/>\n",
       "\t<circle cx=\"1645.65\" cy=\"4767.75\" r=\"13.47\" style=\"fill:#202020\"/>\n",
       "\t<circle cx=\"1645.65\" cy=\"4767.75\" r=\"7.43\" style=\"fill:none;stroke:#202020;stroke-width:12.10\"/>\n",
       "\t<circle cx=\"1928.93\" cy=\"4767.75\" r=\"13.47\" style=\"fill:#202020\"/>\n",
       "\t<circle cx=\"1928.93\" cy=\"4767.75\" r=\"7.43\" style=\"fill:none;stroke:#202020;stroke-width:12.10\"/>\n",
       "\t<circle cx=\"2212.20\" cy=\"4767.75\" r=\"13.47\" style=\"fill:#202020\"/>\n",
       "\t<circle cx=\"2212.20\" cy=\"4767.75\" r=\"7.43\" style=\"fill:none;stroke:#202020;stroke-width:12.10\"/>\n",
       "\t<circle cx=\"2495.25\" cy=\"4767.75\" r=\"13.47\" style=\"fill:#202020\"/>\n",
       "\t<circle cx=\"2495.25\" cy=\"4767.75\" r=\"7.43\" style=\"fill:none;stroke:#202020;stroke-width:12.10\"/>\n",
       "\t<circle cx=\"2778.53\" cy=\"4767.75\" r=\"13.47\" style=\"fill:#202020\"/>\n",
       "\t<circle cx=\"2778.53\" cy=\"4767.75\" r=\"7.43\" style=\"fill:none;stroke:#202020;stroke-width:12.10\"/>\n",
       "\t<circle cx=\"3061.80\" cy=\"4767.75\" r=\"13.47\" style=\"fill:#202020\"/>\n",
       "\t<circle cx=\"3061.80\" cy=\"4767.75\" r=\"7.43\" style=\"fill:none;stroke:#202020;stroke-width:12.10\"/>\n",
       "\t<circle cx=\"3345.08\" cy=\"4767.75\" r=\"13.47\" style=\"fill:#202020\"/>\n",
       "\t<circle cx=\"3345.08\" cy=\"4767.75\" r=\"7.43\" style=\"fill:none;stroke:#202020;stroke-width:12.10\"/>\n",
       "\t<circle cx=\"3628.35\" cy=\"4767.75\" r=\"13.47\" style=\"fill:#202020\"/>\n",
       "\t<circle cx=\"3628.35\" cy=\"4767.75\" r=\"7.43\" style=\"fill:none;stroke:#202020;stroke-width:12.10\"/>\n",
       "\t<circle cx=\"3911.63\" cy=\"4767.75\" r=\"13.47\" style=\"fill:#202020\"/>\n",
       "\t<circle cx=\"3911.63\" cy=\"4767.75\" r=\"7.43\" style=\"fill:none;stroke:#202020;stroke-width:12.10\"/>\n",
       "\t<circle cx=\"4194.90\" cy=\"4767.75\" r=\"13.47\" style=\"fill:#202020\"/>\n",
       "\t<circle cx=\"4194.90\" cy=\"4767.75\" r=\"7.43\" style=\"fill:none;stroke:#202020;stroke-width:12.10\"/>\n",
       "\t<circle cx=\"4478.18\" cy=\"4767.75\" r=\"13.47\" style=\"fill:#202020\"/>\n",
       "\t<circle cx=\"4478.18\" cy=\"4767.75\" r=\"7.43\" style=\"fill:none;stroke:#202020;stroke-width:12.10\"/>\n",
       "\t<circle cx=\"4761.45\" cy=\"4767.75\" r=\"13.47\" style=\"fill:#202020\"/>\n",
       "\t<circle cx=\"4761.45\" cy=\"4767.75\" r=\"7.43\" style=\"fill:none;stroke:#202020;stroke-width:12.10\"/>\n",
       "\t<circle cx=\"5044.73\" cy=\"4767.75\" r=\"13.47\" style=\"fill:#202020\"/>\n",
       "\t<circle cx=\"5044.73\" cy=\"4767.75\" r=\"7.43\" style=\"fill:none;stroke:#202020;stroke-width:12.10\"/>\n",
       "\t<circle cx=\"5328.00\" cy=\"4767.75\" r=\"13.47\" style=\"fill:#202020\"/>\n",
       "\t<circle cx=\"5328.00\" cy=\"4767.75\" r=\"7.43\" style=\"fill:none;stroke:#202020;stroke-width:12.10\"/>\n",
       "\t<circle cx=\"1362.38\" cy=\"4931.10\" r=\"13.47\" style=\"fill:#707070\"/>\n",
       "\t<circle cx=\"1362.38\" cy=\"4931.10\" r=\"7.43\" style=\"fill:none;stroke:#707070;stroke-width:12.10\"/>\n",
       "\t<circle cx=\"1645.65\" cy=\"4931.10\" r=\"13.47\" style=\"fill:#707070\"/>\n",
       "\t<circle cx=\"1645.65\" cy=\"4931.10\" r=\"7.43\" style=\"fill:none;stroke:#707070;stroke-width:12.10\"/>\n",
       "\t<circle cx=\"1928.93\" cy=\"4931.10\" r=\"13.47\" style=\"fill:#707070\"/>\n",
       "\t<circle cx=\"1928.93\" cy=\"4931.10\" r=\"7.43\" style=\"fill:none;stroke:#707070;stroke-width:12.10\"/>\n",
       "\t<circle cx=\"2212.20\" cy=\"4931.10\" r=\"13.47\" style=\"fill:#707070\"/>\n",
       "\t<circle cx=\"2212.20\" cy=\"4931.10\" r=\"7.43\" style=\"fill:none;stroke:#707070;stroke-width:12.10\"/>\n",
       "\t<circle cx=\"2495.25\" cy=\"4931.10\" r=\"13.47\" style=\"fill:#707070\"/>\n",
       "\t<circle cx=\"2495.25\" cy=\"4931.10\" r=\"7.43\" style=\"fill:none;stroke:#707070;stroke-width:12.10\"/>\n",
       "\t<circle cx=\"2778.53\" cy=\"4931.10\" r=\"13.47\" style=\"fill:#707070\"/>\n",
       "\t<circle cx=\"2778.53\" cy=\"4931.10\" r=\"7.43\" style=\"fill:none;stroke:#707070;stroke-width:12.10\"/>\n",
       "\t<circle cx=\"3061.80\" cy=\"4931.10\" r=\"13.47\" style=\"fill:#707070\"/>\n",
       "\t<circle cx=\"3061.80\" cy=\"4931.10\" r=\"7.43\" style=\"fill:none;stroke:#707070;stroke-width:12.10\"/>\n",
       "\t<circle cx=\"3345.08\" cy=\"4931.10\" r=\"13.47\" style=\"fill:#707070\"/>\n",
       "\t<circle cx=\"3345.08\" cy=\"4931.10\" r=\"7.43\" style=\"fill:none;stroke:#707070;stroke-width:12.10\"/>\n",
       "\t<circle cx=\"3628.35\" cy=\"4931.10\" r=\"13.47\" style=\"fill:#707070\"/>\n",
       "\t<circle cx=\"3628.35\" cy=\"4931.10\" r=\"7.43\" style=\"fill:none;stroke:#707070;stroke-width:12.10\"/>\n",
       "\t<circle cx=\"3911.63\" cy=\"4931.10\" r=\"13.47\" style=\"fill:#707070\"/>\n",
       "\t<circle cx=\"3911.63\" cy=\"4931.10\" r=\"7.43\" style=\"fill:none;stroke:#707070;stroke-width:12.10\"/>\n",
       "\t<circle cx=\"4194.90\" cy=\"4931.10\" r=\"13.47\" style=\"fill:#707070\"/>\n",
       "\t<circle cx=\"4194.90\" cy=\"4931.10\" r=\"7.43\" style=\"fill:none;stroke:#707070;stroke-width:12.10\"/>\n",
       "\t<circle cx=\"4478.18\" cy=\"4931.10\" r=\"13.47\" style=\"fill:#707070\"/>\n",
       "\t<circle cx=\"4478.18\" cy=\"4931.10\" r=\"7.43\" style=\"fill:none;stroke:#707070;stroke-width:12.10\"/>\n",
       "\t<circle cx=\"4761.45\" cy=\"4931.10\" r=\"13.47\" style=\"fill:#707070\"/>\n",
       "\t<circle cx=\"4761.45\" cy=\"4931.10\" r=\"7.43\" style=\"fill:none;stroke:#707070;stroke-width:12.10\"/>\n",
       "\t<circle cx=\"5044.73\" cy=\"4931.10\" r=\"13.47\" style=\"fill:#707070\"/>\n",
       "\t<circle cx=\"5044.73\" cy=\"4931.10\" r=\"7.43\" style=\"fill:none;stroke:#707070;stroke-width:12.10\"/>\n",
       "\t<circle cx=\"5328.00\" cy=\"4931.10\" r=\"13.47\" style=\"fill:#707070\"/>\n",
       "\t<circle cx=\"5328.00\" cy=\"4931.10\" r=\"7.43\" style=\"fill:none;stroke:#707070;stroke-width:12.10\"/>\n",
       "\t<circle cx=\"1362.38\" cy=\"5094.45\" r=\"13.47\" style=\"fill:#909090\"/>\n",
       "\t<circle cx=\"1362.38\" cy=\"5094.45\" r=\"7.43\" style=\"fill:none;stroke:#909090;stroke-width:12.10\"/>\n",
       "\t<circle cx=\"1645.65\" cy=\"5094.45\" r=\"13.47\" style=\"fill:#909090\"/>\n",
       "\t<circle cx=\"1645.65\" cy=\"5094.45\" r=\"7.43\" style=\"fill:none;stroke:#909090;stroke-width:12.10\"/>\n",
       "\t<circle cx=\"1928.93\" cy=\"5094.45\" r=\"13.47\" style=\"fill:#909090\"/>\n",
       "\t<circle cx=\"1928.93\" cy=\"5094.45\" r=\"7.43\" style=\"fill:none;stroke:#909090;stroke-width:12.10\"/>\n",
       "\t<circle cx=\"2212.20\" cy=\"5094.45\" r=\"13.47\" style=\"fill:#909090\"/>\n",
       "\t<circle cx=\"2212.20\" cy=\"5094.45\" r=\"7.43\" style=\"fill:none;stroke:#909090;stroke-width:12.10\"/>\n",
       "\t<circle cx=\"2495.25\" cy=\"5094.45\" r=\"13.47\" style=\"fill:#909090\"/>\n",
       "\t<circle cx=\"2495.25\" cy=\"5094.45\" r=\"7.43\" style=\"fill:none;stroke:#909090;stroke-width:12.10\"/>\n",
       "\t<circle cx=\"2778.53\" cy=\"5094.45\" r=\"13.47\" style=\"fill:#909090\"/>\n",
       "\t<circle cx=\"2778.53\" cy=\"5094.45\" r=\"7.43\" style=\"fill:none;stroke:#909090;stroke-width:12.10\"/>\n",
       "\t<circle cx=\"3061.80\" cy=\"5094.45\" r=\"13.47\" style=\"fill:#909090\"/>\n",
       "\t<circle cx=\"3061.80\" cy=\"5094.45\" r=\"7.43\" style=\"fill:none;stroke:#909090;stroke-width:12.10\"/>\n",
       "\t<circle cx=\"3345.08\" cy=\"5094.45\" r=\"13.47\" style=\"fill:#909090\"/>\n",
       "\t<circle cx=\"3345.08\" cy=\"5094.45\" r=\"7.43\" style=\"fill:none;stroke:#909090;stroke-width:12.10\"/>\n",
       "\t<circle cx=\"3628.35\" cy=\"5094.45\" r=\"13.47\" style=\"fill:#909090\"/>\n",
       "\t<circle cx=\"3628.35\" cy=\"5094.45\" r=\"7.43\" style=\"fill:none;stroke:#909090;stroke-width:12.10\"/>\n",
       "\t<circle cx=\"3911.63\" cy=\"5094.45\" r=\"13.47\" style=\"fill:#909090\"/>\n",
       "\t<circle cx=\"3911.63\" cy=\"5094.45\" r=\"7.43\" style=\"fill:none;stroke:#909090;stroke-width:12.10\"/>\n",
       "\t<circle cx=\"4194.90\" cy=\"5094.45\" r=\"13.47\" style=\"fill:#909090\"/>\n",
       "\t<circle cx=\"4194.90\" cy=\"5094.45\" r=\"7.43\" style=\"fill:none;stroke:#909090;stroke-width:12.10\"/>\n",
       "\t<circle cx=\"4478.18\" cy=\"5094.45\" r=\"13.47\" style=\"fill:#909090\"/>\n",
       "\t<circle cx=\"4478.18\" cy=\"5094.45\" r=\"7.43\" style=\"fill:none;stroke:#909090;stroke-width:12.10\"/>\n",
       "\t<circle cx=\"4761.45\" cy=\"5094.45\" r=\"13.47\" style=\"fill:#909090\"/>\n",
       "\t<circle cx=\"4761.45\" cy=\"5094.45\" r=\"7.43\" style=\"fill:none;stroke:#909090;stroke-width:12.10\"/>\n",
       "\t<circle cx=\"5044.73\" cy=\"5094.45\" r=\"13.47\" style=\"fill:#909090\"/>\n",
       "\t<circle cx=\"5044.73\" cy=\"5094.45\" r=\"7.43\" style=\"fill:none;stroke:#909090;stroke-width:12.10\"/>\n",
       "\t<circle cx=\"5328.00\" cy=\"5094.45\" r=\"13.47\" style=\"fill:#909090\"/>\n",
       "\t<circle cx=\"5328.00\" cy=\"5094.45\" r=\"7.43\" style=\"fill:none;stroke:#909090;stroke-width:12.10\"/>\n",
       "\t<circle cx=\"1362.38\" cy=\"5584.50\" r=\"13.47\" style=\"fill:#B0B0B0\"/>\n",
       "\t<circle cx=\"1362.38\" cy=\"5584.50\" r=\"7.43\" style=\"fill:none;stroke:#B0B0B0;stroke-width:12.10\"/>\n",
       "\t<circle cx=\"1645.65\" cy=\"6074.55\" r=\"13.47\" style=\"fill:#B0B0B0\"/>\n",
       "\t<circle cx=\"1645.65\" cy=\"6074.55\" r=\"7.43\" style=\"fill:none;stroke:#B0B0B0;stroke-width:12.10\"/>\n",
       "\t<circle cx=\"1928.93\" cy=\"5257.80\" r=\"13.47\" style=\"fill:#B0B0B0\"/>\n",
       "\t<circle cx=\"1928.93\" cy=\"5257.80\" r=\"7.43\" style=\"fill:none;stroke:#B0B0B0;stroke-width:12.10\"/>\n",
       "\t<circle cx=\"2212.20\" cy=\"6156.23\" r=\"13.47\" style=\"fill:#B0B0B0\"/>\n",
       "\t<circle cx=\"2212.20\" cy=\"6156.23\" r=\"7.43\" style=\"fill:none;stroke:#B0B0B0;stroke-width:12.10\"/>\n",
       "\t<circle cx=\"2495.25\" cy=\"6401.25\" r=\"13.47\" style=\"fill:#B0B0B0\"/>\n",
       "\t<circle cx=\"2495.25\" cy=\"6401.25\" r=\"7.43\" style=\"fill:none;stroke:#B0B0B0;stroke-width:12.10\"/>\n",
       "\t<circle cx=\"2778.53\" cy=\"5666.18\" r=\"13.47\" style=\"fill:#B0B0B0\"/>\n",
       "\t<circle cx=\"2778.53\" cy=\"5666.18\" r=\"7.43\" style=\"fill:none;stroke:#B0B0B0;stroke-width:12.10\"/>\n",
       "\t<circle cx=\"3061.80\" cy=\"5747.85\" r=\"13.47\" style=\"fill:#B0B0B0\"/>\n",
       "\t<circle cx=\"3061.80\" cy=\"5747.85\" r=\"7.43\" style=\"fill:none;stroke:#B0B0B0;stroke-width:12.10\"/>\n",
       "\t<circle cx=\"3345.08\" cy=\"6237.90\" r=\"13.47\" style=\"fill:#B0B0B0\"/>\n",
       "\t<circle cx=\"3345.08\" cy=\"6237.90\" r=\"7.43\" style=\"fill:none;stroke:#B0B0B0;stroke-width:12.10\"/>\n",
       "\t<circle cx=\"3628.35\" cy=\"5339.48\" r=\"13.47\" style=\"fill:#B0B0B0\"/>\n",
       "\t<circle cx=\"3628.35\" cy=\"5339.48\" r=\"7.43\" style=\"fill:none;stroke:#B0B0B0;stroke-width:12.10\"/>\n",
       "\t<circle cx=\"3911.63\" cy=\"5829.53\" r=\"13.47\" style=\"fill:#B0B0B0\"/>\n",
       "\t<circle cx=\"3911.63\" cy=\"5829.53\" r=\"7.43\" style=\"fill:none;stroke:#B0B0B0;stroke-width:12.10\"/>\n",
       "\t<circle cx=\"4194.90\" cy=\"5911.20\" r=\"13.47\" style=\"fill:#B0B0B0\"/>\n",
       "\t<circle cx=\"4194.90\" cy=\"5911.20\" r=\"7.43\" style=\"fill:none;stroke:#B0B0B0;stroke-width:12.10\"/>\n",
       "\t<circle cx=\"4478.18\" cy=\"6319.58\" r=\"13.47\" style=\"fill:#B0B0B0\"/>\n",
       "\t<circle cx=\"4478.18\" cy=\"6319.58\" r=\"7.43\" style=\"fill:none;stroke:#B0B0B0;stroke-width:12.10\"/>\n",
       "\t<circle cx=\"4761.45\" cy=\"5992.88\" r=\"13.47\" style=\"fill:#B0B0B0\"/>\n",
       "\t<circle cx=\"4761.45\" cy=\"5992.88\" r=\"7.43\" style=\"fill:none;stroke:#B0B0B0;stroke-width:12.10\"/>\n",
       "\t<circle cx=\"5044.73\" cy=\"5502.83\" r=\"13.47\" style=\"fill:#B0B0B0\"/>\n",
       "\t<circle cx=\"5044.73\" cy=\"5502.83\" r=\"7.43\" style=\"fill:none;stroke:#B0B0B0;stroke-width:12.10\"/>\n",
       "\t<circle cx=\"5328.00\" cy=\"5421.15\" r=\"13.47\" style=\"fill:#B0B0B0\"/>\n",
       "\t<circle cx=\"5328.00\" cy=\"5421.15\" r=\"7.43\" style=\"fill:none;stroke:#B0B0B0;stroke-width:12.10\"/>\n",
       "\t<circle cx=\"1362.38\" cy=\"6564.60\" r=\"13.47\" style=\"fill:#D0D0D0\"/>\n",
       "\t<circle cx=\"1362.38\" cy=\"6564.60\" r=\"7.43\" style=\"fill:none;stroke:#D0D0D0;stroke-width:12.10\"/>\n",
       "\t<circle cx=\"1645.65\" cy=\"6564.60\" r=\"13.47\" style=\"fill:#D0D0D0\"/>\n",
       "\t<circle cx=\"1645.65\" cy=\"6564.60\" r=\"7.43\" style=\"fill:none;stroke:#D0D0D0;stroke-width:12.10\"/>\n",
       "\t<circle cx=\"1928.93\" cy=\"6564.60\" r=\"13.47\" style=\"fill:#D0D0D0\"/>\n",
       "\t<circle cx=\"1928.93\" cy=\"6564.60\" r=\"7.43\" style=\"fill:none;stroke:#D0D0D0;stroke-width:12.10\"/>\n",
       "\t<circle cx=\"2212.20\" cy=\"6564.60\" r=\"13.47\" style=\"fill:#D0D0D0\"/>\n",
       "\t<circle cx=\"2212.20\" cy=\"6564.60\" r=\"7.43\" style=\"fill:none;stroke:#D0D0D0;stroke-width:12.10\"/>\n",
       "\t<circle cx=\"2495.25\" cy=\"6564.60\" r=\"13.47\" style=\"fill:#D0D0D0\"/>\n",
       "\t<circle cx=\"2495.25\" cy=\"6564.60\" r=\"7.43\" style=\"fill:none;stroke:#D0D0D0;stroke-width:12.10\"/>\n",
       "\t<circle cx=\"2778.53\" cy=\"6564.60\" r=\"13.47\" style=\"fill:#D0D0D0\"/>\n",
       "\t<circle cx=\"2778.53\" cy=\"6564.60\" r=\"7.43\" style=\"fill:none;stroke:#D0D0D0;stroke-width:12.10\"/>\n",
       "\t<circle cx=\"3061.80\" cy=\"6564.60\" r=\"13.47\" style=\"fill:#D0D0D0\"/>\n",
       "\t<circle cx=\"3061.80\" cy=\"6564.60\" r=\"7.43\" style=\"fill:none;stroke:#D0D0D0;stroke-width:12.10\"/>\n",
       "\t<circle cx=\"3345.08\" cy=\"6564.60\" r=\"13.47\" style=\"fill:#D0D0D0\"/>\n",
       "\t<circle cx=\"3345.08\" cy=\"6564.60\" r=\"7.43\" style=\"fill:none;stroke:#D0D0D0;stroke-width:12.10\"/>\n",
       "\t<circle cx=\"3628.35\" cy=\"6564.60\" r=\"13.47\" style=\"fill:#D0D0D0\"/>\n",
       "\t<circle cx=\"3628.35\" cy=\"6564.60\" r=\"7.43\" style=\"fill:none;stroke:#D0D0D0;stroke-width:12.10\"/>\n",
       "\t<circle cx=\"3911.63\" cy=\"6564.60\" r=\"13.47\" style=\"fill:#D0D0D0\"/>\n",
       "\t<circle cx=\"3911.63\" cy=\"6564.60\" r=\"7.43\" style=\"fill:none;stroke:#D0D0D0;stroke-width:12.10\"/>\n",
       "\t<circle cx=\"4194.90\" cy=\"6564.60\" r=\"13.47\" style=\"fill:#D0D0D0\"/>\n",
       "\t<circle cx=\"4194.90\" cy=\"6564.60\" r=\"7.43\" style=\"fill:none;stroke:#D0D0D0;stroke-width:12.10\"/>\n",
       "\t<circle cx=\"4478.18\" cy=\"6564.60\" r=\"13.47\" style=\"fill:#D0D0D0\"/>\n",
       "\t<circle cx=\"4478.18\" cy=\"6564.60\" r=\"7.43\" style=\"fill:none;stroke:#D0D0D0;stroke-width:12.10\"/>\n",
       "\t<circle cx=\"4761.45\" cy=\"6564.60\" r=\"13.47\" style=\"fill:#D0D0D0\"/>\n",
       "\t<circle cx=\"4761.45\" cy=\"6564.60\" r=\"7.43\" style=\"fill:none;stroke:#D0D0D0;stroke-width:12.10\"/>\n",
       "\t<circle cx=\"5044.73\" cy=\"6564.60\" r=\"13.47\" style=\"fill:#D0D0D0\"/>\n",
       "\t<circle cx=\"5044.73\" cy=\"6564.60\" r=\"7.43\" style=\"fill:none;stroke:#D0D0D0;stroke-width:12.10\"/>\n",
       "\t<circle cx=\"5328.00\" cy=\"6564.60\" r=\"13.47\" style=\"fill:#D0D0D0\"/>\n",
       "\t<circle cx=\"5328.00\" cy=\"6564.60\" r=\"7.43\" style=\"fill:none;stroke:#D0D0D0;stroke-width:12.10\"/>\n",
       "\t<circle cx=\"1362.38\" cy=\"6727.95\" r=\"13.47\" style=\"fill:#505050\"/>\n",
       "\t<circle cx=\"1362.38\" cy=\"6727.95\" r=\"7.43\" style=\"fill:none;stroke:#505050;stroke-width:12.10\"/>\n",
       "\t<circle cx=\"1645.65\" cy=\"6727.95\" r=\"13.47\" style=\"fill:#505050\"/>\n",
       "\t<circle cx=\"1645.65\" cy=\"6727.95\" r=\"7.43\" style=\"fill:none;stroke:#505050;stroke-width:12.10\"/>\n",
       "\t<circle cx=\"1928.93\" cy=\"6727.95\" r=\"13.47\" style=\"fill:#505050\"/>\n",
       "\t<circle cx=\"1928.93\" cy=\"6727.95\" r=\"7.43\" style=\"fill:none;stroke:#505050;stroke-width:12.10\"/>\n",
       "\t<circle cx=\"2212.20\" cy=\"6727.95\" r=\"13.47\" style=\"fill:#505050\"/>\n",
       "\t<circle cx=\"2212.20\" cy=\"6727.95\" r=\"7.43\" style=\"fill:none;stroke:#505050;stroke-width:12.10\"/>\n",
       "\t<circle cx=\"2495.25\" cy=\"6727.95\" r=\"13.47\" style=\"fill:#505050\"/>\n",
       "\t<circle cx=\"2495.25\" cy=\"6727.95\" r=\"7.43\" style=\"fill:none;stroke:#505050;stroke-width:12.10\"/>\n",
       "\t<circle cx=\"2778.53\" cy=\"6727.95\" r=\"13.47\" style=\"fill:#505050\"/>\n",
       "\t<circle cx=\"2778.53\" cy=\"6727.95\" r=\"7.43\" style=\"fill:none;stroke:#505050;stroke-width:12.10\"/>\n",
       "\t<circle cx=\"3061.80\" cy=\"6727.95\" r=\"13.47\" style=\"fill:#505050\"/>\n",
       "\t<circle cx=\"3061.80\" cy=\"6727.95\" r=\"7.43\" style=\"fill:none;stroke:#505050;stroke-width:12.10\"/>\n",
       "\t<circle cx=\"3345.08\" cy=\"6727.95\" r=\"13.47\" style=\"fill:#505050\"/>\n",
       "\t<circle cx=\"3345.08\" cy=\"6727.95\" r=\"7.43\" style=\"fill:none;stroke:#505050;stroke-width:12.10\"/>\n",
       "\t<circle cx=\"3628.35\" cy=\"6727.95\" r=\"13.47\" style=\"fill:#505050\"/>\n",
       "\t<circle cx=\"3628.35\" cy=\"6727.95\" r=\"7.43\" style=\"fill:none;stroke:#505050;stroke-width:12.10\"/>\n",
       "\t<circle cx=\"3911.63\" cy=\"6727.95\" r=\"13.47\" style=\"fill:#505050\"/>\n",
       "\t<circle cx=\"3911.63\" cy=\"6727.95\" r=\"7.43\" style=\"fill:none;stroke:#505050;stroke-width:12.10\"/>\n",
       "\t<circle cx=\"4194.90\" cy=\"6727.95\" r=\"13.47\" style=\"fill:#505050\"/>\n",
       "\t<circle cx=\"4194.90\" cy=\"6727.95\" r=\"7.43\" style=\"fill:none;stroke:#505050;stroke-width:12.10\"/>\n",
       "\t<circle cx=\"4478.18\" cy=\"6727.95\" r=\"13.47\" style=\"fill:#505050\"/>\n",
       "\t<circle cx=\"4478.18\" cy=\"6727.95\" r=\"7.43\" style=\"fill:none;stroke:#505050;stroke-width:12.10\"/>\n",
       "\t<circle cx=\"4761.45\" cy=\"6727.95\" r=\"13.47\" style=\"fill:#505050\"/>\n",
       "\t<circle cx=\"4761.45\" cy=\"6727.95\" r=\"7.43\" style=\"fill:none;stroke:#505050;stroke-width:12.10\"/>\n",
       "\t<circle cx=\"5044.73\" cy=\"6727.95\" r=\"13.47\" style=\"fill:#505050\"/>\n",
       "\t<circle cx=\"5044.73\" cy=\"6727.95\" r=\"7.43\" style=\"fill:none;stroke:#505050;stroke-width:12.10\"/>\n",
       "\t<circle cx=\"5328.00\" cy=\"6727.95\" r=\"13.47\" style=\"fill:#505050\"/>\n",
       "\t<circle cx=\"5328.00\" cy=\"6727.95\" r=\"7.43\" style=\"fill:none;stroke:#505050;stroke-width:12.10\"/>\n",
       "\t<line x1=\"1132.20\" y1=\"6816.38\" x2=\"1132.20\" y2=\"1030.95\" style=\"stroke:#000000;stroke-width:8.06\"/>\n",
       "\t<line x1=\"1132.20\" y1=\"4522.50\" x2=\"1076.18\" y2=\"4522.50\" style=\"stroke:#000000;stroke-width:8.06\"/>\n",
       "\t<text x=\"1048.05\" y=\"4561.77\" style=\"font-family:'Helvetica';font-size:112.05px;fill:#000000\" text-anchor=\"end\">-0.078</text>\n",
       "\t<line x1=\"1132.20\" y1=\"3671.78\" x2=\"1076.18\" y2=\"3671.78\" style=\"stroke:#000000;stroke-width:8.06\"/>\n",
       "\t<text x=\"1048.05\" y=\"3711.05\" style=\"font-family:'Helvetica';font-size:112.05px;fill:#000000\" text-anchor=\"end\">-0.027</text>\n",
       "\t<line x1=\"1132.20\" y1=\"2821.05\" x2=\"1076.18\" y2=\"2821.05\" style=\"stroke:#000000;stroke-width:8.06\"/>\n",
       "\t<text x=\"1048.05\" y=\"2860.32\" style=\"font-family:'Helvetica';font-size:112.05px;fill:#000000\" text-anchor=\"end\">0.024</text>\n",
       "\t<line x1=\"1132.20\" y1=\"1970.32\" x2=\"1076.18\" y2=\"1970.32\" style=\"stroke:#000000;stroke-width:8.06\"/>\n",
       "\t<text x=\"1048.05\" y=\"2009.60\" style=\"font-family:'Helvetica';font-size:112.05px;fill:#000000\" text-anchor=\"end\">0.075</text>\n",
       "\t<line x1=\"1132.20\" y1=\"1119.60\" x2=\"1076.18\" y2=\"1119.60\" style=\"stroke:#000000;stroke-width:8.06\"/>\n",
       "\t<text x=\"1048.05\" y=\"1158.87\" style=\"font-family:'Helvetica';font-size:112.05px;fill:#000000\" text-anchor=\"end\">0.126</text>\n",
       "\t<text x=\"1104.08\" y=\"3258.35\" style=\"font-family:'Helvetica';font-size:112.05px;fill:#C10534\" text-anchor=\"end\">0</text>\n",
       "\t<text x=\"1104.08\" y=\"4705.52\" style=\"font-family:'Helvetica';font-weight:bold;font-size:56.03px;fill:#000000\" text-anchor=\"end\">Dependent variable</text>\n",
       "\t<text x=\"1104.08\" y=\"4868.87\" style=\"font-family:'Helvetica';font-weight:bold;font-size:56.03px;fill:#000000\" text-anchor=\"end\">Focal variable</text>\n",
       "\t<text x=\"1104.08\" y=\"5032.22\" style=\"font-family:'Helvetica';font-weight:bold;font-size:56.03px;fill:#000000\" text-anchor=\"end\">Control variables</text>\n",
       "\t<text x=\"1104.08\" y=\"5195.56\" style=\"font-family:'Helvetica';font-weight:bold;font-size:56.03px;fill:#000000\" text-anchor=\"end\">Fixed effects</text>\n",
       "\t<text x=\"1104.08\" y=\"6502.37\" style=\"font-family:'Helvetica';font-weight:bold;font-size:56.03px;fill:#000000\" text-anchor=\"end\">Standard error clustering</text>\n",
       "\t<text x=\"1104.08\" y=\"6665.72\" style=\"font-family:'Helvetica';font-weight:bold;font-size:56.03px;fill:#000000\" text-anchor=\"end\">Condition</text>\n",
       "\t<text x=\"1104.08\" y=\"4787.19\" style=\"font-family:'Helvetica';font-size:56.03px;fill:#000000\" text-anchor=\"end\">Excess Sentences</text>\n",
       "\t<text x=\"1104.08\" y=\"4950.54\" style=\"font-family:'Helvetica';font-size:56.03px;fill:#000000\" text-anchor=\"end\">Proportion of women</text>\n",
       "\t<text x=\"1104.08\" y=\"5113.89\" style=\"font-family:'Helvetica';font-size:56.03px;fill:#000000\" text-anchor=\"end\">Baseline</text>\n",
       "\t<text x=\"1104.08\" y=\"5277.24\" style=\"font-family:'Helvetica';font-size:56.03px;fill:#000000\" text-anchor=\"end\">Journals</text>\n",
       "\t<text x=\"1104.08\" y=\"5358.92\" style=\"font-family:'Helvetica';font-size:56.03px;fill:#000000\" text-anchor=\"end\">JEL code</text>\n",
       "\t<text x=\"1104.08\" y=\"5440.59\" style=\"font-family:'Helvetica';font-size:56.03px;fill:#000000\" text-anchor=\"end\">Years</text>\n",
       "\t<text x=\"1104.08\" y=\"5522.27\" style=\"font-family:'Helvetica';font-size:56.03px;fill:#000000\" text-anchor=\"end\">Clusters</text>\n",
       "\t<text x=\"1104.08\" y=\"5603.94\" style=\"font-family:'Helvetica';font-size:56.03px;fill:#000000\" text-anchor=\"end\">Journals, JEL code</text>\n",
       "\t<text x=\"1104.08\" y=\"5685.62\" style=\"font-family:'Helvetica';font-size:56.03px;fill:#000000\" text-anchor=\"end\">Journals, Years</text>\n",
       "\t<text x=\"1104.08\" y=\"5767.29\" style=\"font-family:'Helvetica';font-size:56.03px;fill:#000000\" text-anchor=\"end\">Journals, Clusters</text>\n",
       "\t<text x=\"1104.08\" y=\"5848.97\" style=\"font-family:'Helvetica';font-size:56.03px;fill:#000000\" text-anchor=\"end\">JEL code, Years</text>\n",
       "\t<text x=\"1104.08\" y=\"5930.64\" style=\"font-family:'Helvetica';font-size:56.03px;fill:#000000\" text-anchor=\"end\">JEL code, Clusters</text>\n",
       "\t<text x=\"1104.08\" y=\"6012.32\" style=\"font-family:'Helvetica';font-size:56.03px;fill:#000000\" text-anchor=\"end\">Year, Clusters</text>\n",
       "\t<text x=\"1104.08\" y=\"6093.99\" style=\"font-family:'Helvetica';font-size:56.03px;fill:#000000\" text-anchor=\"end\">Journals, JEL code, Years</text>\n",
       "\t<text x=\"1104.08\" y=\"6175.67\" style=\"font-family:'Helvetica';font-size:56.03px;fill:#000000\" text-anchor=\"end\">Journals, JEL code, Clusters</text>\n",
       "\t<text x=\"1104.08\" y=\"6257.34\" style=\"font-family:'Helvetica';font-size:56.03px;fill:#000000\" text-anchor=\"end\">Journals, Years, Clusters</text>\n",
       "\t<text x=\"1104.08\" y=\"6339.02\" style=\"font-family:'Helvetica';font-size:56.03px;fill:#000000\" text-anchor=\"end\">JEL code, Years, Clusters</text>\n",
       "\t<text x=\"1104.08\" y=\"6420.69\" style=\"font-family:'Helvetica';font-size:56.03px;fill:#000000\" text-anchor=\"end\">Journals, JEL code, Years, Clusters</text>\n",
       "\t<text x=\"1104.08\" y=\"6584.04\" style=\"font-family:'Helvetica';font-size:56.03px;fill:#000000\" text-anchor=\"end\">By Network</text>\n",
       "\t<text x=\"1104.08\" y=\"6747.39\" style=\"font-family:'Helvetica';font-size:56.03px;fill:#000000\" text-anchor=\"end\">All sample</text>\n",
       "\t<line x1=\"1132.20\" y1=\"6816.38\" x2=\"5558.40\" y2=\"6816.38\" style=\"stroke:#000000;stroke-width:8.06\"/>\n",
       "\t<text x=\"1362.38\" y=\"6922.82\" style=\"font-family:'Helvetica';font-size:112.05px;fill:#000000\" text-anchor=\"middle\">1</text>\n",
       "\t<text x=\"5328.00\" y=\"6922.82\" style=\"font-family:'Helvetica';font-size:112.05px;fill:#000000\" text-anchor=\"middle\">15</text>\n",
       "\t<rect x=\"2032.65\" y=\"494.32\" width=\"2625.30\" height=\"488.25\" style=\"fill:#FFFFFF\"/>\n",
       "\t<rect x=\"2036.68\" y=\"498.36\" width=\"2617.24\" height=\"480.19\" style=\"fill:none;stroke:#FFFFFF;stroke-width:8.06\"/>\n",
       "\t<circle cx=\"2114.10\" cy=\"596.93\" r=\"20.90\" style=\"fill:#0000FF\"/>\n",
       "\t<circle cx=\"2114.10\" cy=\"596.93\" r=\"14.85\" style=\"fill:none;stroke:#0000FF;stroke-width:12.10\"/>\n",
       "\t<circle cx=\"2114.10\" cy=\"738.45\" r=\"14.85\" style=\"fill:none;stroke:#0000FF;stroke-width:12.10\"/>\n",
       "\t<line x1=\"2093.17\" y1=\"879.98\" x2=\"2135.03\" y2=\"879.98\" stroke-linecap=\"round\" style=\"fill:none;stroke:#0000FF;stroke-width:12.10\"/>\n",
       "\t<line x1=\"2114.10\" y1=\"900.90\" x2=\"2114.10\" y2=\"859.05\" stroke-linecap=\"round\" style=\"fill:none;stroke:#0000FF;stroke-width:12.10\"/>\n",
       "\t<circle cx=\"3474.00\" cy=\"596.93\" r=\"20.90\" style=\"fill:#FF0000\"/>\n",
       "\t<circle cx=\"3474.00\" cy=\"596.93\" r=\"14.85\" style=\"fill:none;stroke:#FF0000;stroke-width:12.10\"/>\n",
       "\t<rect x=\"3432.15\" y=\"696.38\" width=\"83.92\" height=\"84.15\" style=\"fill:#E0E0E0\"/>\n",
       "\t<rect x=\"3432.15\" y=\"696.38\" width=\"83.92\" height=\"84.15\" style=\"fill:none;stroke:#C0C0C0;stroke-width:0.00\"/>\n",
       "\t<rect x=\"3432.15\" y=\"838.13\" width=\"83.92\" height=\"83.93\" style=\"fill:#BFBFBF\"/>\n",
       "\t<rect x=\"3432.15\" y=\"838.13\" width=\"83.92\" height=\"83.93\" style=\"fill:none;stroke:#606060;stroke-width:0.00\"/>\n",
       "\t<text x=\"2255.18\" y=\"626.36\" style=\"fill:#000000\">\n",
       "\t\t<tspan style=\"font-family:'Helvetica';font-size:83.93px\">Point estimate (</tspan>\n",
       "\t\t<tspan style=\"font-family:'Helvetica';font-style:italic;font-size:83.93px\">p</tspan>\n",
       "\t\t<tspan style=\"font-family:'Helvetica';font-size:83.93px\">&lt;0.01)</tspan>\n",
       "\t</text>\n",
       "\t<text x=\"2255.18\" y=\"767.88\" style=\"fill:#000000\">\n",
       "\t\t<tspan style=\"font-family:'Helvetica';font-size:83.93px\">Point estimate (</tspan>\n",
       "\t\t<tspan style=\"font-family:'Helvetica';font-style:italic;font-size:83.93px\">p</tspan>\n",
       "\t\t<tspan style=\"font-family:'Helvetica';font-size:83.93px\">&lt;0.05)</tspan>\n",
       "\t</text>\n",
       "\t<text x=\"2255.18\" y=\"909.41\" style=\"fill:#000000\">\n",
       "\t\t<tspan style=\"font-family:'Helvetica';font-size:83.93px\">Point estimate (</tspan>\n",
       "\t\t<tspan style=\"font-family:'Helvetica';font-style:italic;font-size:83.93px\">p</tspan>\n",
       "\t\t<tspan style=\"font-family:'Helvetica';font-size:83.93px\">&lt;0.1)</tspan>\n",
       "\t</text>\n",
       "\t<text x=\"3636.00\" y=\"626.36\" style=\"fill:#000000\">\n",
       "\t\t<tspan style=\"font-family:'Helvetica';font-size:83.93px\">Point estimate (</tspan>\n",
       "\t\t<tspan style=\"font-family:'Helvetica';font-style:italic;font-size:83.93px\">p</tspan>\n",
       "\t\t<tspan style=\"font-family:'Helvetica';font-size:83.93px\">≥0.1)</tspan>\n",
       "\t</text>\n",
       "\t<text x=\"3636.00\" y=\"767.88\" style=\"font-family:'Helvetica';font-size:83.93px;fill:#000000\">99% CI (hidden)</text>\n",
       "\t<text x=\"3636.00\" y=\"909.41\" style=\"font-family:'Helvetica';font-size:83.93px;fill:#000000\">95% CI</text>\n",
       "\t<text x=\"3345.30\" y=\"362.97\" style=\"font-family:'Helvetica';font-size:195.98px;fill:#000000\" text-anchor=\"middle\">Specification Curve Analsyis of Proportion of Women</text>\n",
       "</svg>"
      ],
      "text/plain": [
       "<IPython.core.display.SVG object>"
      ]
     },
     "metadata": {},
     "output_type": "display_data"
    }
   ],
   "source": [
    "%%stata\n",
    "#delimit ;\n",
    "quietly specurve using \"readability_graph_specurve.yml\", cmd(ppmlhdfe)\n",
    "        desc noci99 width(8) height(10) relativesize(0.4)\n",
    "        scale(0.7) title(\"Specification Curve Analsyis of Proportion of Women\");\n",
    "#delimit crs"
   ]
  },
  {
   "cell_type": "code",
   "execution_count": 14,
   "metadata": {},
   "outputs": [
    {
     "name": "stdout",
     "output_type": "stream",
     "text": [
      "Line commented successfully!\n"
     ]
    }
   ],
   "source": [
    "# File name\n",
    "file_path = '../code/readability_graph_specurve.yml'\n",
    "\n",
    "# Read, modify, and save the file\n",
    "with open(file_path, 'r') as file:\n",
    "    lines = file.readlines()\n",
    "\n",
    "# Modify the target line\n",
    "modified_lines = []\n",
    "for line in lines:\n",
    "    if line.strip() == \"- Excess Sentences: excess_sentences\":\n",
    "        modified_lines.append(f\"#     {line}\")  # Comment out the line\n",
    "    else:\n",
    "        modified_lines.append(line)\n",
    "\n",
    "# Write the modified content back to the file\n",
    "with open(file_path, 'w') as file:\n",
    "    file.writelines(modified_lines)\n",
    "\n",
    "print(\"Line commented successfully!\")"
   ]
  },
  {
   "cell_type": "code",
   "execution_count": 15,
   "metadata": {},
   "outputs": [
    {
     "name": "stdout",
     "output_type": "stream",
     "text": [
      "Line uncommented successfully if it was commented!\n"
     ]
    }
   ],
   "source": [
    "# File name\n",
    "file_path = '../code/readability_graph_specurve.yml'\n",
    "\n",
    "# Read, modify, and save the file\n",
    "with open(file_path, 'r') as file:\n",
    "    lines = file.readlines()\n",
    "\n",
    "# Modify the target line\n",
    "modified_lines = []\n",
    "for line in lines:\n",
    "    stripped_line = line.strip()\n",
    "    if stripped_line.startswith(\"#     - log(F-K grade): log_flesch_kincaid_grade_level\"):\n",
    "        # Uncomment the line\n",
    "        modified_lines.append(line.replace(\"#     -\", \"-\"))  # Replace `#-` with `-`\n",
    "    else:\n",
    "        modified_lines.append(line)\n",
    "\n",
    "# Write the modified content back to the file\n",
    "with open(file_path, 'w') as file:\n",
    "    file.writelines(modified_lines)\n",
    "\n",
    "print(\"Line uncommented successfully if it was commented!\")"
   ]
  }
 ],
 "metadata": {
  "kernelspec": {
   "display_name": "Python 3",
   "language": "python",
   "name": "python3"
  },
  "language_info": {
   "codemirror_mode": {
    "name": "ipython",
    "version": 3
   },
   "file_extension": ".py",
   "mimetype": "text/x-python",
   "name": "python",
   "nbconvert_exporter": "python",
   "pygments_lexer": "ipython3",
   "version": "3.12.3"
  }
 },
 "nbformat": 4,
 "nbformat_minor": 4
}
