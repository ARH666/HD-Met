{
 "cells": [
  {
   "cell_type": "code",
   "execution_count": 1,
   "metadata": {},
   "outputs": [],
   "source": [
    "%%capture\n",
    "import stata_setup, os\n",
    "if os.name == 'nt':\n",
    "    stata_setup.config('C:/Program Files/Stata17/','mp')\n",
    "else:\n",
    "    stata_setup.config('/usr/local/stata17','mp')"
   ]
  },
  {
   "cell_type": "code",
   "execution_count": 2,
   "metadata": {},
   "outputs": [
    {
     "name": "stdout",
     "output_type": "stream",
     "text": [
      "\n"
     ]
    }
   ],
   "source": [
    "%%stata -qui\n",
    "\n",
    "use \"../data/data\", clear\n",
    "rename log_flesch_kincaid_grade_level FKG\n",
    "quietly tabulate year, generate(y_)\n",
    "quietly tabulate cluster, generate(c_)\n",
    "\n",
    "local journals  ecm jpe qje res  //AER based category\n",
    "\n",
    "local jel_imp a_imp b_imp c_imp  e_imp f_imp g_imp h_imp i_imp j_imp k_imp /// \n",
    "\t\tl_imp m_imp n_imp o_imp p_imp q_imp r_imp y_imp z_imp // D JEL based case"
   ]
  },
  {
   "cell_type": "markdown",
   "metadata": {},
   "source": [
    "## Poisson Regression"
   ]
  },
  {
   "cell_type": "markdown",
   "metadata": {},
   "source": [
    "We are interested in modelling the number of sentences in an abstract in excess of 3 (5\\% of articles have at most 3 sentences), i.e., our model is\n",
    "$$\n",
    "\\mathbb{E}[\\texttt{Excess Sentences}|\\texttt{log(Number authors)},\\texttt{log(Number pages)},\\texttt{Both genders},\\texttt{Proportion women}]\\\\\\\n",
    "= \\exp{\\left(\\beta_1\\log(\\text{Number authors})+\\beta_2\\log(\\text{Number pages})+\\beta_3\\texttt{Both genders}+\\theta\\texttt{Proportion women}\\right.}\\\\\\\n",
    "\\left.+\\texttt{Journals}+\\texttt{JEL codes}+\\texttt{Cluster}+\\texttt{Years}+\\texttt{JEL flag}+\\beta_{272}\\right)\n",
    "$$"
   ]
  },
  {
   "cell_type": "code",
   "execution_count": 3,
   "metadata": {},
   "outputs": [
    {
     "name": "stdout",
     "output_type": "stream",
     "text": [
      "\n"
     ]
    }
   ],
   "source": [
    "%%stata -qui\n",
    "summarize num_sentences, detail\n",
    "local cutoff_sentences = r(p5)\n",
    "gen int excess_sentences = num_sentences - `cutoff_sentences'\n",
    "replace excess_sentences = 0 if excess_sentences < 0"
   ]
  },
  {
   "cell_type": "code",
   "execution_count": 4,
   "metadata": {},
   "outputs": [
    {
     "name": "stdout",
     "output_type": "stream",
     "text": [
      "\n",
      ". set scheme s1mono\n",
      "\n",
      ". histogram excess_sentences, discrete freq width(1)\n",
      "(start=0, width=1)\n",
      "\n",
      ". \n"
     ]
    },
    {
     "data": {
      "image/svg+xml": [
       "<svg xmlns=\"http://www.w3.org/2000/svg\" xmlns:xlink=\"http://www.w3.org/1999/xlink\" version=\"1.1\" width=\"5.500in\" height=\"4.000in\" viewBox=\"0 0 3960 2880\">\n",
       "\t<desc>Stata Graph - Graph</desc>\n",
       "\t<rect x=\"0\" y=\"0\" width=\"3960\" height=\"2880\" style=\"fill:#FFFFFF;stroke:none\"/>\n",
       "\t<rect x=\"0.00\" y=\"0.00\" width=\"3959.88\" height=\"2880.00\" style=\"fill:#FFFFFF\"/>\n",
       "\t<rect x=\"2.88\" y=\"2.88\" width=\"3954.12\" height=\"2874.24\" style=\"fill:none;stroke:#FFFFFF;stroke-width:5.76\"/>\n",
       "\t<rect x=\"393.68\" y=\"103.74\" width=\"3462.46\" height=\"2382.57\" style=\"fill:none;stroke:#000000;stroke-width:5.76\"/>\n",
       "\t<rect x=\"528.41\" y=\"1752.97\" width=\"148.50\" height=\"736.21\" style=\"fill:#808080\"/>\n",
       "\t<rect x=\"532.73\" y=\"1757.29\" width=\"139.86\" height=\"727.57\" style=\"fill:none;stroke:#000000;stroke-width:8.64\"/>\n",
       "\t<rect x=\"676.91\" y=\"821.35\" width=\"148.50\" height=\"1667.83\" style=\"fill:#808080\"/>\n",
       "\t<rect x=\"681.23\" y=\"825.67\" width=\"139.86\" height=\"1659.19\" style=\"fill:none;stroke:#000000;stroke-width:8.64\"/>\n",
       "\t<rect x=\"825.41\" y=\"463.33\" width=\"148.50\" height=\"2025.85\" style=\"fill:#808080\"/>\n",
       "\t<rect x=\"829.73\" y=\"467.65\" width=\"139.86\" height=\"2017.21\" style=\"fill:none;stroke:#000000;stroke-width:8.64\"/>\n",
       "\t<rect x=\"973.91\" y=\"1024.43\" width=\"148.50\" height=\"1464.75\" style=\"fill:#808080\"/>\n",
       "\t<rect x=\"978.23\" y=\"1028.75\" width=\"139.86\" height=\"1456.11\" style=\"fill:none;stroke:#000000;stroke-width:8.64\"/>\n",
       "\t<rect x=\"1122.41\" y=\"1621.18\" width=\"148.50\" height=\"868.01\" style=\"fill:#808080\"/>\n",
       "\t<rect x=\"1126.73\" y=\"1625.50\" width=\"139.86\" height=\"859.37\" style=\"fill:none;stroke:#000000;stroke-width:8.64\"/>\n",
       "\t<rect x=\"1270.91\" y=\"1980.80\" width=\"148.62\" height=\"508.38\" style=\"fill:#808080\"/>\n",
       "\t<rect x=\"1275.23\" y=\"1985.12\" width=\"139.98\" height=\"499.74\" style=\"fill:none;stroke:#000000;stroke-width:8.64\"/>\n",
       "\t<rect x=\"1419.54\" y=\"2275.34\" width=\"148.50\" height=\"213.85\" style=\"fill:#808080\"/>\n",
       "\t<rect x=\"1423.86\" y=\"2279.66\" width=\"139.86\" height=\"205.21\" style=\"fill:none;stroke:#000000;stroke-width:8.64\"/>\n",
       "\t<rect x=\"1568.04\" y=\"2379.17\" width=\"148.50\" height=\"110.02\" style=\"fill:#808080\"/>\n",
       "\t<rect x=\"1572.36\" y=\"2383.49\" width=\"139.86\" height=\"101.38\" style=\"fill:none;stroke:#000000;stroke-width:8.64\"/>\n",
       "\t<rect x=\"1716.54\" y=\"2434.98\" width=\"148.50\" height=\"54.20\" style=\"fill:#808080\"/>\n",
       "\t<rect x=\"1720.86\" y=\"2439.30\" width=\"139.86\" height=\"45.56\" style=\"fill:none;stroke:#000000;stroke-width:8.64\"/>\n",
       "\t<rect x=\"1865.04\" y=\"2445.75\" width=\"148.50\" height=\"43.44\" style=\"fill:#808080\"/>\n",
       "\t<rect x=\"1869.36\" y=\"2450.07\" width=\"139.86\" height=\"34.80\" style=\"fill:none;stroke:#000000;stroke-width:8.64\"/>\n",
       "\t<rect x=\"2013.54\" y=\"2472.11\" width=\"148.50\" height=\"17.08\" style=\"fill:#808080\"/>\n",
       "\t<rect x=\"2017.86\" y=\"2476.43\" width=\"139.86\" height=\"8.44\" style=\"fill:none;stroke:#000000;stroke-width:8.64\"/>\n",
       "\t<rect x=\"2162.04\" y=\"2481.51\" width=\"148.50\" height=\"7.67\" style=\"fill:#808080\"/>\n",
       "\t<rect x=\"2166.36\" y=\"2484.87\" width=\"139.86\" height=\"0.97\" style=\"fill:none;stroke:#000000;stroke-width:8.64\"/>\n",
       "\t<rect x=\"2310.54\" y=\"2486.09\" width=\"148.50\" height=\"3.09\" style=\"fill:#808080\"/>\n",
       "\t<rect x=\"2314.86\" y=\"2484.87\" width=\"139.86\" height=\"5.55\" style=\"fill:none;stroke:#000000;stroke-width:8.64\"/>\n",
       "\t<rect x=\"2459.04\" y=\"2487.70\" width=\"148.62\" height=\"1.49\" style=\"fill:#808080\"/>\n",
       "\t<rect x=\"2463.36\" y=\"2484.87\" width=\"139.98\" height=\"7.15\" style=\"fill:none;stroke:#000000;stroke-width:8.64\"/>\n",
       "\t<rect x=\"2607.66\" y=\"2487.70\" width=\"148.50\" height=\"1.49\" style=\"fill:#808080\"/>\n",
       "\t<rect x=\"2611.98\" y=\"2484.87\" width=\"139.86\" height=\"7.15\" style=\"fill:none;stroke:#000000;stroke-width:8.64\"/>\n",
       "\t<rect x=\"2756.16\" y=\"2486.09\" width=\"148.50\" height=\"3.09\" style=\"fill:#808080\"/>\n",
       "\t<rect x=\"2760.48\" y=\"2484.87\" width=\"139.86\" height=\"5.55\" style=\"fill:none;stroke:#000000;stroke-width:8.64\"/>\n",
       "\t<rect x=\"2904.66\" y=\"2487.70\" width=\"148.50\" height=\"1.49\" style=\"fill:#808080\"/>\n",
       "\t<rect x=\"2908.98\" y=\"2484.87\" width=\"139.86\" height=\"7.15\" style=\"fill:none;stroke:#000000;stroke-width:8.64\"/>\n",
       "\t<rect x=\"3201.66\" y=\"2487.70\" width=\"148.50\" height=\"1.49\" style=\"fill:#808080\"/>\n",
       "\t<rect x=\"3205.98\" y=\"2484.87\" width=\"139.86\" height=\"7.15\" style=\"fill:none;stroke:#000000;stroke-width:8.64\"/>\n",
       "\t<rect x=\"3647.16\" y=\"2487.70\" width=\"148.50\" height=\"1.49\" style=\"fill:#808080\"/>\n",
       "\t<rect x=\"3651.48\" y=\"2484.87\" width=\"139.86\" height=\"7.15\" style=\"fill:none;stroke:#000000;stroke-width:8.64\"/>\n",
       "\t<line x1=\"390.80\" y1=\"2489.19\" x2=\"390.80\" y2=\"100.86\" style=\"stroke:#000000;stroke-width:5.76\"/>\n",
       "\t<line x1=\"390.80\" y1=\"2489.19\" x2=\"350.83\" y2=\"2489.19\" style=\"stroke:#000000;stroke-width:5.76\"/>\n",
       "\t<text x=\"300.72\" y=\"2489.19\" style=\"font-family:'Helvetica';font-size:99.99px;fill:#000000\" transform=\"rotate(-90 300.72,2489.19)\" text-anchor=\"middle\">0</text>\n",
       "\t<line x1=\"390.80\" y1=\"1714.24\" x2=\"350.83\" y2=\"1714.24\" style=\"stroke:#000000;stroke-width:5.76\"/>\n",
       "\t<text x=\"300.72\" y=\"1714.24\" style=\"font-family:'Helvetica';font-size:99.99px;fill:#000000\" transform=\"rotate(-90 300.72,1714.24)\" text-anchor=\"middle\">500</text>\n",
       "\t<line x1=\"390.80\" y1=\"939.17\" x2=\"350.83\" y2=\"939.17\" style=\"stroke:#000000;stroke-width:5.76\"/>\n",
       "\t<text x=\"300.72\" y=\"939.17\" style=\"font-family:'Helvetica';font-size:99.99px;fill:#000000\" transform=\"rotate(-90 300.72,939.17)\" text-anchor=\"middle\">1000</text>\n",
       "\t<line x1=\"390.80\" y1=\"164.22\" x2=\"350.83\" y2=\"164.22\" style=\"stroke:#000000;stroke-width:5.76\"/>\n",
       "\t<text x=\"300.72\" y=\"164.22\" style=\"font-family:'Helvetica';font-size:99.99px;fill:#000000\" transform=\"rotate(-90 300.72,164.22)\" text-anchor=\"middle\">1500</text>\n",
       "\t<text x=\"190.71\" y=\"1294.96\" style=\"font-family:'Helvetica';font-size:99.99px;fill:#000000\" transform=\"rotate(-90 190.71,1294.96)\" text-anchor=\"middle\">Frequency</text>\n",
       "\t<line x1=\"390.80\" y1=\"2489.19\" x2=\"3859.02\" y2=\"2489.19\" style=\"stroke:#000000;stroke-width:5.76\"/>\n",
       "\t<line x1=\"602.66\" y1=\"2489.19\" x2=\"602.66\" y2=\"2529.16\" style=\"stroke:#000000;stroke-width:5.76\"/>\n",
       "\t<text x=\"602.66\" y=\"2619.14\" style=\"font-family:'Helvetica';font-size:99.99px;fill:#000000\" text-anchor=\"middle\">0</text>\n",
       "\t<line x1=\"1345.29\" y1=\"2489.19\" x2=\"1345.29\" y2=\"2529.16\" style=\"stroke:#000000;stroke-width:5.76\"/>\n",
       "\t<text x=\"1345.29\" y=\"2619.14\" style=\"font-family:'Helvetica';font-size:99.99px;fill:#000000\" text-anchor=\"middle\">5</text>\n",
       "\t<line x1=\"2087.79\" y1=\"2489.19\" x2=\"2087.79\" y2=\"2529.16\" style=\"stroke:#000000;stroke-width:5.76\"/>\n",
       "\t<text x=\"2087.79\" y=\"2619.14\" style=\"font-family:'Helvetica';font-size:99.99px;fill:#000000\" text-anchor=\"middle\">10</text>\n",
       "\t<line x1=\"2830.41\" y1=\"2489.19\" x2=\"2830.41\" y2=\"2529.16\" style=\"stroke:#000000;stroke-width:5.76\"/>\n",
       "\t<text x=\"2830.41\" y=\"2619.14\" style=\"font-family:'Helvetica';font-size:99.99px;fill:#000000\" text-anchor=\"middle\">15</text>\n",
       "\t<line x1=\"3572.91\" y1=\"2489.19\" x2=\"3572.91\" y2=\"2529.16\" style=\"stroke:#000000;stroke-width:5.76\"/>\n",
       "\t<text x=\"3572.91\" y=\"2619.14\" style=\"font-family:'Helvetica';font-size:99.99px;fill:#000000\" text-anchor=\"middle\">20</text>\n",
       "\t<text x=\"2124.91\" y=\"2729.16\" style=\"font-family:'Helvetica';font-size:99.99px;fill:#000000\" text-anchor=\"middle\">excess_sentences</text>\n",
       "</svg>"
      ],
      "text/plain": [
       "<IPython.core.display.SVG object>"
      ]
     },
     "metadata": {},
     "output_type": "display_data"
    }
   ],
   "source": [
    "%%stata\n",
    "set scheme s1mono\n",
    "histogram excess_sentences, discrete freq width(1)"
   ]
  },
  {
   "cell_type": "code",
   "execution_count": 5,
   "metadata": {},
   "outputs": [
    {
     "name": "stdout",
     "output_type": "stream",
     "text": [
      "\n"
     ]
    }
   ],
   "source": [
    "%%stata -qui\n",
    "#delimit ;\n",
    "poisson excess_sentences log_num_authors log_num_pages both_genders prop_women\n",
    "\t\t\t          `journals' `jel_imp' y_2-y_20  c_2-c_215  jel_flag, vce(cluster cluster);\n",
    "#delimit cr"
   ]
  },
  {
   "cell_type": "code",
   "execution_count": 6,
   "metadata": {},
   "outputs": [
    {
     "name": "stdout",
     "output_type": "stream",
     "text": [
      "\n",
      "-----------------------------------------------------------------\n",
      "                                          Variable |   Active    \n",
      "---------------------------------------------------+-------------\n",
      "                Logarithm of the number of authors | -0.0118     \n",
      "                  Logarithm of the number of pages |  0.4093***  \n",
      "    Indicator if author team includes both genders |  0.0004     \n",
      "             Proportion of women among the authors |  0.0416*    \n",
      "Indicator of whether the article includes a JEL cl |  0.0349*    \n",
      "-----------------------------------------------------------------\n",
      "                         Legend: * p<0.05; ** p<0.01; *** p<0.001\n"
     ]
    }
   ],
   "source": [
    "%%stata\n",
    "estimates table, keep(log_num_authors log_num_pages both_genders prop_women jel_flag) b(%5.4f) star varwidth(50) varlabel"
   ]
  },
  {
   "cell_type": "code",
   "execution_count": 7,
   "metadata": {},
   "outputs": [
    {
     "name": "stdout",
     "output_type": "stream",
     "text": [
      "\n",
      "       _nl_1: _b[log_num_pages]\n",
      "       _nl_2: 100*_b[prop_women]\n",
      "       _nl_3: 100*(exp(_b[jel_flag])-1)\n",
      "\n",
      "------------------------------------------------------------------------------\n",
      "excess_sen~s | Coefficient  Std. err.      z    P>|z|     [95% conf. interval]\n",
      "-------------+----------------------------------------------------------------\n",
      "       _nl_1 |   .4093298   .0162724    25.15   0.000     .3774364    .4412231\n",
      "       _nl_2 |   4.157834   2.077484     2.00   0.045     .0860391    8.229628\n",
      "       _nl_3 |    3.54721   1.444164     2.46   0.014     .7166994     6.37772\n",
      "------------------------------------------------------------------------------\n"
     ]
    }
   ],
   "source": [
    "%%stata\n",
    "nlcom (_b[log_num_pages]) (100*_b[prop_women]) (100*(exp(_b[jel_flag])-1))"
   ]
  },
  {
   "cell_type": "markdown",
   "metadata": {},
   "source": [
    "Other factors equal:\n",
    "* The _elasticity_ of the expected number of sentences in excess of 3 for an article's abstract with respect to the article's number of pages is 0.41.\n",
    "* If an article's authors are all women (```prop_women``` goes from 0 to 1), the abstract's expected number of sentences in excess of 3 increase by 4.16\\%.\n",
    "* The expected number of sentences in excess of 3 for an article's abstract is roughly 3.55\\% higher when the JEL is imputed ceteris paribus."
   ]
  },
  {
   "cell_type": "code",
   "execution_count": 8,
   "metadata": {},
   "outputs": [
    {
     "name": "stdout",
     "output_type": "stream",
     "text": [
      "\n"
     ]
    }
   ],
   "source": [
    "%%stata -qui\n",
    "egen journal1 = group(journal)\n",
    "#delimit ;\n",
    "ppmlhdfe excess_sentences log_num_authors log_num_pages both_genders prop_women,\n",
    "                          absorb(journal1 a_imp b_imp c_imp  e_imp f_imp g_imp h_imp\n",
    "                                i_imp j_imp k_imp l_imp m_imp n_imp o_imp p_imp q_imp r_imp y_imp z_imp\n",
    "                                year ib0.cluster jel_flag) vce(cluster cluster);\n",
    "#delimit cr"
   ]
  },
  {
   "cell_type": "code",
   "execution_count": 9,
   "metadata": {},
   "outputs": [
    {
     "name": "stdout",
     "output_type": "stream",
     "text": [
      "\n",
      "-----------------------------------------------------------------\n",
      "                                          Variable |   Active    \n",
      "---------------------------------------------------+-------------\n",
      "                Logarithm of the number of authors | -0.0118     \n",
      "                  Logarithm of the number of pages |  0.4093***  \n",
      "    Indicator if author team includes both genders |  0.0004     \n",
      "             Proportion of women among the authors |  0.0416*    \n",
      "-----------------------------------------------------------------\n",
      "                         Legend: * p<0.05; ** p<0.01; *** p<0.001\n"
     ]
    }
   ],
   "source": [
    "%%stata\n",
    "estimates table, keep(log_num_authors log_num_pages both_genders prop_women) b(%5.4f) star varwidth(50) varlabel"
   ]
  }
 ],
 "metadata": {
  "kernelspec": {
   "display_name": "Python 3 (ipykernel)",
   "language": "python",
   "name": "python3"
  },
  "language_info": {
   "codemirror_mode": {
    "name": "ipython",
    "version": 3
   },
   "file_extension": ".py",
   "mimetype": "text/x-python",
   "name": "python",
   "nbconvert_exporter": "python",
   "pygments_lexer": "ipython3",
   "version": "3.12.3"
  }
 },
 "nbformat": 4,
 "nbformat_minor": 4
}
