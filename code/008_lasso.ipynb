{
 "cells": [
  {
   "cell_type": "code",
   "execution_count": 1,
   "id": "148a197f-7783-4929-8633-129c30e86609",
   "metadata": {},
   "outputs": [],
   "source": [
    "%%capture\n",
    "import stata_setup, os\n",
    "if os.name == 'nt':\n",
    "    stata_setup.config('C:/Program Files/Stata17/','mp')\n",
    "else:\n",
    "    stata_setup.config('/usr/local/stata17','mp')"
   ]
  },
  {
   "cell_type": "code",
   "execution_count": 2,
   "id": "d814ede9-df52-4716-90f0-34550f325a79",
   "metadata": {},
   "outputs": [
    {
     "name": "stdout",
     "output_type": "stream",
     "text": [
      "\n"
     ]
    }
   ],
   "source": [
    "%%stata -qui\n",
    "\n",
    "use \"../data/data\", clear\n",
    "rename log_flesch_kincaid_grade_level FKG\n",
    "quietly tabulate year, generate(y_)\n",
    "quietly tabulate cluster, generate(c_)\n",
    "\n",
    "local journals  ecm jpe qje res  //AER based category\n",
    "\n",
    "local jel_imp a_imp b_imp c_imp  e_imp f_imp g_imp h_imp i_imp j_imp k_imp /// \n",
    "\t\tl_imp m_imp n_imp o_imp p_imp q_imp r_imp y_imp z_imp // D JEL based case"
   ]
  },
  {
   "cell_type": "markdown",
   "id": "a7e53d1f-4964-42be-aac2-861195472420",
   "metadata": {},
   "source": [
    "## Lasso Regression"
   ]
  },
  {
   "cell_type": "code",
   "execution_count": 3,
   "id": "48f1a445-bad1-40ac-a418-4003534acc09",
   "metadata": {},
   "outputs": [
    {
     "name": "stdout",
     "output_type": "stream",
     "text": [
      "\n"
     ]
    }
   ],
   "source": [
    "%%stata -qui -eret steret\n",
    "#delimit ;\n",
    "lasso linear FKG log_num_authors log_num_pages both_genders prop_women\n",
    "        `journals' `jel_imp' y_2-y_20  c_2-c_215  jel_flag,\n",
    "        lambda(0.004) nolog;\n",
    "estimates store lasso;\n",
    "#delimit cr"
   ]
  },
  {
   "cell_type": "code",
   "execution_count": 4,
   "id": "71ccd7ac-97dc-4e71-bd49-a9f9f39ee526",
   "metadata": {},
   "outputs": [
    {
     "name": "stdout",
     "output_type": "stream",
     "text": [
      "------------------------------------------------------------------------------\n",
      "         FKG | Coefficient\n",
      "-------------+----------------------------------------------------------------\n",
      "   .0023597s |\n",
      "  prop_women |  -.0004395\n",
      "         ecm |   .0214475\n",
      "         res |   .0067892\n",
      "       c_imp |   .0100399\n",
      "       j_imp |  -.0002742\n",
      "       l_imp |  -.0040454\n",
      "       m_imp |  -.0058155\n",
      "       p_imp |   .0102725\n",
      "       z_imp |   .0082719\n",
      "         y_2 |  -.0020283\n",
      "        y_19 |   .0044503\n",
      "         c_2 |   -.003098\n",
      "         c_3 |   .0054662\n",
      "         c_4 |   .1700485\n",
      "        c_12 |   .0498898\n",
      "        c_13 |   .1115755\n",
      "        c_16 |   .0594836\n",
      "        c_17 |  -.0158877\n",
      "        c_19 |  -.0137163\n",
      "        c_30 |   .0670438\n",
      "        c_36 |  -.1482595\n",
      "        c_38 |  -.0000305\n",
      "        c_42 |   .0425364\n",
      "        c_45 |  -.0157608\n",
      "        c_50 |  -.1565083\n",
      "        c_52 |  -.0043919\n",
      "        c_54 |  -.0229245\n",
      "        c_60 |   .0412154\n",
      "        c_66 |   .0813038\n",
      "        c_73 |   .1517602\n",
      "        c_75 |   .0024826\n",
      "        c_86 |  -.1020278\n",
      "        c_94 |  -.0400086\n",
      "        c_98 |   .1022141\n",
      "       c_102 |   .0259034\n",
      "       c_108 |  -.0325671\n",
      "       c_139 |  -.0979775\n",
      "       c_145 |   .0984082\n",
      "       c_151 |  -.0926163\n",
      "       c_165 |   .1215557\n",
      "       c_166 |    .024236\n",
      "       c_180 |   -.089661\n",
      "       c_183 |  -.1468248\n",
      "       c_186 |   .0914555\n",
      "       c_187 |   .0236932\n",
      "       c_190 |  -.0046514\n",
      "       c_193 |  -.0476513\n",
      "       c_194 |   .0267322\n",
      "       c_198 |   .0244885\n",
      "       c_209 |    .005667\n",
      "       c_215 |   .0009984\n",
      "       _cons |   2.714494\n",
      "------------------------------------------------------------------------------\n"
     ]
    }
   ],
   "source": [
    "%stata ereturn display"
   ]
  },
  {
   "cell_type": "code",
   "execution_count": 5,
   "id": "2ddf7cfa-91ac-4475-83a8-5cfaa2d01e24",
   "metadata": {},
   "outputs": [
    {
     "name": "stdout",
     "output_type": "stream",
     "text": [
      "\n"
     ]
    }
   ],
   "source": [
    "%%stata -qui\n",
    "#delimit ;\n",
    "elasticnet linear FKG log_num_authors log_num_pages both_genders prop_women\n",
    "        `journals' `jel_imp' y_2-y_20  c_2-c_215  jel_flag,\n",
    "        alpha(0) lambda(1.4) nolog;\n",
    "estimates store ridge;\n",
    "#delimit cr"
   ]
  },
  {
   "cell_type": "code",
   "execution_count": 6,
   "id": "68833460-5f93-4d06-a22f-0e18b7f335cf",
   "metadata": {},
   "outputs": [
    {
     "name": "stdout",
     "output_type": "stream",
     "text": [
      "\n",
      "--------------------------------------\n",
      "                |   ridge     lasso   \n",
      "----------------+---------------------\n",
      "log_num_authors |     x    \n",
      "  log_num_pages |     x         x     \n",
      "   both_genders |     x    \n",
      "     prop_women |     x         x     \n",
      "            ecm |     x         x     \n",
      "            jpe |     x    \n",
      "            qje |     x    \n",
      "            res |     x         x     \n",
      "          a_imp |     x    \n",
      "          b_imp |     x    \n",
      "          c_imp |     x         x     \n",
      "          e_imp |     x    \n",
      "          f_imp |     x    \n",
      "          g_imp |     x    \n",
      "          h_imp |     x    \n",
      "          i_imp |     x    \n",
      "          j_imp |     x         x     \n",
      "          k_imp |     x    \n",
      "          l_imp |     x         x     \n",
      "          m_imp |     x         x     \n",
      "          n_imp |     x    \n",
      "          o_imp |     x    \n",
      "          p_imp |     x         x     \n",
      "          q_imp |     x    \n",
      "          r_imp |     x    \n",
      "          z_imp |     x         x     \n",
      "            y_2 |     x         x     \n",
      "            y_3 |     x    \n",
      "            y_4 |     x    \n",
      "            y_5 |     x    \n",
      "            y_6 |     x    \n",
      "            y_7 |     x    \n",
      "            y_8 |     x    \n",
      "            y_9 |     x    \n",
      "           y_10 |     x    \n",
      "           y_11 |     x    \n",
      "           y_12 |     x    \n",
      "           y_13 |     x    \n",
      "           y_14 |     x    \n",
      "           y_15 |     x    \n",
      "           y_16 |     x    \n",
      "           y_17 |     x    \n",
      "           y_18 |     x    \n",
      "           y_19 |     x         x     \n",
      "           y_20 |     x    \n",
      "            c_2 |     x         x     \n",
      "            c_3 |     x         x     \n",
      "            c_4 |     x         x     \n",
      "            c_5 |     x    \n",
      "            c_6 |     x    \n",
      "            c_7 |     x    \n",
      "            c_8 |     x    \n",
      "            c_9 |     x    \n",
      "           c_10 |     x    \n",
      "           c_11 |     x    \n",
      "           c_12 |     x         x     \n",
      "           c_13 |     x         x     \n",
      "           c_14 |     x    \n",
      "           c_15 |     x    \n",
      "           c_16 |     x         x     \n",
      "           c_17 |     x         x     \n",
      "           c_18 |     x    \n",
      "           c_19 |     x         x     \n",
      "           c_20 |     x    \n",
      "           c_21 |     x    \n",
      "           c_22 |     x    \n",
      "           c_23 |     x    \n",
      "           c_24 |     x    \n",
      "           c_25 |     x    \n",
      "           c_26 |     x    \n",
      "           c_27 |     x    \n",
      "           c_28 |     x    \n",
      "           c_29 |     x    \n",
      "           c_30 |     x         x     \n",
      "           c_31 |     x    \n",
      "           c_32 |     x    \n",
      "           c_34 |     x    \n",
      "           c_35 |     x    \n",
      "           c_36 |     x         x     \n",
      "           c_37 |     x    \n",
      "           c_38 |     x         x     \n",
      "           c_39 |     x    \n",
      "           c_41 |     x    \n",
      "           c_42 |     x         x     \n",
      "           c_43 |     x    \n",
      "           c_44 |     x    \n",
      "           c_45 |     x         x     \n",
      "           c_46 |     x    \n",
      "           c_47 |     x    \n",
      "           c_48 |     x    \n",
      "           c_49 |     x    \n",
      "           c_50 |     x         x     \n",
      "           c_51 |     x    \n",
      "           c_52 |     x         x     \n",
      "           c_53 |     x    \n",
      "           c_54 |     x         x     \n",
      "           c_55 |     x    \n",
      "           c_56 |     x    \n",
      "           c_57 |     x    \n",
      "           c_58 |     x    \n",
      "           c_59 |     x    \n",
      "           c_60 |     x         x     \n",
      "           c_62 |     x    \n",
      "           c_64 |     x    \n",
      "           c_65 |     x    \n",
      "           c_66 |     x         x     \n",
      "           c_67 |     x    \n",
      "           c_68 |     x    \n",
      "           c_69 |     x    \n",
      "           c_70 |     x    \n",
      "           c_71 |     x    \n",
      "           c_72 |     x    \n",
      "           c_73 |     x         x     \n",
      "           c_74 |     x    \n",
      "           c_75 |     x         x     \n",
      "           c_76 |     x    \n",
      "           c_77 |     x    \n",
      "           c_78 |     x    \n",
      "           c_79 |     x    \n",
      "           c_80 |     x    \n",
      "           c_81 |     x    \n",
      "           c_82 |     x    \n",
      "           c_83 |     x    \n",
      "           c_84 |     x    \n",
      "           c_85 |     x    \n",
      "           c_86 |     x         x     \n",
      "           c_87 |     x    \n",
      "           c_88 |     x    \n",
      "           c_89 |     x    \n",
      "           c_90 |     x    \n",
      "           c_92 |     x    \n",
      "           c_93 |     x    \n",
      "           c_94 |     x         x     \n",
      "           c_95 |     x    \n",
      "           c_96 |     x    \n",
      "           c_97 |     x    \n",
      "           c_98 |     x         x     \n",
      "           c_99 |     x    \n",
      "          c_101 |     x    \n",
      "          c_102 |     x         x     \n",
      "          c_103 |     x    \n",
      "          c_104 |     x    \n",
      "          c_105 |     x    \n",
      "          c_106 |     x    \n",
      "          c_107 |     x    \n",
      "          c_108 |     x         x     \n",
      "          c_109 |     x    \n",
      "          c_110 |     x    \n",
      "          c_111 |     x    \n",
      "          c_112 |     x    \n",
      "          c_113 |     x    \n",
      "          c_114 |     x    \n",
      "          c_115 |     x    \n",
      "          c_116 |     x    \n",
      "          c_117 |     x    \n",
      "          c_118 |     x    \n",
      "          c_119 |     x    \n",
      "          c_120 |     x    \n",
      "          c_121 |     x    \n",
      "          c_122 |     x    \n",
      "          c_123 |     x    \n",
      "          c_124 |     x    \n",
      "          c_125 |     x    \n",
      "          c_126 |     x    \n",
      "          c_127 |     x    \n",
      "          c_129 |     x    \n",
      "          c_130 |     x    \n",
      "          c_131 |     x    \n",
      "          c_132 |     x    \n",
      "          c_133 |     x    \n",
      "          c_134 |     x    \n",
      "          c_135 |     x    \n",
      "          c_136 |     x    \n",
      "          c_137 |     x    \n",
      "          c_138 |     x    \n",
      "          c_139 |     x         x     \n",
      "          c_140 |     x    \n",
      "          c_141 |     x    \n",
      "          c_142 |     x    \n",
      "          c_143 |     x    \n",
      "          c_144 |     x    \n",
      "          c_145 |     x         x     \n",
      "          c_146 |     x    \n",
      "          c_147 |     x    \n",
      "          c_148 |     x    \n",
      "          c_149 |     x    \n",
      "          c_150 |     x    \n",
      "          c_151 |     x         x     \n",
      "          c_152 |     x    \n",
      "          c_153 |     x    \n",
      "          c_154 |     x    \n",
      "          c_156 |     x    \n",
      "          c_157 |     x    \n",
      "          c_158 |     x    \n",
      "          c_159 |     x    \n",
      "          c_160 |     x    \n",
      "          c_161 |     x    \n",
      "          c_162 |     x    \n",
      "          c_163 |     x    \n",
      "          c_164 |     x    \n",
      "          c_165 |     x         x     \n",
      "          c_166 |     x         x     \n",
      "          c_167 |     x    \n",
      "          c_168 |     x    \n",
      "          c_169 |     x    \n",
      "          c_172 |     x    \n",
      "          c_173 |     x    \n",
      "          c_174 |     x    \n",
      "          c_175 |     x    \n",
      "          c_176 |     x    \n",
      "          c_177 |     x    \n",
      "          c_178 |     x    \n",
      "          c_179 |     x    \n",
      "          c_180 |     x         x     \n",
      "          c_181 |     x    \n",
      "          c_182 |     x    \n",
      "          c_183 |     x         x     \n",
      "          c_185 |     x    \n",
      "          c_187 |     x         x     \n",
      "          c_188 |     x    \n",
      "          c_189 |     x    \n",
      "          c_190 |     x         x     \n",
      "          c_191 |     x    \n",
      "          c_192 |     x    \n",
      "          c_193 |     x         x     \n",
      "          c_196 |     x    \n",
      "     x    c_197 |\n",
      "          c_198 |     x         x     \n",
      "          c_199 |     x    \n",
      "          c_200 |     x    \n",
      "          c_201 |     x    \n",
      "          c_202 |     x    \n",
      "          c_203 |     x    \n",
      "          c_205 |     x    \n",
      "          c_206 |     x    \n",
      "          c_209 |     x         x     \n",
      "          c_210 |     x    \n",
      "          c_211 |     x    \n",
      "          c_212 |     x    \n",
      "          c_213 |     x    \n",
      "          c_215 |     x         x     \n",
      "       jel_flag |     x    \n",
      "          c_186 |               x     \n",
      "          c_194 |               x     \n",
      "          _cons |     x         x     \n",
      "--------------------------------------\n",
      "Legend:\n",
      "  b - base level\n",
      "  e - empty cell\n",
      "  o - omitted\n",
      "  x - estimated\n"
     ]
    }
   ],
   "source": [
    "%stata lassocoef ridge lasso"
   ]
  },
  {
   "cell_type": "code",
   "execution_count": 7,
   "id": "06df9bbf-a2b6-475d-9c80-3895826e8e4a",
   "metadata": {},
   "outputs": [
    {
     "name": "stdout",
     "output_type": "stream",
     "text": [
      "\n"
     ]
    }
   ],
   "source": [
    "%%stata -qui\n",
    "#delimit ;\n",
    "lasso linear FKG log_num_authors log_num_pages both_genders prop_women\n",
    "        `journals' `jel_imp' y_2-y_20  c_2-c_215  jel_flag,\n",
    "        nolog folds(20) rseed(42);\n",
    "estimates store cv;\n",
    "#delimit cr"
   ]
  },
  {
   "cell_type": "code",
   "execution_count": 8,
   "id": "25df55ae-275f-4b82-8112-8698c0e94c44",
   "metadata": {},
   "outputs": [
    {
     "data": {
      "image/png": "[encoded data removed]",
      "text/plain": [
       "<IPython.core.display.Image object>"
      ]
     },
     "metadata": {},
     "output_type": "display_data"
    }
   ],
   "source": [
    "%stata cvplot, minmax"
   ]
  },
  {
   "cell_type": "code",
   "execution_count": 9,
   "id": "c3469f2a-6493-42b9-a1ae-71ac2047134d",
   "metadata": {},
   "outputs": [
    {
     "name": "stdout",
     "output_type": "stream",
     "text": [
      "\n",
      ". #delimit ;\n",
      "delimiter now ;\n",
      ". lasso linear FKG log_num_authors log_num_pages both_genders prop_women\n",
      ">         `journals' `jel_imp' y_2-y_20  c_2-c_215  jel_flag,\n",
      ">         nolog sel(cv,serule) folds(100) rseed(42);\n",
      "\n",
      "Lasso linear model                          No. of obs        =      4,988\n",
      "                                            No. of covariates =        258\n",
      "Selection: Cross-validation one s.e. rule   No. of CV folds   =        100\n",
      "\n",
      "--------------------------------------------------------------------------\n",
      "         |                                No. of      Out-of-      CV mean\n",
      "         |                               nonzero       sample   prediction\n",
      "      ID |     Description      lambda     coef.    R-squared        error\n",
      "---------+----------------------------------------------------------------\n",
      "     * 1 | selected lambda    .0137899         0      -0.0004     .0281436\n",
      "       2 |    lambda after    .0125649         1       0.0005     .0281188\n",
      "      25 |     last lambda    .0014786       158       0.0134     .0277561\n",
      "--------------------------------------------------------------------------\n",
      "* lambda selected by cross-validation one s.e. rule.\n",
      "\n",
      ". #delimit cr\n",
      "delimiter now cr\n",
      ". \n"
     ]
    }
   ],
   "source": [
    "%%stata\n",
    "#delimit ;\n",
    "lasso linear FKG log_num_authors log_num_pages both_genders prop_women\n",
    "        `journals' `jel_imp' y_2-y_20  c_2-c_215  jel_flag,\n",
    "        nolog sel(cv,serule) folds(100) rseed(42);\n",
    "#delimit cr"
   ]
  },
  {
   "cell_type": "markdown",
   "id": "e5af209c-af8b-4b74-bafc-e875ab5fe4d3",
   "metadata": {},
   "source": [
    "Step 1"
   ]
  },
  {
   "cell_type": "code",
   "execution_count": 10,
   "id": "7044db1e-4d0c-43d5-b225-2daecdac9b35",
   "metadata": {},
   "outputs": [
    {
     "data": {
      "text/plain": [
       "'log_num_pages prop_women ecm res c_imp j_imp l_imp m_imp p_imp z_imp y_2 y_19 c_2 c_3 c_4 c_12 c_13 c_16 c_17 c_19 c_30 c_36 c_38 c_42 c_45 c_50 c_52 c_54 c_60 c_66 c_73 c_75 c_86 c_94 c_98 c_102 c_108 c_139 c_145 c_151 c_165 c_166 c_180 c_183 c_186 c_187 c_190 c_193 c_194 c_198 c_209 c_215'"
      ]
     },
     "execution_count": 10,
     "metadata": {},
     "output_type": "execute_result"
    }
   ],
   "source": [
    "steret['e(allvars_sel)']"
   ]
  },
  {
   "cell_type": "markdown",
   "id": "6382d4a2-ef38-42f5-9295-d26da0a11105",
   "metadata": {},
   "source": [
    "Step 2"
   ]
  },
  {
   "cell_type": "code",
   "execution_count": 11,
   "id": "f3b7f455-2cc6-47f2-a5c0-c0d57ae34666",
   "metadata": {},
   "outputs": [
    {
     "data": {
      "text/plain": [
       "array([[ 0.01619588, -0.01271079,  0.02942181,  0.01834324,  0.01403871,\n",
       "        -0.00966217, -0.00981967, -0.01423334,  0.03180837,  0.03040684,\n",
       "        -0.01660127,  0.01998842, -0.0132574 ,  0.1700719 ,  0.33975728,\n",
       "         0.26341346,  0.30595317,  0.22756923, -0.08819735, -0.15223669,\n",
       "         0.13557891, -0.35171181, -0.14866494,  0.24885568, -0.10186321,\n",
       "        -0.35858156, -0.16314212, -0.13988524,  0.15083912,  0.28664969,\n",
       "         0.30666366,  0.09434489, -0.32964873, -0.15622047,  0.23506107,\n",
       "         0.11780536, -0.22804017, -0.26717355,  0.21081936, -0.27031132,\n",
       "         0.30174348,  0.21232284, -0.29287214, -0.29956206,  0.29179373,\n",
       "         0.17902457, -0.2273103 , -0.19565426,  0.1993974 ,  0.18060527,\n",
       "         0.18037651,  0.19166047,  2.67286643]])"
      ]
     },
     "execution_count": 11,
     "metadata": {},
     "output_type": "execute_result"
    }
   ],
   "source": [
    "steret['e(b_postselection)']"
   ]
  }
 ],
 "metadata": {
  "kernelspec": {
   "display_name": "Python 3 (ipykernel)",
   "language": "python",
   "name": "python3"
  },
  "language_info": {
   "codemirror_mode": {
    "name": "ipython",
    "version": 3
   },
   "file_extension": ".py",
   "mimetype": "text/x-python",
   "name": "python",
   "nbconvert_exporter": "python",
   "pygments_lexer": "ipython3",
   "version": "3.10.8"
  },
  "vscode": {
   "interpreter": {
    "hash": "11938c6bc6919ae2720b4d5011047913343b08a43b18698fd82dedb0d4417594"
   }
  }
 },
 "nbformat": 4,
 "nbformat_minor": 5
}
